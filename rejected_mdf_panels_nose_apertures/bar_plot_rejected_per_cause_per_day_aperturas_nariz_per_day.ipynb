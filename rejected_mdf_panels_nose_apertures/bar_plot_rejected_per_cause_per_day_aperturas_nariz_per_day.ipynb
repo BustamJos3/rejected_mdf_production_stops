{
 "cells": [
  {
   "cell_type": "code",
   "execution_count": 1,
   "id": "4376e1ae-3b2f-476e-8e30-0cf97281c5a8",
   "metadata": {},
   "outputs": [],
   "source": [
    "import pandas as pd #modules\n",
    "import numpy as np\n",
    "import matplotlib\n",
    "import matplotlib.pyplot as plt\n",
    "import matplotlib.colors as mcolors\n",
    "import os\n",
    "import pathlib\n",
    "from pathlib import Path\n",
    "from datetime import datetime\n",
    "import time"
   ]
  },
  {
   "cell_type": "code",
   "execution_count": 2,
   "id": "6c8dedd6-c78a-47f4-9d6d-1d7d6bb48d18",
   "metadata": {},
   "outputs": [],
   "source": [
    "import os\n",
    "\n",
    "def find_reports_in_onedrive():\n",
    "    \"\"\"\n",
    "    Scans the subfolders under the current user's OneDrive folder (including variations like 'OneDrive - Company Name')\n",
    "    and returns the paths of all folders with the prefix 'reports'.\n",
    "\n",
    "    Returns:\n",
    "        list: A list of full paths to folders starting with 'reports', or an empty list if none are found.\n",
    "    \"\"\"\n",
    "    # Get the base path to the user's home directory\n",
    "    user_home = os.path.expanduser(\"~\")\n",
    "\n",
    "    # Find the OneDrive folder (handles variations like \"OneDrive - Company Name\")\n",
    "    onedrive_folder = None\n",
    "    for folder in os.listdir(user_home):\n",
    "        if folder.startswith(\"OneDrive -\"):\n",
    "            onedrive_folder = os.path.join(user_home, folder)\n",
    "            break\n",
    "\n",
    "    if not onedrive_folder:\n",
    "        raise FileNotFoundError(\"OneDrive folder not found for the current user.\")\n",
    "\n",
    "    # Search for folders with the prefix 'reports' in the OneDrive directory\n",
    "    report_folders = []\n",
    "    for root, dirs, files in os.walk(onedrive_folder):\n",
    "        for dir_name in dirs:\n",
    "            if dir_name.lower().startswith(\"reports\"):\n",
    "                report_folders.append(os.path.join(root, dir_name))\n",
    "\n",
    "    return report_folders"
   ]
  },
  {
   "cell_type": "code",
   "execution_count": 3,
   "id": "5193c083-ee59-4a5c-8263-66f5815aff58",
   "metadata": {},
   "outputs": [
    {
     "data": {
      "text/plain": [
       "['C:\\\\Users\\\\jdbustamante\\\\OneDrive - Duratex SA\\\\reports_control_variables_refinacion',\n",
       " 'C:\\\\Users\\\\jdbustamante\\\\OneDrive - Duratex SA\\\\reports_cuchillas',\n",
       " 'C:\\\\Users\\\\jdbustamante\\\\OneDrive - Duratex SA\\\\reports_eventos',\n",
       " 'C:\\\\Users\\\\jdbustamante\\\\OneDrive - Duratex SA\\\\reports_humidity_measures',\n",
       " 'C:\\\\Users\\\\jdbustamante\\\\OneDrive - Duratex SA\\\\reports_ops_pendings',\n",
       " 'C:\\\\Users\\\\jdbustamante\\\\OneDrive - Duratex SA\\\\reports_pre-usos_diligenciamiento_no_cumple',\n",
       " 'C:\\\\Users\\\\jdbustamante\\\\OneDrive - Duratex SA\\\\reports_quality_deviations',\n",
       " 'C:\\\\Users\\\\jdbustamante\\\\OneDrive - Duratex SA\\\\reports_refination_deviations',\n",
       " 'C:\\\\Users\\\\jdbustamante\\\\OneDrive - Duratex SA\\\\reports_visualizacion_data_produccion',\n",
       " 'C:\\\\Users\\\\jdbustamante\\\\OneDrive - Duratex SA\\\\control_room\\\\reports_causa_rechazos']"
      ]
     },
     "execution_count": 3,
     "metadata": {},
     "output_type": "execute_result"
    }
   ],
   "source": [
    "reports_paths=find_reports_in_onedrive()\n",
    "reports_paths"
   ]
  },
  {
   "cell_type": "code",
   "execution_count": 4,
   "id": "dbceafdf-54b5-4480-8a29-4817aa509271",
   "metadata": {},
   "outputs": [
    {
     "data": {
      "text/plain": [
       "WindowsPath('C:/Users/jdbustamante/OneDrive - Duratex SA/reports_visualizacion_data_produccion/source_and_return_data')"
      ]
     },
     "execution_count": 4,
     "metadata": {},
     "output_type": "execute_result"
    }
   ],
   "source": [
    "str_folder_searcher=\"reports_visualizacion_data_produccion\"\n",
    "for report_path in reports_paths:\n",
    "    if str_folder_searcher in report_path:\n",
    "        path=Path(reports_paths[reports_paths.index(report_path)])\n",
    "path=Path.joinpath(path,\"source_and_return_data\")\n",
    "path"
   ]
  },
  {
   "cell_type": "markdown",
   "id": "89c9492e-5f93-440b-b724-45f6f208ee78",
   "metadata": {},
   "source": [
    "# parquet_conversor_excel_file_cleaner"
   ]
  },
  {
   "cell_type": "code",
   "execution_count": 5,
   "id": "40cc4ca4-5014-4ca1-b599-fbff78f6fd5b",
   "metadata": {},
   "outputs": [],
   "source": [
    "import os\n",
    "import pandas as pd\n",
    "\n",
    "def convert_excels_to_parquet(folder_path):\n",
    "    \"\"\"\n",
    "    Converts all Excel files in a folder to Parquet format, removes the original Excel files,\n",
    "    and skips the most recent Excel file.\n",
    "\n",
    "    Args:\n",
    "        folder_path (str): Path to the folder containing Excel files.\n",
    "    \"\"\"\n",
    "    # Ensure the folder exists\n",
    "    if not os.path.exists(folder_path):\n",
    "        raise FileNotFoundError(f\"The folder {folder_path} does not exist.\")\n",
    "\n",
    "    # List all Excel files in the folder\n",
    "    excel_files = [f for f in os.listdir(folder_path) if f.endswith(('.xlsx', '.xls'))]\n",
    "\n",
    "    if not excel_files:\n",
    "        print(\"No Excel files found in the folder.\")\n",
    "        return\n",
    "\n",
    "    # Find the most recent Excel file\n",
    "    full_paths = [os.path.join(folder_path, f) for f in excel_files]\n",
    "    most_recent_file = max(full_paths, key=os.path.getmtime)\n",
    "    most_recent_file_name = os.path.basename(most_recent_file)\n",
    "    print(f\"Skipping the most recent file: {most_recent_file_name}\")\n",
    "\n",
    "    for excel_file in excel_files:\n",
    "        if excel_file == most_recent_file_name:\n",
    "            continue  # Skip the most recent file\n",
    "\n",
    "        try:\n",
    "            # Full path to the Excel file\n",
    "            excel_path = os.path.join(folder_path, excel_file)\n",
    "\n",
    "            # Read the Excel file into a DataFrame\n",
    "            df = pd.read_excel(excel_path)\n",
    "            # Convert all data to strings\n",
    "            df = df.astype(str)\n",
    "\n",
    "            # Generate the Parquet file path\n",
    "            parquet_file = os.path.splitext(excel_file)[0] + \".parquet\"\n",
    "            parquet_path = os.path.join(folder_path, parquet_file)\n",
    "\n",
    "            # Write the DataFrame to a Parquet file\n",
    "            df.to_parquet(parquet_path, index=False)\n",
    "            print(f\"Converted: {excel_file} -> {parquet_file}\")\n",
    "\n",
    "            # Remove the original Excel file\n",
    "            os.remove(excel_path)\n",
    "            print(f\"Removed: {excel_file}\")\n",
    "\n",
    "        except Exception as e:\n",
    "            print(f\"Error processing {excel_file}: {e}\")"
   ]
  },
  {
   "cell_type": "code",
   "execution_count": 6,
   "id": "8dcbfd07-da9c-4188-b218-107934ddd3d9",
   "metadata": {},
   "outputs": [
    {
     "name": "stdout",
     "output_type": "stream",
     "text": [
      "Skipping the most recent file: causa_rechazos_aperturas_nariz_2025-02-01_2025-02-03.xlsx\n",
      "Error processing causa_rechazos_aperturas_nariz_2025-01-01_2025-01-16.xlsx: Unable to find a usable engine; tried using: 'pyarrow', 'fastparquet'.\n",
      "A suitable version of pyarrow or fastparquet is required for parquet support.\n",
      "Trying to import the above resulted in these errors:\n",
      " - Missing optional dependency 'pyarrow'. pyarrow is required for parquet support. Use pip or conda to install pyarrow.\n",
      " - Missing optional dependency 'fastparquet'. fastparquet is required for parquet support. Use pip or conda to install fastparquet.\n",
      "Error processing causa_rechazos_aperturas_nariz_2025-01-01_2025-01-19.xlsx: Unable to find a usable engine; tried using: 'pyarrow', 'fastparquet'.\n",
      "A suitable version of pyarrow or fastparquet is required for parquet support.\n",
      "Trying to import the above resulted in these errors:\n",
      " - Missing optional dependency 'pyarrow'. pyarrow is required for parquet support. Use pip or conda to install pyarrow.\n",
      " - Missing optional dependency 'fastparquet'. fastparquet is required for parquet support. Use pip or conda to install fastparquet.\n",
      "Error processing causa_rechazos_aperturas_nariz_2025-01-01_2025-01-20.xlsx: Unable to find a usable engine; tried using: 'pyarrow', 'fastparquet'.\n",
      "A suitable version of pyarrow or fastparquet is required for parquet support.\n",
      "Trying to import the above resulted in these errors:\n",
      " - Missing optional dependency 'pyarrow'. pyarrow is required for parquet support. Use pip or conda to install pyarrow.\n",
      " - Missing optional dependency 'fastparquet'. fastparquet is required for parquet support. Use pip or conda to install fastparquet.\n",
      "Error processing causa_rechazos_aperturas_nariz_2025-01-01_2025-01-21.xlsx: Unable to find a usable engine; tried using: 'pyarrow', 'fastparquet'.\n",
      "A suitable version of pyarrow or fastparquet is required for parquet support.\n",
      "Trying to import the above resulted in these errors:\n",
      " - Missing optional dependency 'pyarrow'. pyarrow is required for parquet support. Use pip or conda to install pyarrow.\n",
      " - Missing optional dependency 'fastparquet'. fastparquet is required for parquet support. Use pip or conda to install fastparquet.\n",
      "Error processing causa_rechazos_aperturas_nariz_2025-01-01_2025-01-22.xlsx: Unable to find a usable engine; tried using: 'pyarrow', 'fastparquet'.\n",
      "A suitable version of pyarrow or fastparquet is required for parquet support.\n",
      "Trying to import the above resulted in these errors:\n",
      " - Missing optional dependency 'pyarrow'. pyarrow is required for parquet support. Use pip or conda to install pyarrow.\n",
      " - Missing optional dependency 'fastparquet'. fastparquet is required for parquet support. Use pip or conda to install fastparquet.\n",
      "Error processing causa_rechazos_aperturas_nariz_2025-01-01_2025-01-23.xlsx: Unable to find a usable engine; tried using: 'pyarrow', 'fastparquet'.\n",
      "A suitable version of pyarrow or fastparquet is required for parquet support.\n",
      "Trying to import the above resulted in these errors:\n",
      " - Missing optional dependency 'pyarrow'. pyarrow is required for parquet support. Use pip or conda to install pyarrow.\n",
      " - Missing optional dependency 'fastparquet'. fastparquet is required for parquet support. Use pip or conda to install fastparquet.\n",
      "Error processing causa_rechazos_aperturas_nariz_2025-01-01_2025-01-26.xlsx: Unable to find a usable engine; tried using: 'pyarrow', 'fastparquet'.\n",
      "A suitable version of pyarrow or fastparquet is required for parquet support.\n",
      "Trying to import the above resulted in these errors:\n",
      " - Missing optional dependency 'pyarrow'. pyarrow is required for parquet support. Use pip or conda to install pyarrow.\n",
      " - Missing optional dependency 'fastparquet'. fastparquet is required for parquet support. Use pip or conda to install fastparquet.\n",
      "Error processing causa_rechazos_aperturas_nariz_2025-01-01_2025-01-27.xlsx: Unable to find a usable engine; tried using: 'pyarrow', 'fastparquet'.\n",
      "A suitable version of pyarrow or fastparquet is required for parquet support.\n",
      "Trying to import the above resulted in these errors:\n",
      " - Missing optional dependency 'pyarrow'. pyarrow is required for parquet support. Use pip or conda to install pyarrow.\n",
      " - Missing optional dependency 'fastparquet'. fastparquet is required for parquet support. Use pip or conda to install fastparquet.\n",
      "Error processing causa_rechazos_aperturas_nariz_2025-01-01_2025-01-28.xlsx: Unable to find a usable engine; tried using: 'pyarrow', 'fastparquet'.\n",
      "A suitable version of pyarrow or fastparquet is required for parquet support.\n",
      "Trying to import the above resulted in these errors:\n",
      " - Missing optional dependency 'pyarrow'. pyarrow is required for parquet support. Use pip or conda to install pyarrow.\n",
      " - Missing optional dependency 'fastparquet'. fastparquet is required for parquet support. Use pip or conda to install fastparquet.\n",
      "Error processing causa_rechazos_aperturas_nariz_2025-01-01_2025-01-29.xlsx: Unable to find a usable engine; tried using: 'pyarrow', 'fastparquet'.\n",
      "A suitable version of pyarrow or fastparquet is required for parquet support.\n",
      "Trying to import the above resulted in these errors:\n",
      " - Missing optional dependency 'pyarrow'. pyarrow is required for parquet support. Use pip or conda to install pyarrow.\n",
      " - Missing optional dependency 'fastparquet'. fastparquet is required for parquet support. Use pip or conda to install fastparquet.\n",
      "Error processing causa_rechazos_aperturas_nariz_2025-01-01_2025-01-30.xlsx: Unable to find a usable engine; tried using: 'pyarrow', 'fastparquet'.\n",
      "A suitable version of pyarrow or fastparquet is required for parquet support.\n",
      "Trying to import the above resulted in these errors:\n",
      " - Missing optional dependency 'pyarrow'. pyarrow is required for parquet support. Use pip or conda to install pyarrow.\n",
      " - Missing optional dependency 'fastparquet'. fastparquet is required for parquet support. Use pip or conda to install fastparquet.\n",
      "Error processing causa_rechazos_aperturas_nariz_2025-02-01_2025-02-02.xlsx: Unable to find a usable engine; tried using: 'pyarrow', 'fastparquet'.\n",
      "A suitable version of pyarrow or fastparquet is required for parquet support.\n",
      "Trying to import the above resulted in these errors:\n",
      " - Missing optional dependency 'pyarrow'. pyarrow is required for parquet support. Use pip or conda to install pyarrow.\n",
      " - Missing optional dependency 'fastparquet'. fastparquet is required for parquet support. Use pip or conda to install fastparquet.\n"
     ]
    }
   ],
   "source": [
    "# Example usage\n",
    "parquet_convertion_folder = Path.joinpath(path,r\"data_plots\\old_queries\")  # Replace with your folder path\n",
    "convert_excels_to_parquet(parquet_convertion_folder)"
   ]
  },
  {
   "cell_type": "markdown",
   "id": "b7ade4cc-7788-4942-be6a-15880d41ec36",
   "metadata": {},
   "source": [
    "# Work as usual"
   ]
  },
  {
   "cell_type": "code",
   "execution_count": 7,
   "id": "c8f65be7-0f0b-45eb-b0c8-86e484821475",
   "metadata": {},
   "outputs": [
    {
     "name": "stdout",
     "output_type": "stream",
     "text": [
      "Archivos encontrados: [WindowsPath('C:/Users/jdbustamante/OneDrive - Duratex SA/reports_visualizacion_data_produccion/source_and_return_data/data_plots/test_obj_aperturas_nariz.xlsx'), WindowsPath('C:/Users/jdbustamante/OneDrive - Duratex SA/reports_visualizacion_data_produccion/source_and_return_data/data_plots/test_obj_causa_rechazos.xlsx')]\n"
     ]
    }
   ],
   "source": [
    "directory = Path.joinpath(path,\"data_plots\") #get current work directory\n",
    "directory.mkdir(exist_ok=True)\n",
    "matching_files = list(directory.glob(\"*obj*.xlsx\"))  # Busca archivos que contengan 'obj' y tengan extensión .xlsx\n",
    "print(\"Archivos encontrados:\", matching_files)"
   ]
  },
  {
   "cell_type": "code",
   "execution_count": 8,
   "id": "6a9f980a-cab0-46cf-84c2-5e9898482c19",
   "metadata": {},
   "outputs": [
    {
     "name": "stdout",
     "output_type": "stream",
     "text": [
      "C:\\Users\\jdbustamante\\OneDrive - Duratex SA\\reports_visualizacion_data_produccion\\source_and_return_data\\data_plots\\test_obj_aperturas_nariz.xlsx\n",
      "C:\\Users\\jdbustamante\\OneDrive - Duratex SA\\reports_visualizacion_data_produccion\\source_and_return_data\\data_plots\\test_obj_causa_rechazos.xlsx\n",
      "['aperturas_nariz', 'causa_rechazos']\n"
     ]
    }
   ],
   "source": [
    "dict_data_pointer={} #dict to store files as dfs\n",
    "for i in matching_files: # Read the Excel file \n",
    "    file_path = str(i)  # Update this with the path\n",
    "    df = pd.read_excel(file_path)\n",
    "    print(file_path)\n",
    "    df_name=file_path.split(\"obj_\")[1].split(\".\")[0] #split str with \"obj_\" and the  \".\" char and take the file name\n",
    "    date_col=\"Fecha\" #default col name with dates\n",
    "    if \"aperturas\" in file_path.lower(): #if excel name file contains \"aperturas\", change col name with dates\n",
    "        date_col=\"Fecha Paro\"\n",
    "    row_numbers_nan = df.index[df[date_col].isna()].tolist() # Get the row numbers where 'Fecha' or 'Fecha Paro' is NaN\n",
    "    row_numbers = list(set(row_numbers_nan)) # lists of row with nan numbers\n",
    "    filtered_df = df.drop(index=row_numbers) # Filter the DataFrame to keep only the rows that are not in row_numbers\n",
    "    dict_data_pointer[f\"{df_name}\"]=filtered_df #store filtered df in dictionary data pointer\n",
    "print(list(dict_data_pointer.keys())) #see keys on dictionary to check callability"
   ]
  },
  {
   "cell_type": "code",
   "execution_count": 9,
   "id": "ca4d6f8c-d81d-4533-b930-1f36a16c87bb",
   "metadata": {},
   "outputs": [
    {
     "data": {
      "text/plain": [
       "0     2025-02-01\n",
       "1     2025-02-01\n",
       "2     2025-02-01\n",
       "3     2025-02-01\n",
       "4     2025-02-01\n",
       "5     2025-02-01\n",
       "6     2025-02-02\n",
       "7     2025-02-03\n",
       "8     2025-02-03\n",
       "9     2025-02-03\n",
       "10    2025-02-03\n",
       "11    2025-02-03\n",
       "12    2025-02-04\n",
       "13    2025-02-04\n",
       "14    2025-02-04\n",
       "15    2025-02-04\n",
       "16    2025-02-04\n",
       "17    2025-02-04\n",
       "18    2025-02-04\n",
       "Name: Fecha Paro, dtype: object"
      ]
     },
     "execution_count": 9,
     "metadata": {},
     "output_type": "execute_result"
    }
   ],
   "source": [
    "data_pointer_ar=\"aperturas_nariz\" #select df of aperturas de nariz\n",
    "df_ar=dict_data_pointer[data_pointer_ar] #mask df of aperturas de nariz with alias df_ar\n",
    "dates_col_name_ar=\"Fecha Paro\" #name of col with dates in df\n",
    "df_ar[dates_col_name_ar] =df_ar.loc[:,dates_col_name_ar].apply(lambda x:x.strftime(\"%Y-%m-%d\")) #convert dates to desired format\n",
    "df_ar.loc[:,dates_col_name_ar]"
   ]
  },
  {
   "cell_type": "code",
   "execution_count": 10,
   "id": "2e8864f0-7e9f-4b8b-a44e-ebad099103b8",
   "metadata": {
    "scrolled": true
   },
   "outputs": [
    {
     "data": {
      "text/plain": [
       "['2025-02-01', '2025-02-02', '2025-02-03', '2025-02-04']"
      ]
     },
     "execution_count": 10,
     "metadata": {},
     "output_type": "execute_result"
    }
   ],
   "source": [
    "dates_ar=sorted(list(set([ date_str for date_str in df_ar.loc[ :, dates_col_name_ar] ]))) #get dates as str unique of current df\n",
    "dates_ar"
   ]
  },
  {
   "cell_type": "markdown",
   "id": "dc9665bd-250e-452e-a863-12d666f947ed",
   "metadata": {},
   "source": [
    "# Check matches on initial hour & final hour\n",
    "* remove apertures that are duplicate for changes on dat shift"
   ]
  },
  {
   "cell_type": "code",
   "execution_count": 11,
   "id": "7eb2cb8b-3f50-47d3-9215-08beb4024873",
   "metadata": {
    "scrolled": true
   },
   "outputs": [
    {
     "name": "stdout",
     "output_type": "stream",
     "text": [
      "2025-02-01\n",
      "5\n",
      "0\n",
      "1\n",
      "2\n",
      "3\n",
      "4\n",
      "5\n",
      "idxs to drop are [1]\n",
      "2025-02-02\n",
      "6\n",
      "6\n",
      "idxs to drop are [1]\n",
      "2025-02-03\n",
      "11\n",
      "7\n",
      "8\n",
      "9\n",
      "10\n",
      "11\n",
      "idxs to drop are [1]\n",
      "2025-02-04\n",
      "18\n",
      "12\n",
      "13\n",
      "14\n",
      "15\n",
      "16\n",
      "17\n",
      "18\n",
      "idxs to drop are [1, 17, 18]\n"
     ]
    },
    {
     "data": {
      "text/html": [
       "<div>\n",
       "<style scoped>\n",
       "    .dataframe tbody tr th:only-of-type {\n",
       "        vertical-align: middle;\n",
       "    }\n",
       "\n",
       "    .dataframe tbody tr th {\n",
       "        vertical-align: top;\n",
       "    }\n",
       "\n",
       "    .dataframe thead th {\n",
       "        text-align: right;\n",
       "    }\n",
       "</style>\n",
       "<table border=\"1\" class=\"dataframe\">\n",
       "  <thead>\n",
       "    <tr style=\"text-align: right;\">\n",
       "      <th></th>\n",
       "      <th>Linea</th>\n",
       "      <th>Proceso</th>\n",
       "      <th>Tipo Paro</th>\n",
       "      <th>Fecha Paro</th>\n",
       "      <th>Hora Inicial</th>\n",
       "      <th>Hora Final</th>\n",
       "      <th>Descripción Equipo</th>\n",
       "      <th>Modo de Fallo</th>\n",
       "      <th>Obversación</th>\n",
       "      <th>Tiempo Parada</th>\n",
       "      <th>Turno</th>\n",
       "      <th>Calibre</th>\n",
       "      <th>Columna1</th>\n",
       "    </tr>\n",
       "  </thead>\n",
       "  <tbody>\n",
       "    <tr>\n",
       "      <th>0</th>\n",
       "      <td>CRUDO</td>\n",
       "      <td>300 - SECADO PRIMERA Y SEGUNDA ETAPA</td>\n",
       "      <td>PARO PROGRAMADO</td>\n",
       "      <td>2025-02-01</td>\n",
       "      <td>09:00:00</td>\n",
       "      <td>13:00:00</td>\n",
       "      <td>300 SECADO PRIMERA Y SEGUNDA ETAPA</td>\n",
       "      <td>LIMPIEZA DE EQUIPOS - PRO</td>\n",
       "      <td>se para linea para realizar limpiesa a secader...</td>\n",
       "      <td>240.01</td>\n",
       "      <td>2</td>\n",
       "      <td>9</td>\n",
       "      <td>153659</td>\n",
       "    </tr>\n",
       "    <tr>\n",
       "      <th>2</th>\n",
       "      <td>CRUDO</td>\n",
       "      <td>400 - FORMACION, PRE-PRENSADO &amp; CORTE</td>\n",
       "      <td>ELÉCTRICO</td>\n",
       "      <td>2025-02-01</td>\n",
       "      <td>13:10:00</td>\n",
       "      <td>13:18:00</td>\n",
       "      <td>400.402.00 BUNKER DE FORMACION</td>\n",
       "      <td>FALLA DE MOTOR - ELC</td>\n",
       "      <td>se va a fallo en esparcidor #3 , se da reset ,...</td>\n",
       "      <td>8.00</td>\n",
       "      <td>3</td>\n",
       "      <td>9</td>\n",
       "      <td>153659</td>\n",
       "    </tr>\n",
       "    <tr>\n",
       "      <th>3</th>\n",
       "      <td>CRUDO</td>\n",
       "      <td>400 - FORMACION, PRE-PRENSADO &amp; CORTE</td>\n",
       "      <td>ELÉCTRICO</td>\n",
       "      <td>2025-02-01</td>\n",
       "      <td>13:25:00</td>\n",
       "      <td>13:36:00</td>\n",
       "      <td>400.402.00 BUNKER DE FORMACION</td>\n",
       "      <td>FALLA DE MOTOR - ELC</td>\n",
       "      <td>se va a fallo en esparcidor #3 , se da reset ,...</td>\n",
       "      <td>11.00</td>\n",
       "      <td>3</td>\n",
       "      <td>9</td>\n",
       "      <td>153659</td>\n",
       "    </tr>\n",
       "    <tr>\n",
       "      <th>4</th>\n",
       "      <td>CRUDO</td>\n",
       "      <td>400 - FORMACION, PRE-PRENSADO &amp; CORTE</td>\n",
       "      <td>ELÉCTRICO</td>\n",
       "      <td>2025-02-01</td>\n",
       "      <td>13:48:00</td>\n",
       "      <td>14:07:00</td>\n",
       "      <td>400.402.00 BUNKER DE FORMACION</td>\n",
       "      <td>FALLA DE MOTOR - ELC</td>\n",
       "      <td>se va a fallo en esparcidor #3 , se da reset ,...</td>\n",
       "      <td>19.00</td>\n",
       "      <td>3</td>\n",
       "      <td>9</td>\n",
       "      <td>153659</td>\n",
       "    </tr>\n",
       "    <tr>\n",
       "      <th>5</th>\n",
       "      <td>CRUDO</td>\n",
       "      <td>300 - SECADO PRIMERA Y SEGUNDA ETAPA</td>\n",
       "      <td>PRODUCCIÓN</td>\n",
       "      <td>2025-02-01</td>\n",
       "      <td>20:20:00</td>\n",
       "      <td>20:35:00</td>\n",
       "      <td>300 SECADO PRIMERA Y SEGUNDA ETAPA</td>\n",
       "      <td>VARIACION TEMPERATURA - PRO</td>\n",
       "      <td>se presento un variacion de alta temperatura e...</td>\n",
       "      <td>15.00</td>\n",
       "      <td>3</td>\n",
       "      <td>9</td>\n",
       "      <td>153659</td>\n",
       "    </tr>\n",
       "    <tr>\n",
       "      <th>6</th>\n",
       "      <td>CRUDO</td>\n",
       "      <td>400 - FORMACION, PRE-PRENSADO &amp; CORTE</td>\n",
       "      <td>PRODUCCIÓN</td>\n",
       "      <td>2025-02-02</td>\n",
       "      <td>09:51:00</td>\n",
       "      <td>09:53:00</td>\n",
       "      <td>400 FORMACION Y PREPRENSA</td>\n",
       "      <td>DETECCIÓN DE METAL - MEC</td>\n",
       "      <td>Metal banda 415</td>\n",
       "      <td>2.00</td>\n",
       "      <td>2</td>\n",
       "      <td>9</td>\n",
       "      <td>153660</td>\n",
       "    </tr>\n",
       "    <tr>\n",
       "      <th>7</th>\n",
       "      <td>CRUDO</td>\n",
       "      <td>400 - FORMACION, PRE-PRENSADO &amp; CORTE</td>\n",
       "      <td>PCP</td>\n",
       "      <td>2025-02-03</td>\n",
       "      <td>23:24:00</td>\n",
       "      <td>23:29:00</td>\n",
       "      <td>400 FORMACION Y PREPRENSA</td>\n",
       "      <td>CAMBIO DE CALIBRE - PCP</td>\n",
       "      <td>Cambio de 9 mm a 5.5 mm</td>\n",
       "      <td>5.00</td>\n",
       "      <td>1</td>\n",
       "      <td>5.5</td>\n",
       "      <td>153661</td>\n",
       "    </tr>\n",
       "    <tr>\n",
       "      <th>8</th>\n",
       "      <td>CRUDO</td>\n",
       "      <td>400 - FORMACION, PRE-PRENSADO &amp; CORTE</td>\n",
       "      <td>PRODUCCIÓN</td>\n",
       "      <td>2025-02-03</td>\n",
       "      <td>01:38:00</td>\n",
       "      <td>01:41:00</td>\n",
       "      <td>400 FORMACION Y PREPRENSA</td>\n",
       "      <td>DETECCIÓN DE METAL - MEC</td>\n",
       "      <td>Metal banda 415</td>\n",
       "      <td>3.00</td>\n",
       "      <td>1</td>\n",
       "      <td>5.5</td>\n",
       "      <td>153661</td>\n",
       "    </tr>\n",
       "    <tr>\n",
       "      <th>9</th>\n",
       "      <td>CRUDO</td>\n",
       "      <td>400 - FORMACION, PRE-PRENSADO &amp; CORTE</td>\n",
       "      <td>PCP</td>\n",
       "      <td>2025-02-03</td>\n",
       "      <td>13:41:00</td>\n",
       "      <td>14:00:00</td>\n",
       "      <td>400 FORMACION Y PREPRENSA</td>\n",
       "      <td>CAMBIO DE CALIBRE - PCP</td>\n",
       "      <td>Se cambia a 9mm / 18 ft</td>\n",
       "      <td>19.00</td>\n",
       "      <td>3</td>\n",
       "      <td>9</td>\n",
       "      <td>153663</td>\n",
       "    </tr>\n",
       "    <tr>\n",
       "      <th>10</th>\n",
       "      <td>CRUDO</td>\n",
       "      <td>400 - FORMACION, PRE-PRENSADO &amp; CORTE</td>\n",
       "      <td>PRODUCCIÓN</td>\n",
       "      <td>2025-02-03</td>\n",
       "      <td>14:15:00</td>\n",
       "      <td>14:18:00</td>\n",
       "      <td>400 FORMACION Y PREPRENSA</td>\n",
       "      <td>VARIACION PESO - PRO</td>\n",
       "      <td>Al arrancar se presenta alto valor en la densi...</td>\n",
       "      <td>3.00</td>\n",
       "      <td>3</td>\n",
       "      <td>9</td>\n",
       "      <td>153663</td>\n",
       "    </tr>\n",
       "    <tr>\n",
       "      <th>11</th>\n",
       "      <td>CRUDO</td>\n",
       "      <td>250 - ENCOLADO</td>\n",
       "      <td>MECÁNICO</td>\n",
       "      <td>2025-02-03</td>\n",
       "      <td>20:04:00</td>\n",
       "      <td>20:15:00</td>\n",
       "      <td>250.271 SISTEMA DE DOSIFICACION</td>\n",
       "      <td>FUGA - MEC</td>\n",
       "      <td>Se revienta manguera de aire en el sistema Hi ...</td>\n",
       "      <td>11.00</td>\n",
       "      <td>3</td>\n",
       "      <td>9</td>\n",
       "      <td>153663</td>\n",
       "    </tr>\n",
       "    <tr>\n",
       "      <th>12</th>\n",
       "      <td>CRUDO</td>\n",
       "      <td>400 - FORMACION, PRE-PRENSADO &amp; CORTE</td>\n",
       "      <td>PCP</td>\n",
       "      <td>2025-02-04</td>\n",
       "      <td>22:20:00</td>\n",
       "      <td>22:27:00</td>\n",
       "      <td>400 FORMACION Y PREPRENSA</td>\n",
       "      <td>CAMBIO DE CALIBRE - PCP</td>\n",
       "      <td>Cambio de calibre de 9 mm a 12 mm</td>\n",
       "      <td>7.00</td>\n",
       "      <td>1</td>\n",
       "      <td>12</td>\n",
       "      <td>153664</td>\n",
       "    </tr>\n",
       "    <tr>\n",
       "      <th>13</th>\n",
       "      <td>CRUDO</td>\n",
       "      <td>400 - FORMACION, PRE-PRENSADO &amp; CORTE</td>\n",
       "      <td>PCP</td>\n",
       "      <td>2025-02-04</td>\n",
       "      <td>08:21:00</td>\n",
       "      <td>08:24:00</td>\n",
       "      <td>400 FORMACION Y PREPRENSA</td>\n",
       "      <td>CAMBIO DE CALIBRE - PCP</td>\n",
       "      <td>pasamos de 12mm a tapas 11mm</td>\n",
       "      <td>3.00</td>\n",
       "      <td>2</td>\n",
       "      <td>11 TAPAS</td>\n",
       "      <td>153768</td>\n",
       "    </tr>\n",
       "    <tr>\n",
       "      <th>14</th>\n",
       "      <td>CRUDO</td>\n",
       "      <td>400 - FORMACION, PRE-PRENSADO &amp; CORTE</td>\n",
       "      <td>PCP</td>\n",
       "      <td>2025-02-04</td>\n",
       "      <td>08:57:00</td>\n",
       "      <td>09:01:00</td>\n",
       "      <td>400 FORMACION Y PREPRENSA</td>\n",
       "      <td>CAMBIO DE CALIBRE - PCP</td>\n",
       "      <td>pasamos de 11mm a 12mm</td>\n",
       "      <td>4.00</td>\n",
       "      <td>2</td>\n",
       "      <td>12</td>\n",
       "      <td>153664</td>\n",
       "    </tr>\n",
       "    <tr>\n",
       "      <th>15</th>\n",
       "      <td>CRUDO</td>\n",
       "      <td>500 - PRENSA</td>\n",
       "      <td>CAUSAS EXTERNAS</td>\n",
       "      <td>2025-02-04</td>\n",
       "      <td>09:13:00</td>\n",
       "      <td>09:19:00</td>\n",
       "      <td>500 PRENSA DIEFFENBACHER</td>\n",
       "      <td>CAIDA DE TENSIÓN - EX</td>\n",
       "      <td>Se presenta caida de tencion en la planta y no...</td>\n",
       "      <td>6.00</td>\n",
       "      <td>2</td>\n",
       "      <td>12</td>\n",
       "      <td>153664</td>\n",
       "    </tr>\n",
       "    <tr>\n",
       "      <th>16</th>\n",
       "      <td>CRUDO</td>\n",
       "      <td>500 - PRENSA</td>\n",
       "      <td>CAUSAS EXTERNAS</td>\n",
       "      <td>2025-02-04</td>\n",
       "      <td>09:21:00</td>\n",
       "      <td>09:23:00</td>\n",
       "      <td>500 PRENSA DIEFFENBACHER</td>\n",
       "      <td>CAIDA DE TENSIÓN - EX</td>\n",
       "      <td>Se presenta caida de tencion en la planta y no...</td>\n",
       "      <td>2.00</td>\n",
       "      <td>2</td>\n",
       "      <td>12</td>\n",
       "      <td>153664</td>\n",
       "    </tr>\n",
       "  </tbody>\n",
       "</table>\n",
       "</div>"
      ],
      "text/plain": [
       "    Linea                                Proceso        Tipo Paro  Fecha Paro  \\\n",
       "0   CRUDO   300 - SECADO PRIMERA Y SEGUNDA ETAPA  PARO PROGRAMADO  2025-02-01   \n",
       "2   CRUDO  400 - FORMACION, PRE-PRENSADO & CORTE        ELÉCTRICO  2025-02-01   \n",
       "3   CRUDO  400 - FORMACION, PRE-PRENSADO & CORTE        ELÉCTRICO  2025-02-01   \n",
       "4   CRUDO  400 - FORMACION, PRE-PRENSADO & CORTE        ELÉCTRICO  2025-02-01   \n",
       "5   CRUDO   300 - SECADO PRIMERA Y SEGUNDA ETAPA       PRODUCCIÓN  2025-02-01   \n",
       "6   CRUDO  400 - FORMACION, PRE-PRENSADO & CORTE       PRODUCCIÓN  2025-02-02   \n",
       "7   CRUDO  400 - FORMACION, PRE-PRENSADO & CORTE              PCP  2025-02-03   \n",
       "8   CRUDO  400 - FORMACION, PRE-PRENSADO & CORTE       PRODUCCIÓN  2025-02-03   \n",
       "9   CRUDO  400 - FORMACION, PRE-PRENSADO & CORTE              PCP  2025-02-03   \n",
       "10  CRUDO  400 - FORMACION, PRE-PRENSADO & CORTE       PRODUCCIÓN  2025-02-03   \n",
       "11  CRUDO                         250 - ENCOLADO         MECÁNICO  2025-02-03   \n",
       "12  CRUDO  400 - FORMACION, PRE-PRENSADO & CORTE              PCP  2025-02-04   \n",
       "13  CRUDO  400 - FORMACION, PRE-PRENSADO & CORTE              PCP  2025-02-04   \n",
       "14  CRUDO  400 - FORMACION, PRE-PRENSADO & CORTE              PCP  2025-02-04   \n",
       "15  CRUDO                           500 - PRENSA  CAUSAS EXTERNAS  2025-02-04   \n",
       "16  CRUDO                           500 - PRENSA  CAUSAS EXTERNAS  2025-02-04   \n",
       "\n",
       "   Hora Inicial Hora Final                  Descripción Equipo  \\\n",
       "0      09:00:00   13:00:00  300 SECADO PRIMERA Y SEGUNDA ETAPA   \n",
       "2      13:10:00   13:18:00      400.402.00 BUNKER DE FORMACION   \n",
       "3      13:25:00   13:36:00      400.402.00 BUNKER DE FORMACION   \n",
       "4      13:48:00   14:07:00      400.402.00 BUNKER DE FORMACION   \n",
       "5      20:20:00   20:35:00  300 SECADO PRIMERA Y SEGUNDA ETAPA   \n",
       "6      09:51:00   09:53:00           400 FORMACION Y PREPRENSA   \n",
       "7      23:24:00   23:29:00           400 FORMACION Y PREPRENSA   \n",
       "8      01:38:00   01:41:00           400 FORMACION Y PREPRENSA   \n",
       "9      13:41:00   14:00:00           400 FORMACION Y PREPRENSA   \n",
       "10     14:15:00   14:18:00           400 FORMACION Y PREPRENSA   \n",
       "11     20:04:00   20:15:00     250.271 SISTEMA DE DOSIFICACION   \n",
       "12     22:20:00   22:27:00           400 FORMACION Y PREPRENSA   \n",
       "13     08:21:00   08:24:00           400 FORMACION Y PREPRENSA   \n",
       "14     08:57:00   09:01:00           400 FORMACION Y PREPRENSA   \n",
       "15     09:13:00   09:19:00            500 PRENSA DIEFFENBACHER   \n",
       "16     09:21:00   09:23:00            500 PRENSA DIEFFENBACHER   \n",
       "\n",
       "                  Modo de Fallo  \\\n",
       "0     LIMPIEZA DE EQUIPOS - PRO   \n",
       "2          FALLA DE MOTOR - ELC   \n",
       "3          FALLA DE MOTOR - ELC   \n",
       "4          FALLA DE MOTOR - ELC   \n",
       "5   VARIACION TEMPERATURA - PRO   \n",
       "6      DETECCIÓN DE METAL - MEC   \n",
       "7       CAMBIO DE CALIBRE - PCP   \n",
       "8      DETECCIÓN DE METAL - MEC   \n",
       "9       CAMBIO DE CALIBRE - PCP   \n",
       "10         VARIACION PESO - PRO   \n",
       "11                   FUGA - MEC   \n",
       "12      CAMBIO DE CALIBRE - PCP   \n",
       "13      CAMBIO DE CALIBRE - PCP   \n",
       "14      CAMBIO DE CALIBRE - PCP   \n",
       "15        CAIDA DE TENSIÓN - EX   \n",
       "16        CAIDA DE TENSIÓN - EX   \n",
       "\n",
       "                                          Obversación  Tiempo Parada  Turno  \\\n",
       "0   se para linea para realizar limpiesa a secader...         240.01      2   \n",
       "2   se va a fallo en esparcidor #3 , se da reset ,...           8.00      3   \n",
       "3   se va a fallo en esparcidor #3 , se da reset ,...          11.00      3   \n",
       "4   se va a fallo en esparcidor #3 , se da reset ,...          19.00      3   \n",
       "5   se presento un variacion de alta temperatura e...          15.00      3   \n",
       "6                                     Metal banda 415           2.00      2   \n",
       "7                             Cambio de 9 mm a 5.5 mm           5.00      1   \n",
       "8                                     Metal banda 415           3.00      1   \n",
       "9                             Se cambia a 9mm / 18 ft          19.00      3   \n",
       "10  Al arrancar se presenta alto valor en la densi...           3.00      3   \n",
       "11  Se revienta manguera de aire en el sistema Hi ...          11.00      3   \n",
       "12                  Cambio de calibre de 9 mm a 12 mm           7.00      1   \n",
       "13                       pasamos de 12mm a tapas 11mm           3.00      2   \n",
       "14                             pasamos de 11mm a 12mm           4.00      2   \n",
       "15  Se presenta caida de tencion en la planta y no...           6.00      2   \n",
       "16  Se presenta caida de tencion en la planta y no...           2.00      2   \n",
       "\n",
       "     Calibre  Columna1  \n",
       "0          9    153659  \n",
       "2          9    153659  \n",
       "3          9    153659  \n",
       "4          9    153659  \n",
       "5          9    153659  \n",
       "6          9    153660  \n",
       "7        5.5    153661  \n",
       "8        5.5    153661  \n",
       "9          9    153663  \n",
       "10         9    153663  \n",
       "11         9    153663  \n",
       "12        12    153664  \n",
       "13  11 TAPAS    153768  \n",
       "14        12    153664  \n",
       "15        12    153664  \n",
       "16        12    153664  "
      ]
     },
     "execution_count": 11,
     "metadata": {},
     "output_type": "execute_result"
    }
   ],
   "source": [
    "list_dropped_idx_rows=[]\n",
    "for date_ar in dates_ar:\n",
    "    print(date_ar)\n",
    "    df_seeker=df_ar.loc[df_ar[\"Fecha Paro\"]==date_ar] #filter by date\n",
    "    rows_df_seeker=df_seeker.index #get idx of df for current date\n",
    "    last_row=rows_df_seeker[-1] #to avoid out of range\n",
    "    print(last_row)\n",
    "    for row in rows_df_seeker:\n",
    "        print(row)\n",
    "        if row==last_row:\n",
    "            continue #jump to next date\n",
    "        if df_seeker.at[row,\"Hora Final\"]==df_seeker.at[row+1,\"Hora Inicial\"]:\n",
    "            list_dropped_idx_rows.append(row+1) #add idx to be dropped\n",
    "    print(\"idxs to drop are {}\".format(list_dropped_idx_rows))\n",
    "df_ar.drop(list_dropped_idx_rows,inplace=True) #drop selected rows for current date\n",
    "df_ar"
   ]
  },
  {
   "cell_type": "code",
   "execution_count": 12,
   "id": "ce7aad78-7626-438e-aac9-decdcdf7f9f8",
   "metadata": {},
   "outputs": [
    {
     "data": {
      "text/plain": [
       "array([5, 1, 5, 5])"
      ]
     },
     "execution_count": 12,
     "metadata": {},
     "output_type": "execute_result"
    }
   ],
   "source": [
    "amt_apertura_nariz=df_ar.groupby(dates_col_name_ar).count().T.iloc[0] #for each production stop there is an apertura de nariz and take those values\n",
    "amt_apertura_nariz=np.array(amt_apertura_nariz) #agsin amt of aperturas per day on array of numpy\n",
    "amt_apertura_nariz"
   ]
  },
  {
   "cell_type": "code",
   "execution_count": 13,
   "id": "3df176b8-a391-4149-a5d2-8465d45c7758",
   "metadata": {
    "scrolled": true
   },
   "outputs": [
    {
     "data": {
      "text/html": [
       "<div>\n",
       "<style scoped>\n",
       "    .dataframe tbody tr th:only-of-type {\n",
       "        vertical-align: middle;\n",
       "    }\n",
       "\n",
       "    .dataframe tbody tr th {\n",
       "        vertical-align: top;\n",
       "    }\n",
       "\n",
       "    .dataframe thead th {\n",
       "        text-align: right;\n",
       "    }\n",
       "</style>\n",
       "<table border=\"1\" class=\"dataframe\">\n",
       "  <thead>\n",
       "    <tr style=\"text-align: right;\">\n",
       "      <th></th>\n",
       "      <th>Notas movimiento</th>\n",
       "    </tr>\n",
       "  </thead>\n",
       "  <tbody>\n",
       "    <tr>\n",
       "      <th>0</th>\n",
       "      <td>causa no especifica</td>\n",
       "    </tr>\n",
       "    <tr>\n",
       "      <th>1</th>\n",
       "      <td>AMPOLLADAS</td>\n",
       "    </tr>\n",
       "    <tr>\n",
       "      <th>2</th>\n",
       "      <td>ALTO CALIBRE</td>\n",
       "    </tr>\n",
       "    <tr>\n",
       "      <th>3</th>\n",
       "      <td>BAJO CALIBRE</td>\n",
       "    </tr>\n",
       "    <tr>\n",
       "      <th>4</th>\n",
       "      <td>ALTO CALIBRE</td>\n",
       "    </tr>\n",
       "    <tr>\n",
       "      <th>5</th>\n",
       "      <td>AMPOLLADA</td>\n",
       "    </tr>\n",
       "    <tr>\n",
       "      <th>6</th>\n",
       "      <td>BAJO CALIBRE</td>\n",
       "    </tr>\n",
       "  </tbody>\n",
       "</table>\n",
       "</div>"
      ],
      "text/plain": [
       "      Notas movimiento\n",
       "0  causa no especifica\n",
       "1           AMPOLLADAS\n",
       "2         ALTO CALIBRE\n",
       "3         BAJO CALIBRE\n",
       "4         ALTO CALIBRE\n",
       "5            AMPOLLADA\n",
       "6         BAJO CALIBRE"
      ]
     },
     "execution_count": 13,
     "metadata": {},
     "output_type": "execute_result"
    }
   ],
   "source": [
    "data_pointer=\"causa_rechazos\" #start with df with rejected panels number per day and cause\n",
    "df=dict_data_pointer[data_pointer] #mask causa_rechazos with df alias\n",
    "dates_col_name=\"Fecha\" #date col on causa_rechazos\n",
    "cause_col_name=\"Notas movimiento\" #rejected causes col name\n",
    "nan_causes=\"causa no especifica\" #str to replace nans on rejected causes col name\n",
    "df.loc[:,[cause_col_name]]=df.loc[:,[cause_col_name]].fillna(value=nan_causes) #particular cleasing for causa_rechazos df; fill not specified rejected causes\n",
    "df.loc[:,[cause_col_name]]"
   ]
  },
  {
   "cell_type": "markdown",
   "id": "5f5e666a-3642-4d05-80b2-0be7ed28d25d",
   "metadata": {},
   "source": [
    "### New approach:\n",
    "* Drop date col on causa rechazos and replace w/ str date col\n",
    "* Convert str to datetime to make call correctly"
   ]
  },
  {
   "cell_type": "code",
   "execution_count": 14,
   "id": "d7fd84d0-d670-41d4-94df-b3720c4bd5ce",
   "metadata": {
    "scrolled": true
   },
   "outputs": [
    {
     "name": "stderr",
     "output_type": "stream",
     "text": [
      "C:\\Users\\jdbustamante\\AppData\\Local\\Temp\\ipykernel_26228\\1804187861.py:6: SettingWithCopyWarning: \n",
      "A value is trying to be set on a copy of a slice from a DataFrame.\n",
      "Try using .loc[row_indexer,col_indexer] = value instead\n",
      "\n",
      "See the caveats in the documentation: https://pandas.pydata.org/pandas-docs/stable/user_guide/indexing.html#returning-a-view-versus-a-copy\n",
      "  df[dates_col_name]=df.loc[:,dates_col_name].apply(lambda x:x.strftime(\"%Y-%m-%d\")) #convert dates to desired format\n"
     ]
    },
    {
     "data": {
      "text/plain": [
       "1    2025-02-01\n",
       "2    2025-02-01\n",
       "3    2025-02-01\n",
       "4    2025-02-01\n",
       "5    2025-02-02\n",
       "6    2025-02-03\n",
       "Name: Fecha, dtype: object"
      ]
     },
     "execution_count": 14,
     "metadata": {},
     "output_type": "execute_result"
    }
   ],
   "source": [
    "try: #attemp to drop cummulative total row\n",
    "    df=df.loc[1:,:] #drop first row cause is a total row\n",
    "except:\n",
    "    pass\n",
    "df.reindex(range(len(df)))\n",
    "df[dates_col_name]=df.loc[:,dates_col_name].apply(lambda x:x.strftime(\"%Y-%m-%d\")) #convert dates to desired format\n",
    "df.loc[:,dates_col_name]"
   ]
  },
  {
   "cell_type": "code",
   "execution_count": 15,
   "id": "2f8805c2-0f4d-4451-b4fa-e67337e66344",
   "metadata": {},
   "outputs": [],
   "source": [
    "ignored_articles=[\"de\",\"s\",\"-\"] #+#articles to remove for cause name-->make basic cause labelling"
   ]
  },
  {
   "cell_type": "code",
   "execution_count": 16,
   "id": "dab6afb5-f6f9-4e31-96c6-a037ab679964",
   "metadata": {},
   "outputs": [],
   "source": [
    "def remove_specific_chars(string=None):\n",
    "    new_cause_basic_name=string\n",
    "    nan_causes=\"causa no especifica\" #str to replace nans on rejected causes col name\n",
    "    ignored_articles=[\"de\",\"s\",\"-\"] #+#articles to remove for cause name-->make basic cause labelling\n",
    "    ignored_digits=[str(number) for number in range(9+1)] #list to remove numbers from string\n",
    "    for ignored_article in ignored_articles:\n",
    "        if string==nan_causes: #do not remove chars on nan_causes\n",
    "            continue\n",
    "        new_cause_basic_name=new_cause_basic_name.replace(ignored_article,\"\") #remove articles from cause name\n",
    "        new_cause_basic_name=\" \".join(new_cause_basic_name.split()) #remove spaces\n",
    "        new_cause_basic_name=\"\".join([i for i in new_cause_basic_name if not i.isdigit()])\n",
    "        print(new_cause_basic_name)\n",
    "    return new_cause_basic_name"
   ]
  },
  {
   "cell_type": "code",
   "execution_count": 17,
   "id": "c9a20eec-74d8-4be4-a35b-723b5015dff4",
   "metadata": {
    "scrolled": true
   },
   "outputs": [
    {
     "name": "stdout",
     "output_type": "stream",
     "text": [
      "ampolladas\n",
      "ampollada\n",
      "ampollada\n",
      "alto calibre\n",
      "alto calibre\n",
      "alto calibre\n",
      "bajo calibre\n",
      "bajo calibre\n",
      "bajo calibre\n",
      "ampollada\n",
      "ampollada\n",
      "ampollada\n"
     ]
    },
    {
     "data": {
      "text/plain": [
       "(['2025-02-01', '2025-02-02', '2025-02-03'],\n",
       " ['alto calibre', 'ampollada', 'bajo calibre'])"
      ]
     },
     "execution_count": 17,
     "metadata": {},
     "output_type": "execute_result"
    }
   ],
   "source": [
    "causes=[str(i).lower() for i in df[cause_col_name].unique()] #day causes on lower case\n",
    "for idx_cause,cause in enumerate(causes): #run through causes and idx from 0-len(causes)\n",
    "    causes[idx_cause]=remove_specific_chars(string=cause) #\" \".join(new_cause_basic_name.split()) #clean str for extra spaces\n",
    "causes=list(set(causes)) #get unique instances of causes (not duplicates on causes), sorted alpha descending\n",
    "time_stamp_dates=list([ i for i in [ df.loc[ :, dates_col_name].unique() ][::-1] ][0]) #get dates as time_stamps\n",
    "#dates = [str(j).split(\" \")[0] for j in time_stamp_dates]  # dates to convert each time stamp to str and remove hh:mm:ss info\n",
    "dates=sorted(time_stamp_dates) #sorted dates aperturas ascending\n",
    "causes=sorted(causes)\n",
    "dates,causes"
   ]
  },
  {
   "cell_type": "markdown",
   "id": "c9183133-3aa8-45f3-8ad0-9ebb6dc3614f",
   "metadata": {},
   "source": [
    "### Unique ID color for every cause"
   ]
  },
  {
   "cell_type": "code",
   "execution_count": 18,
   "id": "e6725aae-95df-4b5a-a5d3-be9f3987a379",
   "metadata": {
    "scrolled": true
   },
   "outputs": [
    {
     "data": {
      "text/html": [
       "<div>\n",
       "<style scoped>\n",
       "    .dataframe tbody tr th:only-of-type {\n",
       "        vertical-align: middle;\n",
       "    }\n",
       "\n",
       "    .dataframe tbody tr th {\n",
       "        vertical-align: top;\n",
       "    }\n",
       "\n",
       "    .dataframe thead th {\n",
       "        text-align: right;\n",
       "    }\n",
       "</style>\n",
       "<table border=\"1\" class=\"dataframe\">\n",
       "  <thead>\n",
       "    <tr style=\"text-align: right;\">\n",
       "      <th></th>\n",
       "      <th>variations</th>\n",
       "      <th>acronyms</th>\n",
       "      <th>color</th>\n",
       "    </tr>\n",
       "    <tr>\n",
       "      <th>idx</th>\n",
       "      <th></th>\n",
       "      <th></th>\n",
       "      <th></th>\n",
       "    </tr>\n",
       "  </thead>\n",
       "  <tbody>\n",
       "    <tr>\n",
       "      <th>0</th>\n",
       "      <td>[\"explotado\",\"explotada\"]</td>\n",
       "      <td>[]</td>\n",
       "      <td>'1'</td>\n",
       "    </tr>\n",
       "    <tr>\n",
       "      <th>1</th>\n",
       "      <td>[\"alto calibre\"]</td>\n",
       "      <td>[\"a.c\"]</td>\n",
       "      <td>'2'</td>\n",
       "    </tr>\n",
       "    <tr>\n",
       "      <th>2</th>\n",
       "      <td>[\"bajo calibre\"]</td>\n",
       "      <td>[\"b.c\"]</td>\n",
       "      <td>'3'</td>\n",
       "    </tr>\n",
       "    <tr>\n",
       "      <th>3</th>\n",
       "      <td>[\"retencion\"]</td>\n",
       "      <td>[]</td>\n",
       "      <td>'4'</td>\n",
       "    </tr>\n",
       "    <tr>\n",
       "      <th>4</th>\n",
       "      <td>[\"maltratado\",\"maltratada\",\"maltrato\"]</td>\n",
       "      <td>[]</td>\n",
       "      <td>'4'</td>\n",
       "    </tr>\n",
       "    <tr>\n",
       "      <th>5</th>\n",
       "      <td>[\"mancha\",\"manchada\",\"manchado\"]</td>\n",
       "      <td>[]</td>\n",
       "      <td>'5'</td>\n",
       "    </tr>\n",
       "    <tr>\n",
       "      <th>6</th>\n",
       "      <td>[\"falta de curado\"]</td>\n",
       "      <td>[\"f.c\";\"f.curado\"]</td>\n",
       "      <td>'6'</td>\n",
       "    </tr>\n",
       "    <tr>\n",
       "      <th>7</th>\n",
       "      <td>[\"ampollado\",\"ampollada\"]</td>\n",
       "      <td>[]</td>\n",
       "      <td>'7'</td>\n",
       "    </tr>\n",
       "    <tr>\n",
       "      <th>8</th>\n",
       "      <td>[\"master panel corto\"]</td>\n",
       "      <td>[\"m.p corto\";\"m.p.c\"]</td>\n",
       "      <td>'8'</td>\n",
       "    </tr>\n",
       "    <tr>\n",
       "      <th>9</th>\n",
       "      <td>[\"causa no especifica\"]</td>\n",
       "      <td>[]</td>\n",
       "      <td>'9'</td>\n",
       "    </tr>\n",
       "  </tbody>\n",
       "</table>\n",
       "</div>"
      ],
      "text/plain": [
       "                                 variations               acronyms color\n",
       "idx                                                                     \n",
       "0                 [\"explotado\",\"explotada\"]                     []   '1'\n",
       "1                          [\"alto calibre\"]                [\"a.c\"]   '2'\n",
       "2                          [\"bajo calibre\"]                [\"b.c\"]   '3'\n",
       "3                             [\"retencion\"]                     []   '4'\n",
       "4    [\"maltratado\",\"maltratada\",\"maltrato\"]                     []   '4'\n",
       "5          [\"mancha\",\"manchada\",\"manchado\"]                     []   '5'\n",
       "6                       [\"falta de curado\"]     [\"f.c\";\"f.curado\"]   '6'\n",
       "7                 [\"ampollado\",\"ampollada\"]                     []   '7'\n",
       "8                    [\"master panel corto\"]  [\"m.p corto\";\"m.p.c\"]   '8'\n",
       "9                   [\"causa no especifica\"]                     []   '9'"
      ]
     },
     "execution_count": 18,
     "metadata": {},
     "output_type": "execute_result"
    }
   ],
   "source": [
    "colors_id_path=Path.joinpath(directory,\"valid_causes_rejected_panels.txt\")\n",
    "causes_colors_df = pd.read_csv(colors_id_path, sep=\",\",index_col=0,header=0,on_bad_lines='skip')\n",
    "causes_colors_df[\"variations\"]=causes_colors_df[\"variations\"].apply(lambda x:x.replace(\";\",\",\"))\n",
    "causes_colors_df"
   ]
  },
  {
   "cell_type": "markdown",
   "id": "db3bad73-8cd0-4ef9-8e76-164c8933cae5",
   "metadata": {},
   "source": [
    "# In case rejected causes is empty:\n",
    "* generate dummy causes, all current valid causes from df of valid causes"
   ]
  },
  {
   "cell_type": "code",
   "execution_count": 19,
   "id": "5b9e6471-75c9-44cf-8bf1-450db6cb7e69",
   "metadata": {},
   "outputs": [
    {
     "data": {
      "text/plain": [
       "['alto calibre', 'ampollada', 'bajo calibre']"
      ]
     },
     "execution_count": 19,
     "metadata": {},
     "output_type": "execute_result"
    }
   ],
   "source": [
    "if len(causes)<1: #causes list is empty\n",
    "    causes=[eval(element)[0] for element in list(causes_colors_df.loc[:,list(causes_colors_df.columns)[0]].values)]\n",
    "causes"
   ]
  },
  {
   "cell_type": "markdown",
   "id": "eb82d48c-21e6-4a81-b0ab-94098c962473",
   "metadata": {},
   "source": [
    "## Dates check\n",
    "* for now, aperturas de nariz file contains dates that are missing on causa rechazos file"
   ]
  },
  {
   "cell_type": "code",
   "execution_count": 20,
   "id": "24fec173-8ac2-48bd-aa74-a5d3c781d922",
   "metadata": {
    "scrolled": true
   },
   "outputs": [
    {
     "name": "stdout",
     "output_type": "stream",
     "text": [
      "0\n",
      "current date of apertures  2025-02-01\n",
      "current dates of causas rechazos  ['2025-02-01', '2025-02-02', '2025-02-03']\n",
      "1\n",
      "current date of apertures  2025-02-02\n",
      "current dates of causas rechazos  ['2025-02-01', '2025-02-02', '2025-02-03']\n",
      "2\n",
      "current date of apertures  2025-02-03\n",
      "current dates of causas rechazos  ['2025-02-01', '2025-02-02', '2025-02-03']\n",
      "3\n",
      "current date of apertures  2025-02-04\n",
      "current dates of causas rechazos  ['2025-02-01', '2025-02-02', '2025-02-03']\n",
      "2025-02-04 of apertures not in ['2025-02-01', '2025-02-02', '2025-02-03']\n",
      "nueva lista de fechas para causa rechazos  ['2025-02-01', '2025-02-02', '2025-02-03', '2025-02-04']\n",
      "Time limit not reached\n"
     ]
    }
   ],
   "source": [
    "# Set the maximum time limit (in seconds)\n",
    "time_limit = 30  # Break the loop after 10 seconds\n",
    "\n",
    "# Record the start time\n",
    "start_time = time.time()\n",
    "while dates_ar!=dates: # [:len(dates)]\n",
    "    for date_ar_idx,date_ar in enumerate( dates_ar ): #run through dates of aperturas\n",
    "        print(date_ar_idx)\n",
    "        print(\"current date of apertures \",date_ar)\n",
    "        print(\"current dates of causas rechazos \",dates)\n",
    "        if date_ar not in dates: #replace current dates with dates of aperturas de nariz: non missing dates current file\n",
    "            print(\"{} of apertures not in {}\".format(date_ar,dates))\n",
    "            dates.insert(date_ar_idx,date_ar)\n",
    "            print(\"nueva lista de fechas para causa rechazos \",dates)\n",
    "    # Check if the time limit has been exceeded\n",
    "    if time.time() - start_time > time_limit:\n",
    "        print(\"Time limit reached. Exiting loop.\")\n",
    "        break\n",
    "    else:\n",
    "        print(\"Time limit not reached\")"
   ]
  },
  {
   "cell_type": "markdown",
   "id": "740231ae-69f3-4cb7-8c8c-70924dc9b014",
   "metadata": {},
   "source": [
    "# Generate data to plotting"
   ]
  },
  {
   "cell_type": "code",
   "execution_count": 21,
   "id": "86cbf7cb-1b8a-4c13-94af-ea4c960735ec",
   "metadata": {
    "scrolled": true
   },
   "outputs": [
    {
     "data": {
      "text/plain": [
       "{'2025-02-01': [0, 0, 0],\n",
       " '2025-02-02': [0, 0, 0],\n",
       " '2025-02-03': [0, 0, 0],\n",
       " '2025-02-04': [0, 0, 0]}"
      ]
     },
     "execution_count": 21,
     "metadata": {},
     "output_type": "execute_result"
    }
   ],
   "source": [
    "weight_counts={i:[0]*len(causes) for i in dates} #make dict to store panel per cause per day\n",
    "weight_counts"
   ]
  },
  {
   "cell_type": "markdown",
   "id": "cd6a91a6-c211-4732-bf96-574c9214dd6f",
   "metadata": {},
   "source": [
    "# TODO\n",
    "* apply directive to clean classifications and search correctly on causa rechazos"
   ]
  },
  {
   "cell_type": "code",
   "execution_count": 22,
   "id": "d5123ddc-e3de-40bf-aa51-a0ee850d139d",
   "metadata": {
    "scrolled": true
   },
   "outputs": [
    {
     "name": "stdout",
     "output_type": "stream",
     "text": [
      "2025-02-01 <class 'str'>\n",
      "Fecha Notas movimiento\n",
      "alto calibre\n",
      "alto calibre\n",
      "alto calibre\n",
      "alto calibre:14\n",
      "ampolladas\n",
      "ampollada\n",
      "ampollada\n",
      "bajo calibre\n",
      "bajo calibre\n",
      "bajo calibre\n",
      "alto calibre\n",
      "alto calibre\n",
      "alto calibre\n",
      "ampolladas\n",
      "ampollada\n",
      "ampollada\n",
      "ampollada:5\n",
      "bajo calibre\n",
      "bajo calibre\n",
      "bajo calibre\n",
      "alto calibre\n",
      "alto calibre\n",
      "alto calibre\n",
      "ampolladas\n",
      "ampollada\n",
      "ampollada\n",
      "bajo calibre\n",
      "bajo calibre\n",
      "bajo calibre\n",
      "bajo calibre:1\n",
      "2025-02-02 <class 'str'>\n",
      "Fecha Notas movimiento\n",
      "ampollada\n",
      "ampollada\n",
      "ampollada\n",
      "ampollada\n",
      "ampollada\n",
      "ampollada\n",
      "ampollada:1\n",
      "ampollada\n",
      "ampollada\n",
      "ampollada\n",
      "2025-02-03 <class 'str'>\n",
      "Fecha Notas movimiento\n",
      "bajo calibre\n",
      "bajo calibre\n",
      "bajo calibre\n",
      "bajo calibre\n",
      "bajo calibre\n",
      "bajo calibre\n",
      "bajo calibre\n",
      "bajo calibre\n",
      "bajo calibre\n",
      "bajo calibre:2\n",
      "2025-02-04 <class 'str'>\n",
      "Fecha Notas movimiento\n"
     ]
    },
    {
     "data": {
      "text/plain": [
       "{'2025-02-01': [14, 5, 1],\n",
       " '2025-02-02': [0, 1, 0],\n",
       " '2025-02-03': [0, 0, 2],\n",
       " '2025-02-04': [0, 0, 0]}"
      ]
     },
     "execution_count": 22,
     "metadata": {},
     "output_type": "execute_result"
    }
   ],
   "source": [
    "name_of_rejected_panels_col=\"Salidas (inv.)\" #actual name of rejected panels col-->start completion of panel per cause per day\n",
    "for date in dates: #run through dates\n",
    "    try: #------->try to search by respective date. except: date not in cause rechazos, generate a date entry on weight counts with all causes on 0<-----------\n",
    "        print(date, type(date))\n",
    "        print(date_col,cause_col_name)\n",
    "        df_cols_date_search=df.loc[:,:\"Notas movimiento\"].groupby([date_col,cause_col_name]).sum().T.loc[:,date] #total amt of panels per cause, per date\n",
    "    except: #ValueError:\n",
    "        #print(ValueError)\n",
    "        continue #next iteration, current date with all 0s on causes\n",
    "    cols_date_search_causes=df_cols_date_search.columns #causes col names for current date filter\n",
    "    for cause,z in zip(causes,range(len(causes))): # run through causes and idx from 0-len(causes)\n",
    "        for current_date_cause in cols_date_search_causes: # # run through causes per day\n",
    "            current_cause=current_date_cause.lower() #apply lower case convertion\n",
    "            current_cause=remove_specific_chars(string=current_cause) #cause on current df, remove articles to basic cause name\n",
    "            if cause in current_cause: #cause match case: if cause in current cause per day, \n",
    "                panels_per_cause=df_cols_date_search[current_date_cause].T[name_of_rejected_panels_col] #get panels rejected by current cause\n",
    "                print(f\"{cause}:\"+str(panels_per_cause)) #print cause and panels\n",
    "                weight_counts[date][z]=panels_per_cause #store on dict date:\n",
    "    #print(date)\n",
    "weight_counts"
   ]
  },
  {
   "cell_type": "code",
   "execution_count": 23,
   "id": "aab6354c-70e0-4a72-9911-e6023e8d787b",
   "metadata": {
    "scrolled": true
   },
   "outputs": [
    {
     "data": {
      "text/plain": [
       "{'alto calibre': array([14.,  0.,  0.,  0.]),\n",
       " 'ampollada': array([5., 1., 0., 0.]),\n",
       " 'bajo calibre': array([1., 0., 2., 0.])}"
      ]
     },
     "execution_count": 23,
     "metadata": {},
     "output_type": "execute_result"
    }
   ],
   "source": [
    "construc_data_to_stacked=list(weight_counts.items()) #get keys and values of weight_counts\n",
    "array_rejected_panels_per_cause_per_day=np.zeros((len(causes),len(dates))) #make array of zeros to replace data from rows as cols\n",
    "for i in range(len(construc_data_to_stacked)): # run through idx from 0-len(amt of dates)\n",
    "    array_rejected_panels_per_cause_per_day[:,i]=np.array(construc_data_to_stacked[i][-1]).T #take panels values, transpose and store on array of rejected panels\n",
    "weight_count_causes={i:array_rejected_panels_per_cause_per_day[j,:] for i,j in zip(causes, range(len(causes)))} #reconstruct weight counts: keys as causes, rows rejected panels per specific cause per day\n",
    "weight_count_causes"
   ]
  },
  {
   "cell_type": "code",
   "execution_count": 24,
   "id": "7ddbba97-ed2a-4aa2-a92a-548f745ea68c",
   "metadata": {
    "scrolled": true
   },
   "outputs": [
    {
     "data": {
      "text/plain": [
       "[['14', ' ', ' ', ' '], ['5', '1', ' ', ' '], ['1', ' ', '2', ' ']]"
      ]
     },
     "execution_count": 24,
     "metadata": {},
     "output_type": "execute_result"
    }
   ],
   "source": [
    "bar_cause_labels=[[]]*len(causes) #make labels to display on rectangle bar data: inside rectangle to do not display 0 values\n",
    "for bar_values,bar_idx,cause in zip(bar_cause_labels,range(len(causes)),causes): #run through bbar_cause_labels and idx from 0-len(causes) and causes\n",
    "    bar_values=[str(int(weight_count_causes[cause][i])).replace(\"0\",\" \") if len( str(int(weight_count_causes[cause][i])) )<2 else str(int(weight_count_causes[cause][i])) for i in range(len(dates)) ] #replace 0 only values with \" \" #\n",
    "    bar_cause_labels[bar_idx]=bar_values #agsin rectangle value\n",
    "bar_cause_labels"
   ]
  },
  {
   "cell_type": "markdown",
   "id": "e3eb4073-4396-479f-ac56-e92e8874a312",
   "metadata": {},
   "source": [
    "# TODO\n",
    "* organizar orden de stacked bar para mostrar primero las causas con más paneles rechazados"
   ]
  },
  {
   "cell_type": "code",
   "execution_count": 25,
   "id": "fa532741-a5ae-4c08-b908-e51175fe30aa",
   "metadata": {},
   "outputs": [
    {
     "data": {
      "text/plain": [
       "{'tab:blue': '#1f77b4',\n",
       " 'tab:orange': '#ff7f0e',\n",
       " 'tab:green': '#2ca02c',\n",
       " 'tab:red': '#d62728',\n",
       " 'tab:purple': '#9467bd',\n",
       " 'tab:brown': '#8c564b',\n",
       " 'tab:pink': '#e377c2',\n",
       " 'tab:gray': '#7f7f7f',\n",
       " 'tab:olive': '#bcbd22',\n",
       " 'tab:cyan': '#17becf'}"
      ]
     },
     "execution_count": 25,
     "metadata": {},
     "output_type": "execute_result"
    }
   ],
   "source": [
    "colors_available=mcolors.TABLEAU_COLORS\n",
    "colors_available"
   ]
  },
  {
   "cell_type": "code",
   "execution_count": 26,
   "id": "d5efe30a-c8c8-4832-9e22-70a1d56407e3",
   "metadata": {
    "scrolled": true
   },
   "outputs": [
    {
     "data": {
      "text/plain": [
       "['tab:blue',\n",
       " 'tab:orange',\n",
       " 'tab:green',\n",
       " 'tab:red',\n",
       " 'tab:purple',\n",
       " 'tab:brown',\n",
       " 'tab:pink',\n",
       " 'tab:gray',\n",
       " 'tab:olive',\n",
       " 'tab:cyan']"
      ]
     },
     "execution_count": 26,
     "metadata": {},
     "output_type": "execute_result"
    }
   ],
   "source": [
    "colors_available_keys=list(colors_available)\n",
    "#colors_available_keys.remove('tab:olive')\n",
    "colors_available_keys"
   ]
  },
  {
   "cell_type": "code",
   "execution_count": 27,
   "id": "14ffa9b2-c487-443d-8552-1e378378f631",
   "metadata": {},
   "outputs": [
    {
     "data": {
      "text/plain": [
       "[2, 7, 3]"
      ]
     },
     "execution_count": 27,
     "metadata": {},
     "output_type": "execute_result"
    }
   ],
   "source": [
    "causes_color_idxs=[]\n",
    "for j in range(len(causes)):\n",
    "    for i in range(len(causes_colors_df)):\n",
    "        if causes[j] in causes_colors_df[\"variations\"][i]:\n",
    "            causes_color_idxs.append(int(eval(causes_colors_df.at[i,\"color\"])))\n",
    "causes_color_idxs"
   ]
  },
  {
   "cell_type": "code",
   "execution_count": 28,
   "id": "feda3c09-1379-49cc-a2c9-43a352575b8e",
   "metadata": {
    "scrolled": true
   },
   "outputs": [
    {
     "data": {
      "text/plain": [
       "{'alto calibre': 'tab:green',\n",
       " 'ampollada': 'tab:gray',\n",
       " 'bajo calibre': 'tab:red'}"
      ]
     },
     "execution_count": 28,
     "metadata": {},
     "output_type": "execute_result"
    }
   ],
   "source": [
    "colors_choosen={cause:colors_available_keys[idx_color] for cause,idx_color in zip(causes,causes_color_idxs)}\n",
    "colors_choosen"
   ]
  },
  {
   "cell_type": "code",
   "execution_count": 29,
   "id": "00a1dd39-ea4e-490f-b84a-7cbf87376eb7",
   "metadata": {},
   "outputs": [],
   "source": [
    "fontsz=11 #define font size of plot components\n",
    "matplotlib.rcParams.update({'font.size': fontsz}) #update font size for plot components of matplotlib"
   ]
  },
  {
   "cell_type": "code",
   "execution_count": 30,
   "id": "6c173634-e8b1-4a43-bf66-7f1921fd1933",
   "metadata": {},
   "outputs": [
    {
     "data": {
      "image/png": "[encoded data removed]",
      "text/plain": [
       "<Figure size 640x840 with 2 Axes>"
      ]
     },
     "metadata": {},
     "output_type": "display_data"
    }
   ],
   "source": [
    "fig, ax = plt.subplots()\n",
    "fig.tight_layout()  # Adjust layout to prevent clipping of labels\n",
    "fig.set_figheight(8.4)\n",
    "#fig.set_size_inches(50, 40) #set plot size\n",
    "#plot aperturas\n",
    "amt_dates=len(dates)\n",
    "bottom = np.zeros(amt_dates) #initial axis for stacked bars plotting\n",
    "plt.grid() #make grid mesh\n",
    "max_bottom=0 #to store max of bottoms in construction of bar\n",
    "for (data_label,weight_count),bar_value_stick,color_cause in zip(weight_count_causes.items(),bar_cause_labels,colors_choosen.values()): #run through dates, rejected per cause per dates, labels of values of rejected per cause per day \n",
    "    p = ax.bar(dates, weight_count, label=data_label, bottom=bottom,color=color_cause) #take bar plot elements: rectangle(attribute 1, attribute 2, ...)\n",
    "    bottom += weight_count #make new start to plot next top rectangle\n",
    "    check_bottom=np.max(bottom)\n",
    "    if check_bottom>max_bottom:\n",
    "        max_bottom=check_bottom #to generate ylim of causas rechazos\n",
    "    ax.bar_label(p, labels=bar_value_stick, label_type='center',color=\"black\",padding=0) #add bar height str value on bar center\n",
    "leq=ax.legend(bbox_to_anchor=(-0.54,0.9),loc=\"upper left\") #generate legend box for bar plot and set its ubication\n",
    "amt_xticks=range(len(dates))\n",
    "ax.set_xticks(amt_xticks)\n",
    "ax.set_xticklabels(dates,rotation=90) #rotate x axis labels 90º to be displayed vertically\n",
    "ax.set_xlabel(dates_col_name) #name of bar plot x axis\n",
    "rejected_panels_values=np.array(list(weight_counts.values()))\n",
    "max_rejected_axis=np.max(rejected_panels_values) #get max of all data\n",
    "max_rejected_axis_step=8\n",
    "ax.set_yticks(np.arange(0, max_rejected_axis+max_bottom, max_rejected_axis_step)) #set y axis label values: axis pitch=10 unds\n",
    "ax.set_ylabel(\"Cantidad de rechazos [-]\") #y axis name for bar plot\n",
    "ax.set_aspect('auto')\n",
    "#plot aperturas\n",
    "ax_ar = ax.twiny() #copy bar plot element to plot easily amt of aperturas de nariz\n",
    "ax_ar.sharex(ax)\n",
    "amt_xticks_ar=range(len(dates))\n",
    "ax_ar.set_xticks(amt_xticks_ar)\n",
    "ax_ar.set_xticklabels(dates_ar,rotation=90) #rotate x axis labels 90º to be displayed vertically\n",
    "ax_ar.set_xlabel(dates_col_name_ar) #name of bar plot x axis\n",
    "ax_ar.plot(amt_apertura_nariz,label=\"Aperturas de nariz\",linewidth=fontsz/5,linestyle='dashed',color=\"b\",marker=\".\",\n",
    "        markersize=fontsz/2,markerfacecolor='red') #plot aperturas de nariz by day\n",
    "ax_ar.set_xticklabels(dates_ar,rotation=90)\n",
    "leq_ar=ax_ar.legend(bbox_to_anchor=(-0.54,1),loc=\"upper left\") #generate legend box for line plot and set its ubications sligthy over cause legend\n",
    "secax_y2 = ax_ar.secondary_yaxis(\"right\", functions=(lambda x: x, lambda x: x)) #make new y axis for aperturas, same lambda to avoid complexity in instrucctions\n",
    "secax_y2.set_ylabel(\"Aperturas de nairz [-]\",color='b') #change color of y axis to blue\n",
    "max_apertures_axis=np.max(amt_apertura_nariz) #to set max lim of aperturas y axis\n",
    "max_apertures_axis_step=4\n",
    "secax_y2.set_yticks(np.arange(0, max_apertures_axis*(1.4), max_apertures_axis_step)) #change y axis limits and pitch to 5\n",
    "ax_ar.set_aspect('auto')\n",
    "imgs_folder=\"/imgs_reports_daily\" #str with name to save plots\n",
    "imgs_type_folder=\"/qty_rejecteds_apertures\"\n",
    "imgs_year_folder=f\"/year_{dates[0].split(\"-\")[0]}\"\n",
    "imgs_month_folder=f\"/month_{dates[0].split(\"-\")[1]}\"\n",
    "img_name=\"/fail_modes_Qty_rechazos\" #name of img file\n",
    "str_today=datetime.today().strftime('%Y-%m-%d') #asign date of generation\n",
    "plt.title(\"Causas y Número de Rechazos por día/ Aperturas de nariz por día\") #make title\n",
    "directory_to_save = Path(str(directory)+imgs_folder+imgs_type_folder+imgs_year_folder+imgs_month_folder) # get directory to save plot\n",
    "directory_to_save.mkdir(exist_ok=True)\n",
    "plt.savefig(str(directory_to_save)+img_name+dates[0]+\"_\"+dates_ar[-1]+\"_\"+str_today+\".png\", bbox_inches='tight') #store img plot\n",
    "plt.show()"
   ]
  },
  {
   "cell_type": "code",
   "execution_count": 31,
   "id": "1c0e9f33-71dc-4045-a460-5fc2ab4d36c4",
   "metadata": {
    "scrolled": true
   },
   "outputs": [],
   "source": [
    "df_to_export=pd.concat([df, df_ar], axis=1) #merge dfs to store data as old queries"
   ]
  },
  {
   "cell_type": "code",
   "execution_count": 32,
   "id": "471eaad8-0cb4-4f85-9f5d-fb3cb53367d9",
   "metadata": {},
   "outputs": [],
   "source": [
    "df_to_export.to_excel(str(directory)+f\"/old_queries/{data_pointer}_{data_pointer_ar}_\"+dates[0]+\"_\"+dates_ar[-1]+\".xlsx\") #save current query to old_queries"
   ]
  },
  {
   "cell_type": "markdown",
   "id": "38a3daa4-7394-4c1d-9519-1fd08a2196ea",
   "metadata": {},
   "source": [
    "# Plot with sorted stacked bars\n",
    "* make innner outter index data frame, sort by inner index (causes)"
   ]
  },
  {
   "cell_type": "code",
   "execution_count": 33,
   "id": "5818c7d1-3d7a-4d5c-970e-a13979dba196",
   "metadata": {
    "scrolled": true
   },
   "outputs": [
    {
     "data": {
      "text/plain": [
       "'times=[]\\nfor i in dates:\\n    for j in range(len(causes)):\\n        times.append(i)\\ntimes_causes_array=[times,causes*len(dates)]\\ntimes_causes_array'"
      ]
     },
     "execution_count": 33,
     "metadata": {},
     "output_type": "execute_result"
    }
   ],
   "source": [
    "\"\"\"times=[]\n",
    "for i in dates:\n",
    "    for j in range(len(causes)):\n",
    "        times.append(i)\n",
    "times_causes_array=[times,causes*len(dates)]\n",
    "times_causes_array\"\"\""
   ]
  },
  {
   "cell_type": "code",
   "execution_count": 34,
   "id": "c570d407-8385-497f-93a4-7df163206e3c",
   "metadata": {},
   "outputs": [
    {
     "data": {
      "text/plain": [
       "'data=np.array(list(weight_count_causes.values())).T.flatten()\\ndata.shape'"
      ]
     },
     "execution_count": 34,
     "metadata": {},
     "output_type": "execute_result"
    }
   ],
   "source": [
    "\"\"\"data=np.array(list(weight_count_causes.values())).T.flatten()\n",
    "data.shape\"\"\""
   ]
  },
  {
   "cell_type": "code",
   "execution_count": 35,
   "id": "5d50f10a-519d-4821-9980-eec1a202f142",
   "metadata": {},
   "outputs": [
    {
     "data": {
      "text/plain": [
       "'s=pd.Series(data, index=times_causes_array)'"
      ]
     },
     "execution_count": 35,
     "metadata": {},
     "output_type": "execute_result"
    }
   ],
   "source": [
    "\"\"\"s=pd.Series(data, index=times_causes_array)\"\"\""
   ]
  },
  {
   "cell_type": "code",
   "execution_count": 36,
   "id": "cdf8a775-ebe1-4186-91b7-80433ccfe124",
   "metadata": {},
   "outputs": [
    {
     "data": {
      "text/plain": [
       "'s1=s.groupby(level=[0]).apply(lambda x:x.groupby(level=[1]).sum().sort_values(ascending=True))\\ns1'"
      ]
     },
     "execution_count": 36,
     "metadata": {},
     "output_type": "execute_result"
    }
   ],
   "source": [
    "\"\"\"s1=s.groupby(level=[0]).apply(lambda x:x.groupby(level=[1]).sum().sort_values(ascending=True))\n",
    "s1\"\"\""
   ]
  },
  {
   "cell_type": "code",
   "execution_count": 37,
   "id": "59b488ff-670b-43f6-87fc-44bb45dcb1f7",
   "metadata": {},
   "outputs": [
    {
     "data": {
      "text/plain": [
       "'s1.unstack().plot.bar(stacked=True)'"
      ]
     },
     "execution_count": 37,
     "metadata": {},
     "output_type": "execute_result"
    }
   ],
   "source": [
    "\"\"\"s1.unstack().plot.bar(stacked=True)\"\"\""
   ]
  },
  {
   "cell_type": "code",
   "execution_count": 38,
   "id": "97421da7-f121-465c-96b2-a84547c9ab47",
   "metadata": {
    "scrolled": true
   },
   "outputs": [
    {
     "data": {
      "text/plain": [
       "'data,idxs=weight_count_causes.values(),weight_count_causes.keys()\\n\\ndata=pd.DataFrame(index=idxs,data=data,columns=dates).T\\ndata.plot.bar()'"
      ]
     },
     "execution_count": 38,
     "metadata": {},
     "output_type": "execute_result"
    }
   ],
   "source": [
    "\"\"\"data,idxs=weight_count_causes.values(),weight_count_causes.keys()\n",
    "\n",
    "data=pd.DataFrame(index=idxs,data=data,columns=dates).T\n",
    "data.plot.bar()\"\"\""
   ]
  }
 ],
 "metadata": {
  "kernelspec": {
   "display_name": "Python 3 (ipykernel)",
   "language": "python",
   "name": "python3"
  },
  "language_info": {
   "codemirror_mode": {
    "name": "ipython",
    "version": 3
   },
   "file_extension": ".py",
   "mimetype": "text/x-python",
   "name": "python",
   "nbconvert_exporter": "python",
   "pygments_lexer": "ipython3",
   "version": "3.12.8"
  }
 },
 "nbformat": 4,
 "nbformat_minor": 5
}
