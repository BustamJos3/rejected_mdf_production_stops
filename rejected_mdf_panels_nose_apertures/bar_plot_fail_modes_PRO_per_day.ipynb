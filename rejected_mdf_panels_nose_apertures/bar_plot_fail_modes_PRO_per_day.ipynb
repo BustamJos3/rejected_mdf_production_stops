{
 "cells": [
  {
   "cell_type": "code",
   "execution_count": 1,
   "id": "867ecfc4-5dbc-4011-8f20-5a42a5dbbd75",
   "metadata": {},
   "outputs": [],
   "source": [
    "import pandas as pd #modules\n",
    "import numpy as np\n",
    "import matplotlib\n",
    "import matplotlib.pyplot as plt\n",
    "import matplotlib.colors as mcolors\n",
    "import os\n",
    "import pathlib\n",
    "from pathlib import Path\n",
    "from datetime import datetime"
   ]
  },
  {
   "cell_type": "code",
   "execution_count": 2,
   "id": "621a2713-97e9-4ab8-8c11-88b4c4feb991",
   "metadata": {},
   "outputs": [],
   "source": [
    "import os\n",
    "\n",
    "def find_reports_in_onedrive():\n",
    "    \"\"\"\n",
    "    Scans the subfolders under the current user's OneDrive folder (including variations like 'OneDrive - Company Name')\n",
    "    and returns the paths of all folders with the prefix 'reports'.\n",
    "\n",
    "    Returns:\n",
    "        list: A list of full paths to folders starting with 'reports', or an empty list if none are found.\n",
    "    \"\"\"\n",
    "    # Get the base path to the user's home directory\n",
    "    user_home = os.path.expanduser(\"~\")\n",
    "\n",
    "    # Find the OneDrive folder (handles variations like \"OneDrive - Company Name\")\n",
    "    onedrive_folder = None\n",
    "    for folder in os.listdir(user_home):\n",
    "        if folder.startswith(\"OneDrive -\"):\n",
    "            onedrive_folder = os.path.join(user_home, folder)\n",
    "            break\n",
    "\n",
    "    if not onedrive_folder:\n",
    "        raise FileNotFoundError(\"OneDrive folder not found for the current user.\")\n",
    "\n",
    "    # Search for folders with the prefix 'reports' in the OneDrive directory\n",
    "    report_folders = []\n",
    "    for root, dirs, files in os.walk(onedrive_folder):\n",
    "        for dir_name in dirs:\n",
    "            if dir_name.lower().startswith(\"reports\"):\n",
    "                report_folders.append(os.path.join(root, dir_name))\n",
    "\n",
    "    return report_folders"
   ]
  },
  {
   "cell_type": "code",
   "execution_count": 3,
   "id": "2da66118-d547-490a-9903-8a5752bf1bd5",
   "metadata": {},
   "outputs": [
    {
     "data": {
      "text/plain": [
       "['C:\\\\Users\\\\jdbustamante\\\\OneDrive - Duratex SA\\\\reports_control_variables_refinacion',\n",
       " 'C:\\\\Users\\\\jdbustamante\\\\OneDrive - Duratex SA\\\\reports_cuchillas',\n",
       " 'C:\\\\Users\\\\jdbustamante\\\\OneDrive - Duratex SA\\\\reports_eventos',\n",
       " 'C:\\\\Users\\\\jdbustamante\\\\OneDrive - Duratex SA\\\\reports_humidity_measures',\n",
       " 'C:\\\\Users\\\\jdbustamante\\\\OneDrive - Duratex SA\\\\reports_ops_pendings',\n",
       " 'C:\\\\Users\\\\jdbustamante\\\\OneDrive - Duratex SA\\\\reports_pre-usos_diligenciamiento_no_cumple',\n",
       " 'C:\\\\Users\\\\jdbustamante\\\\OneDrive - Duratex SA\\\\reports_quality_deviations',\n",
       " 'C:\\\\Users\\\\jdbustamante\\\\OneDrive - Duratex SA\\\\reports_refination_deviations',\n",
       " 'C:\\\\Users\\\\jdbustamante\\\\OneDrive - Duratex SA\\\\reports_visualizacion_data_produccion',\n",
       " 'C:\\\\Users\\\\jdbustamante\\\\OneDrive - Duratex SA\\\\control_room\\\\reports_causa_rechazos']"
      ]
     },
     "execution_count": 3,
     "metadata": {},
     "output_type": "execute_result"
    }
   ],
   "source": [
    "reports_paths=find_reports_in_onedrive()\n",
    "reports_paths"
   ]
  },
  {
   "cell_type": "code",
   "execution_count": 4,
   "id": "0dc9f48f-c5f3-418b-8541-9eca6caaf6a3",
   "metadata": {},
   "outputs": [
    {
     "data": {
      "text/plain": [
       "WindowsPath('C:/Users/jdbustamante/OneDrive - Duratex SA/reports_visualizacion_data_produccion/source_and_return_data')"
      ]
     },
     "execution_count": 4,
     "metadata": {},
     "output_type": "execute_result"
    }
   ],
   "source": [
    "str_folder_searcher=\"reports_visualizacion_data_produccion\"\n",
    "for report_path in reports_paths:\n",
    "    if str_folder_searcher in report_path:\n",
    "        path=Path(reports_paths[reports_paths.index(report_path)])\n",
    "path=Path.joinpath(path,r\"source_and_return_data\")\n",
    "path"
   ]
  },
  {
   "cell_type": "code",
   "execution_count": 5,
   "id": "002dad34-1be6-4fc3-b4ce-433c3ad28758",
   "metadata": {},
   "outputs": [
    {
     "data": {
      "text/plain": [
       "'C:\\\\Users\\\\jdbustamante\\\\OneDrive - Duratex SA\\\\reports_visualizacion_data_produccion\\\\source_and_return_data'"
      ]
     },
     "execution_count": 5,
     "metadata": {},
     "output_type": "execute_result"
    }
   ],
   "source": [
    "os.chdir(path) #change working directory to respective reports folder\n",
    "os.getcwd()"
   ]
  },
  {
   "cell_type": "code",
   "execution_count": 6,
   "id": "3a221e53-f39d-4de6-ad48-487b1c632cfe",
   "metadata": {},
   "outputs": [
    {
     "name": "stdout",
     "output_type": "stream",
     "text": [
      "Archivos encontrados: [WindowsPath('C:/Users/jdbustamante/OneDrive - Duratex SA/reports_visualizacion_data_produccion/source_and_return_data/data_plots/test_obj_aperturas_nariz.xlsx'), WindowsPath('C:/Users/jdbustamante/OneDrive - Duratex SA/reports_visualizacion_data_produccion/source_and_return_data/data_plots/test_obj_causa_rechazos.xlsx')]\n"
     ]
    }
   ],
   "source": [
    "directory = Path.joinpath(path,\"data_plots\") #get current work directory\n",
    "directory.mkdir(exist_ok=True)\n",
    "matching_files = list(directory.glob(\"*obj*.xlsx\"))  # Busca archivos que contengan 'obj' y tengan extensión .xlsx\n",
    "print(\"Archivos encontrados:\", matching_files)"
   ]
  },
  {
   "cell_type": "code",
   "execution_count": 7,
   "id": "6d30eb50-f4d7-42eb-9770-81a2caa87db2",
   "metadata": {},
   "outputs": [
    {
     "name": "stdout",
     "output_type": "stream",
     "text": [
      "C:\\Users\\jdbustamante\\OneDrive - Duratex SA\\reports_visualizacion_data_produccion\\source_and_return_data\\data_plots\\test_obj_aperturas_nariz.xlsx\n",
      "C:\\Users\\jdbustamante\\OneDrive - Duratex SA\\reports_visualizacion_data_produccion\\source_and_return_data\\data_plots\\test_obj_causa_rechazos.xlsx\n",
      "['aperturas_nariz', 'causa_rechazos']\n"
     ]
    }
   ],
   "source": [
    "dict_data_pointer={} #dict to store files as dfs\n",
    "for i in matching_files: # Read the Excel file \n",
    "    file_path = str(i)  # Update this with the path\n",
    "    df = pd.read_excel(file_path)\n",
    "    print(file_path)\n",
    "    df_name=file_path.split(\"obj_\")[1].split(\".\")[0] #split str with \"obj_\" and the  \".\" char and take the file name\n",
    "    date_col=\"Fecha\" #default col name with dates\n",
    "    if \"aperturas\" in file_path.lower(): #if excel name file contains \"aperturas\", change col name with dates\n",
    "        date_col=\"Fecha Paro\"\n",
    "    row_numbers_nan = df.index[df[date_col].isna()].tolist() # Get the row numbers where 'Fecha' or 'Fecha Paro' is NaN\n",
    "    row_numbers = list(set(row_numbers_nan)) # lists of row with nan numbers\n",
    "    filtered_df = df.drop(index=row_numbers) # Filter the DataFrame to keep only the rows that are not in row_numbers\n",
    "    dict_data_pointer[f\"{df_name}\"]=filtered_df #store filtered df in dictionary data pointer\n",
    "print(list(dict_data_pointer.keys())) #see keys on dictionary to check callability"
   ]
  },
  {
   "cell_type": "code",
   "execution_count": 8,
   "id": "5cca5b8e-716e-437a-8dc6-cd0833daaf5b",
   "metadata": {
    "scrolled": true
   },
   "outputs": [
    {
     "data": {
      "text/html": [
       "<div>\n",
       "<style scoped>\n",
       "    .dataframe tbody tr th:only-of-type {\n",
       "        vertical-align: middle;\n",
       "    }\n",
       "\n",
       "    .dataframe tbody tr th {\n",
       "        vertical-align: top;\n",
       "    }\n",
       "\n",
       "    .dataframe thead th {\n",
       "        text-align: right;\n",
       "    }\n",
       "</style>\n",
       "<table border=\"1\" class=\"dataframe\">\n",
       "  <thead>\n",
       "    <tr style=\"text-align: right;\">\n",
       "      <th></th>\n",
       "      <th>Linea</th>\n",
       "      <th>Proceso</th>\n",
       "      <th>Tipo Paro</th>\n",
       "      <th>Fecha Paro</th>\n",
       "      <th>Hora Inicial</th>\n",
       "      <th>Hora Final</th>\n",
       "      <th>Descripción Equipo</th>\n",
       "      <th>Modo de Fallo</th>\n",
       "      <th>Obversación</th>\n",
       "      <th>Tiempo Parada</th>\n",
       "      <th>Turno</th>\n",
       "      <th>Calibre</th>\n",
       "      <th>Columna1</th>\n",
       "    </tr>\n",
       "  </thead>\n",
       "  <tbody>\n",
       "  </tbody>\n",
       "</table>\n",
       "</div>"
      ],
      "text/plain": [
       "Empty DataFrame\n",
       "Columns: [Linea, Proceso, Tipo Paro, Fecha Paro, Hora Inicial, Hora Final, Descripción Equipo, Modo de Fallo, Obversación, Tiempo Parada, Turno, Calibre, Columna1]\n",
       "Index: []"
      ]
     },
     "execution_count": 8,
     "metadata": {},
     "output_type": "execute_result"
    }
   ],
   "source": [
    "df_root=dict_data_pointer['aperturas_nariz']\n",
    "df_root[df_root[\"Fecha Paro\"]==\"NaT\"]"
   ]
  },
  {
   "cell_type": "code",
   "execution_count": 9,
   "id": "648c6826-c4f0-4a88-a2ac-8a47a3dcd982",
   "metadata": {},
   "outputs": [
    {
     "data": {
      "text/html": [
       "<div>\n",
       "<style scoped>\n",
       "    .dataframe tbody tr th:only-of-type {\n",
       "        vertical-align: middle;\n",
       "    }\n",
       "\n",
       "    .dataframe tbody tr th {\n",
       "        vertical-align: top;\n",
       "    }\n",
       "\n",
       "    .dataframe thead th {\n",
       "        text-align: right;\n",
       "    }\n",
       "</style>\n",
       "<table border=\"1\" class=\"dataframe\">\n",
       "  <thead>\n",
       "    <tr style=\"text-align: right;\">\n",
       "      <th></th>\n",
       "      <th>Linea</th>\n",
       "      <th>Proceso</th>\n",
       "      <th>Tipo Paro</th>\n",
       "      <th>Fecha Paro</th>\n",
       "      <th>Hora Inicial</th>\n",
       "      <th>Hora Final</th>\n",
       "      <th>Descripción Equipo</th>\n",
       "      <th>Modo de Fallo</th>\n",
       "      <th>Obversación</th>\n",
       "      <th>Tiempo Parada</th>\n",
       "      <th>Turno</th>\n",
       "      <th>Calibre</th>\n",
       "      <th>Columna1</th>\n",
       "    </tr>\n",
       "  </thead>\n",
       "  <tbody>\n",
       "    <tr>\n",
       "      <th>0</th>\n",
       "      <td>CRUDO</td>\n",
       "      <td>300 - SECADO PRIMERA Y SEGUNDA ETAPA</td>\n",
       "      <td>PARO PROGRAMADO</td>\n",
       "      <td>2025-02-01</td>\n",
       "      <td>09:00:00</td>\n",
       "      <td>13:00:00</td>\n",
       "      <td>300 SECADO PRIMERA Y SEGUNDA ETAPA</td>\n",
       "      <td>LIMPIEZA DE EQUIPOS - PRO</td>\n",
       "      <td>se para linea para realizar limpiesa a secader...</td>\n",
       "      <td>240.01</td>\n",
       "      <td>2</td>\n",
       "      <td>9</td>\n",
       "      <td>153659</td>\n",
       "    </tr>\n",
       "    <tr>\n",
       "      <th>1</th>\n",
       "      <td>CRUDO</td>\n",
       "      <td>400 - FORMACION, PRE-PRENSADO &amp; CORTE</td>\n",
       "      <td>ELÉCTRICO</td>\n",
       "      <td>2025-02-01</td>\n",
       "      <td>13:00:00</td>\n",
       "      <td>13:02:00</td>\n",
       "      <td>400.402.00 BUNKER DE FORMACION</td>\n",
       "      <td>FALLA DE MOTOR - ELC</td>\n",
       "      <td>se va a fallo en esparcidor #3 , se da reset ,...</td>\n",
       "      <td>2.00</td>\n",
       "      <td>3</td>\n",
       "      <td>9</td>\n",
       "      <td>153659</td>\n",
       "    </tr>\n",
       "    <tr>\n",
       "      <th>2</th>\n",
       "      <td>CRUDO</td>\n",
       "      <td>400 - FORMACION, PRE-PRENSADO &amp; CORTE</td>\n",
       "      <td>ELÉCTRICO</td>\n",
       "      <td>2025-02-01</td>\n",
       "      <td>13:10:00</td>\n",
       "      <td>13:18:00</td>\n",
       "      <td>400.402.00 BUNKER DE FORMACION</td>\n",
       "      <td>FALLA DE MOTOR - ELC</td>\n",
       "      <td>se va a fallo en esparcidor #3 , se da reset ,...</td>\n",
       "      <td>8.00</td>\n",
       "      <td>3</td>\n",
       "      <td>9</td>\n",
       "      <td>153659</td>\n",
       "    </tr>\n",
       "    <tr>\n",
       "      <th>3</th>\n",
       "      <td>CRUDO</td>\n",
       "      <td>400 - FORMACION, PRE-PRENSADO &amp; CORTE</td>\n",
       "      <td>ELÉCTRICO</td>\n",
       "      <td>2025-02-01</td>\n",
       "      <td>13:25:00</td>\n",
       "      <td>13:36:00</td>\n",
       "      <td>400.402.00 BUNKER DE FORMACION</td>\n",
       "      <td>FALLA DE MOTOR - ELC</td>\n",
       "      <td>se va a fallo en esparcidor #3 , se da reset ,...</td>\n",
       "      <td>11.00</td>\n",
       "      <td>3</td>\n",
       "      <td>9</td>\n",
       "      <td>153659</td>\n",
       "    </tr>\n",
       "    <tr>\n",
       "      <th>4</th>\n",
       "      <td>CRUDO</td>\n",
       "      <td>400 - FORMACION, PRE-PRENSADO &amp; CORTE</td>\n",
       "      <td>ELÉCTRICO</td>\n",
       "      <td>2025-02-01</td>\n",
       "      <td>13:48:00</td>\n",
       "      <td>14:07:00</td>\n",
       "      <td>400.402.00 BUNKER DE FORMACION</td>\n",
       "      <td>FALLA DE MOTOR - ELC</td>\n",
       "      <td>se va a fallo en esparcidor #3 , se da reset ,...</td>\n",
       "      <td>19.00</td>\n",
       "      <td>3</td>\n",
       "      <td>9</td>\n",
       "      <td>153659</td>\n",
       "    </tr>\n",
       "    <tr>\n",
       "      <th>5</th>\n",
       "      <td>CRUDO</td>\n",
       "      <td>300 - SECADO PRIMERA Y SEGUNDA ETAPA</td>\n",
       "      <td>PRODUCCIÓN</td>\n",
       "      <td>2025-02-01</td>\n",
       "      <td>20:20:00</td>\n",
       "      <td>20:35:00</td>\n",
       "      <td>300 SECADO PRIMERA Y SEGUNDA ETAPA</td>\n",
       "      <td>VARIACION TEMPERATURA - PRO</td>\n",
       "      <td>se presento un variacion de alta temperatura e...</td>\n",
       "      <td>15.00</td>\n",
       "      <td>3</td>\n",
       "      <td>9</td>\n",
       "      <td>153659</td>\n",
       "    </tr>\n",
       "    <tr>\n",
       "      <th>6</th>\n",
       "      <td>CRUDO</td>\n",
       "      <td>400 - FORMACION, PRE-PRENSADO &amp; CORTE</td>\n",
       "      <td>PRODUCCIÓN</td>\n",
       "      <td>2025-02-02</td>\n",
       "      <td>09:51:00</td>\n",
       "      <td>09:53:00</td>\n",
       "      <td>400 FORMACION Y PREPRENSA</td>\n",
       "      <td>DETECCIÓN DE METAL - MEC</td>\n",
       "      <td>Metal banda 415</td>\n",
       "      <td>2.00</td>\n",
       "      <td>2</td>\n",
       "      <td>9</td>\n",
       "      <td>153660</td>\n",
       "    </tr>\n",
       "  </tbody>\n",
       "</table>\n",
       "</div>"
      ],
      "text/plain": [
       "   Linea                                Proceso        Tipo Paro Fecha Paro  \\\n",
       "0  CRUDO   300 - SECADO PRIMERA Y SEGUNDA ETAPA  PARO PROGRAMADO 2025-02-01   \n",
       "1  CRUDO  400 - FORMACION, PRE-PRENSADO & CORTE        ELÉCTRICO 2025-02-01   \n",
       "2  CRUDO  400 - FORMACION, PRE-PRENSADO & CORTE        ELÉCTRICO 2025-02-01   \n",
       "3  CRUDO  400 - FORMACION, PRE-PRENSADO & CORTE        ELÉCTRICO 2025-02-01   \n",
       "4  CRUDO  400 - FORMACION, PRE-PRENSADO & CORTE        ELÉCTRICO 2025-02-01   \n",
       "5  CRUDO   300 - SECADO PRIMERA Y SEGUNDA ETAPA       PRODUCCIÓN 2025-02-01   \n",
       "6  CRUDO  400 - FORMACION, PRE-PRENSADO & CORTE       PRODUCCIÓN 2025-02-02   \n",
       "\n",
       "  Hora Inicial Hora Final                  Descripción Equipo  \\\n",
       "0     09:00:00   13:00:00  300 SECADO PRIMERA Y SEGUNDA ETAPA   \n",
       "1     13:00:00   13:02:00      400.402.00 BUNKER DE FORMACION   \n",
       "2     13:10:00   13:18:00      400.402.00 BUNKER DE FORMACION   \n",
       "3     13:25:00   13:36:00      400.402.00 BUNKER DE FORMACION   \n",
       "4     13:48:00   14:07:00      400.402.00 BUNKER DE FORMACION   \n",
       "5     20:20:00   20:35:00  300 SECADO PRIMERA Y SEGUNDA ETAPA   \n",
       "6     09:51:00   09:53:00           400 FORMACION Y PREPRENSA   \n",
       "\n",
       "                 Modo de Fallo  \\\n",
       "0    LIMPIEZA DE EQUIPOS - PRO   \n",
       "1         FALLA DE MOTOR - ELC   \n",
       "2         FALLA DE MOTOR - ELC   \n",
       "3         FALLA DE MOTOR - ELC   \n",
       "4         FALLA DE MOTOR - ELC   \n",
       "5  VARIACION TEMPERATURA - PRO   \n",
       "6     DETECCIÓN DE METAL - MEC   \n",
       "\n",
       "                                         Obversación  Tiempo Parada  Turno  \\\n",
       "0  se para linea para realizar limpiesa a secader...         240.01      2   \n",
       "1  se va a fallo en esparcidor #3 , se da reset ,...           2.00      3   \n",
       "2  se va a fallo en esparcidor #3 , se da reset ,...           8.00      3   \n",
       "3  se va a fallo en esparcidor #3 , se da reset ,...          11.00      3   \n",
       "4  se va a fallo en esparcidor #3 , se da reset ,...          19.00      3   \n",
       "5  se presento un variacion de alta temperatura e...          15.00      3   \n",
       "6                                    Metal banda 415           2.00      2   \n",
       "\n",
       "   Calibre  Columna1  \n",
       "0        9    153659  \n",
       "1        9    153659  \n",
       "2        9    153659  \n",
       "3        9    153659  \n",
       "4        9    153659  \n",
       "5        9    153659  \n",
       "6        9    153660  "
      ]
     },
     "execution_count": 9,
     "metadata": {},
     "output_type": "execute_result"
    }
   ],
   "source": [
    "df_root"
   ]
  },
  {
   "cell_type": "code",
   "execution_count": 10,
   "id": "3133c92d-5a75-482a-8764-95acefb2061f",
   "metadata": {
    "scrolled": true
   },
   "outputs": [
    {
     "name": "stderr",
     "output_type": "stream",
     "text": [
      "C:\\Users\\jdbustamante\\AppData\\Local\\Temp\\ipykernel_25668\\1638482938.py:3: SettingWithCopyWarning: \n",
      "A value is trying to be set on a copy of a slice from a DataFrame.\n",
      "Try using .loc[row_indexer,col_indexer] = value instead\n",
      "\n",
      "See the caveats in the documentation: https://pandas.pydata.org/pandas-docs/stable/user_guide/indexing.html#returning-a-view-versus-a-copy\n",
      "  df_pro[\"Fecha Paro\"]=df_pro.loc[:,\"Fecha Paro\"].apply(lambda x: x.strftime(\"%Y-%m-%d\")) #\n"
     ]
    },
    {
     "data": {
      "text/plain": [
       "5    2025-02-01\n",
       "6    2025-02-02\n",
       "Name: Fecha Paro, dtype: object"
      ]
     },
     "execution_count": 10,
     "metadata": {},
     "output_type": "execute_result"
    }
   ],
   "source": [
    "df_pro=df_root[df_root[\"Tipo Paro\"].str.contains(\"PRODUCCIÓN\")]\n",
    "#df_pro.set_index([pd.Index(range(len(df_pro)))],inplace=True)\n",
    "df_pro[\"Fecha Paro\"]=df_pro.loc[:,\"Fecha Paro\"].apply(lambda x: x.strftime(\"%Y-%m-%d\")) #\n",
    "df_pro['Fecha Paro']"
   ]
  },
  {
   "cell_type": "markdown",
   "id": "86abee2f-d691-4fc2-bee6-1bc29c2d83a4",
   "metadata": {},
   "source": [
    "# Drop duplicate apertures"
   ]
  },
  {
   "cell_type": "code",
   "execution_count": 11,
   "id": "52273a40-f9ed-48dd-b09e-ee9f736eee76",
   "metadata": {
    "scrolled": true
   },
   "outputs": [
    {
     "data": {
      "text/plain": [
       "['2025-02-01', '2025-02-02']"
      ]
     },
     "execution_count": 11,
     "metadata": {},
     "output_type": "execute_result"
    }
   ],
   "source": [
    "dates_ar=[date for date in df_pro[\"Fecha Paro\"].unique()]\n",
    "dates_ar"
   ]
  },
  {
   "cell_type": "code",
   "execution_count": 12,
   "id": "64d3a7a0-274d-45e2-9916-ce769952c208",
   "metadata": {
    "scrolled": true
   },
   "outputs": [
    {
     "name": "stdout",
     "output_type": "stream",
     "text": [
      "2025-02-01\n",
      "5\n",
      "5 from 1\n",
      "idxs to drop are []\n",
      "2025-02-02\n",
      "6\n",
      "6 from 1\n",
      "idxs to drop are []\n"
     ]
    },
    {
     "name": "stderr",
     "output_type": "stream",
     "text": [
      "C:\\Users\\jdbustamante\\AppData\\Local\\Temp\\ipykernel_25668\\3455869565.py:15: SettingWithCopyWarning: \n",
      "A value is trying to be set on a copy of a slice from a DataFrame\n",
      "\n",
      "See the caveats in the documentation: https://pandas.pydata.org/pandas-docs/stable/user_guide/indexing.html#returning-a-view-versus-a-copy\n",
      "  df_pro.drop(list_dropped_idx_rows,inplace=True) #drop selected rows for current date\n"
     ]
    },
    {
     "data": {
      "text/html": [
       "<div>\n",
       "<style scoped>\n",
       "    .dataframe tbody tr th:only-of-type {\n",
       "        vertical-align: middle;\n",
       "    }\n",
       "\n",
       "    .dataframe tbody tr th {\n",
       "        vertical-align: top;\n",
       "    }\n",
       "\n",
       "    .dataframe thead th {\n",
       "        text-align: right;\n",
       "    }\n",
       "</style>\n",
       "<table border=\"1\" class=\"dataframe\">\n",
       "  <thead>\n",
       "    <tr style=\"text-align: right;\">\n",
       "      <th></th>\n",
       "      <th>Linea</th>\n",
       "      <th>Proceso</th>\n",
       "      <th>Tipo Paro</th>\n",
       "      <th>Fecha Paro</th>\n",
       "      <th>Hora Inicial</th>\n",
       "      <th>Hora Final</th>\n",
       "      <th>Descripción Equipo</th>\n",
       "      <th>Modo de Fallo</th>\n",
       "      <th>Obversación</th>\n",
       "      <th>Tiempo Parada</th>\n",
       "      <th>Turno</th>\n",
       "      <th>Calibre</th>\n",
       "      <th>Columna1</th>\n",
       "    </tr>\n",
       "  </thead>\n",
       "  <tbody>\n",
       "    <tr>\n",
       "      <th>5</th>\n",
       "      <td>CRUDO</td>\n",
       "      <td>300 - SECADO PRIMERA Y SEGUNDA ETAPA</td>\n",
       "      <td>PRODUCCIÓN</td>\n",
       "      <td>2025-02-01</td>\n",
       "      <td>20:20:00</td>\n",
       "      <td>20:35:00</td>\n",
       "      <td>300 SECADO PRIMERA Y SEGUNDA ETAPA</td>\n",
       "      <td>VARIACION TEMPERATURA - PRO</td>\n",
       "      <td>se presento un variacion de alta temperatura e...</td>\n",
       "      <td>15.0</td>\n",
       "      <td>3</td>\n",
       "      <td>9</td>\n",
       "      <td>153659</td>\n",
       "    </tr>\n",
       "    <tr>\n",
       "      <th>6</th>\n",
       "      <td>CRUDO</td>\n",
       "      <td>400 - FORMACION, PRE-PRENSADO &amp; CORTE</td>\n",
       "      <td>PRODUCCIÓN</td>\n",
       "      <td>2025-02-02</td>\n",
       "      <td>09:51:00</td>\n",
       "      <td>09:53:00</td>\n",
       "      <td>400 FORMACION Y PREPRENSA</td>\n",
       "      <td>DETECCIÓN DE METAL - MEC</td>\n",
       "      <td>Metal banda 415</td>\n",
       "      <td>2.0</td>\n",
       "      <td>2</td>\n",
       "      <td>9</td>\n",
       "      <td>153660</td>\n",
       "    </tr>\n",
       "  </tbody>\n",
       "</table>\n",
       "</div>"
      ],
      "text/plain": [
       "   Linea                                Proceso   Tipo Paro  Fecha Paro  \\\n",
       "5  CRUDO   300 - SECADO PRIMERA Y SEGUNDA ETAPA  PRODUCCIÓN  2025-02-01   \n",
       "6  CRUDO  400 - FORMACION, PRE-PRENSADO & CORTE  PRODUCCIÓN  2025-02-02   \n",
       "\n",
       "  Hora Inicial Hora Final                  Descripción Equipo  \\\n",
       "5     20:20:00   20:35:00  300 SECADO PRIMERA Y SEGUNDA ETAPA   \n",
       "6     09:51:00   09:53:00           400 FORMACION Y PREPRENSA   \n",
       "\n",
       "                 Modo de Fallo  \\\n",
       "5  VARIACION TEMPERATURA - PRO   \n",
       "6     DETECCIÓN DE METAL - MEC   \n",
       "\n",
       "                                         Obversación  Tiempo Parada  Turno  \\\n",
       "5  se presento un variacion de alta temperatura e...           15.0      3   \n",
       "6                                    Metal banda 415            2.0      2   \n",
       "\n",
       "   Calibre  Columna1  \n",
       "5        9    153659  \n",
       "6        9    153660  "
      ]
     },
     "execution_count": 12,
     "metadata": {},
     "output_type": "execute_result"
    }
   ],
   "source": [
    "list_dropped_idx_rows=[]\n",
    "for date_ar in dates_ar:\n",
    "    print(date_ar)\n",
    "    df_seeker=df_pro.loc[df_pro[\"Fecha Paro\"]==date_ar] #filter by date\n",
    "    rows_df_seeker=df_seeker.index #get idx of df for current date\n",
    "    last_row=rows_df_seeker[-1] #to avoid out of range\n",
    "    print(last_row)\n",
    "    for idx,row in enumerate(rows_df_seeker):\n",
    "        print(f\"{row} from {len(rows_df_seeker)}\")\n",
    "        if row==last_row:\n",
    "            continue #jump to next date\n",
    "        if df_seeker.at[row,\"Hora Final\"]==df_seeker.at[rows_df_seeker[idx+1],\"Hora Inicial\"]:\n",
    "            list_dropped_idx_rows.append(row+1) #add idx to be dropped\n",
    "    print(\"idxs to drop are {}\".format(list_dropped_idx_rows))\n",
    "df_pro.drop(list_dropped_idx_rows,inplace=True) #drop selected rows for current date\n",
    "df_pro"
   ]
  },
  {
   "cell_type": "code",
   "execution_count": 13,
   "id": "45b36d62-5074-4568-8435-9cb1c928fe20",
   "metadata": {
    "scrolled": true
   },
   "outputs": [
    {
     "data": {
      "text/plain": [
       "Fecha Paro  Modo de Fallo                Descripción Equipo                \n",
       "2025-02-01  VARIACION TEMPERATURA - PRO  300 SECADO PRIMERA Y SEGUNDA ETAPA    1\n",
       "2025-02-02  DETECCIÓN DE METAL - MEC     400 FORMACION Y PREPRENSA             1\n",
       "Name: Linea, dtype: int64"
      ]
     },
     "execution_count": 13,
     "metadata": {},
     "output_type": "execute_result"
    }
   ],
   "source": [
    "df_count_fail_mode_equipment=df_pro.groupby(by=[\"Fecha Paro\",\"Modo de Fallo\",\"Descripción Equipo\"]).count().loc[:,\"Linea\"]\n",
    "df_count_fail_mode_equipment"
   ]
  },
  {
   "cell_type": "code",
   "execution_count": 14,
   "id": "6114ecbd-c679-474f-9005-30ce4895d863",
   "metadata": {
    "scrolled": true
   },
   "outputs": [
    {
     "data": {
      "text/plain": [
       "[('2025-02-01',\n",
       "  'VARIACION TEMPERATURA - PRO',\n",
       "  '300 SECADO PRIMERA Y SEGUNDA ETAPA'),\n",
       " ('2025-02-02', 'DETECCIÓN DE METAL - MEC', '400 FORMACION Y PREPRENSA')]"
      ]
     },
     "execution_count": 14,
     "metadata": {},
     "output_type": "execute_result"
    }
   ],
   "source": [
    "multi_index_from_df=list(df_count_fail_mode_equipment.index)\n",
    "multi_index_from_df"
   ]
  },
  {
   "cell_type": "code",
   "execution_count": 15,
   "id": "75eab932-75bb-4cbf-a2f5-f523b144a594",
   "metadata": {
    "scrolled": true
   },
   "outputs": [
    {
     "data": {
      "text/plain": [
       "['2025-02-01', '2025-02-02']"
      ]
     },
     "execution_count": 15,
     "metadata": {},
     "output_type": "execute_result"
    }
   ],
   "source": [
    "dates=sorted(list(set([multi_index[0] for multi_index in multi_index_from_df ])))\n",
    "dates"
   ]
  },
  {
   "cell_type": "code",
   "execution_count": 16,
   "id": "b7c21013-45ab-4f93-b205-52cc4c6cfebb",
   "metadata": {
    "scrolled": true
   },
   "outputs": [
    {
     "data": {
      "text/plain": [
       "['DETECCIÓN DE METAL - MEC', 'VARIACION TEMPERATURA - PRO']"
      ]
     },
     "execution_count": 16,
     "metadata": {},
     "output_type": "execute_result"
    }
   ],
   "source": [
    "fail_modes=sorted(list(set([multi_index[1] for multi_index in multi_index_from_df ])))\n",
    "fail_modes"
   ]
  },
  {
   "cell_type": "code",
   "execution_count": 17,
   "id": "4609083e-f112-4dc8-9bae-c81fe917fac5",
   "metadata": {
    "scrolled": true
   },
   "outputs": [
    {
     "data": {
      "text/plain": [
       "['300 SECADO PRIMERA Y SEGUNDA ETAPA', '400 FORMACION Y PREPRENSA']"
      ]
     },
     "execution_count": 17,
     "metadata": {},
     "output_type": "execute_result"
    }
   ],
   "source": [
    "equipments=sorted(list(set([multi_index[2] for multi_index in multi_index_from_df ])))\n",
    "equipments"
   ]
  },
  {
   "cell_type": "code",
   "execution_count": 18,
   "id": "3c4b9b55-a408-4ba3-b7ab-55b8c3d6acf0",
   "metadata": {
    "scrolled": true
   },
   "outputs": [
    {
     "name": "stderr",
     "output_type": "stream",
     "text": [
      "C:\\Users\\jdbustamante\\AppData\\Local\\Temp\\ipykernel_25668\\558380705.py:1: FutureWarning: Downcasting object dtype arrays on .fillna, .ffill, .bfill is deprecated and will change in a future version. Call result.infer_objects(copy=False) instead. To opt-in to the future behavior, set `pd.set_option('future.no_silent_downcasting', True)`\n",
      "  df_stacked_data=pd.DataFrame(data=[],index=dates,columns=fail_modes).fillna(0)\n"
     ]
    },
    {
     "data": {
      "text/html": [
       "<div>\n",
       "<style scoped>\n",
       "    .dataframe tbody tr th:only-of-type {\n",
       "        vertical-align: middle;\n",
       "    }\n",
       "\n",
       "    .dataframe tbody tr th {\n",
       "        vertical-align: top;\n",
       "    }\n",
       "\n",
       "    .dataframe thead th {\n",
       "        text-align: right;\n",
       "    }\n",
       "</style>\n",
       "<table border=\"1\" class=\"dataframe\">\n",
       "  <thead>\n",
       "    <tr style=\"text-align: right;\">\n",
       "      <th></th>\n",
       "      <th>DETECCIÓN DE METAL - MEC</th>\n",
       "      <th>VARIACION TEMPERATURA - PRO</th>\n",
       "    </tr>\n",
       "  </thead>\n",
       "  <tbody>\n",
       "    <tr>\n",
       "      <th>2025-02-01</th>\n",
       "      <td>0</td>\n",
       "      <td>0</td>\n",
       "    </tr>\n",
       "    <tr>\n",
       "      <th>2025-02-02</th>\n",
       "      <td>0</td>\n",
       "      <td>0</td>\n",
       "    </tr>\n",
       "  </tbody>\n",
       "</table>\n",
       "</div>"
      ],
      "text/plain": [
       "            DETECCIÓN DE METAL - MEC  VARIACION TEMPERATURA - PRO\n",
       "2025-02-01                         0                            0\n",
       "2025-02-02                         0                            0"
      ]
     },
     "execution_count": 18,
     "metadata": {},
     "output_type": "execute_result"
    }
   ],
   "source": [
    "df_stacked_data=pd.DataFrame(data=[],index=dates,columns=fail_modes).fillna(0)\n",
    "df_stacked_data"
   ]
  },
  {
   "cell_type": "code",
   "execution_count": 19,
   "id": "6fa05465-8d71-4a7c-ad8a-13bbc1e00ce7",
   "metadata": {
    "scrolled": true
   },
   "outputs": [
    {
     "name": "stdout",
     "output_type": "stream",
     "text": [
      "2025-02-01 VARIACION TEMPERATURA - PRO\n",
      "1\n",
      "valor mas equipo:  1 \n",
      "VT\n",
      "2025-02-02 DETECCIÓN DE METAL - MEC\n",
      "1\n",
      "valor mas equipo:  1 \n",
      "DDMM\n"
     ]
    },
    {
     "data": {
      "text/plain": [
       "{'DETECCIÓN DE METAL - MEC': ['', '1 \\nDDMM'],\n",
       " 'VARIACION TEMPERATURA - PRO': ['1 \\nVT', '']}"
      ]
     },
     "execution_count": 19,
     "metadata": {},
     "output_type": "execute_result"
    }
   ],
   "source": [
    "acronyms=lambda x:\"\\n\"+''.join(w[0] for w in x.split(\"- PRO\")[0].split() if w[0].isupper())\n",
    "dict_stacked_values={fail_mode:[\"\"]*len(dates) for fail_mode in fail_modes}\n",
    "for date,fail_mode,equip in multi_index_from_df:\n",
    "    print(date,fail_mode)\n",
    "    count_by_date_by_fail_mode_by_equipment= df_count_fail_mode_equipment[date,fail_mode].sum() # df_count_fail_mode_equipment.at[date,fail_mode,equip]\n",
    "    print(count_by_date_by_fail_mode_by_equipment)\n",
    "    value_label_plus_equip=str(count_by_date_by_fail_mode_by_equipment)+f\" {acronyms(fail_mode)}\" # equip.split(\" \")[0]+\":\"+\n",
    "    print(\"valor mas equipo: \",value_label_plus_equip)\n",
    "    df_stacked_data.loc[date,fail_mode]=count_by_date_by_fail_mode_by_equipment\n",
    "    idx_date=dates.index(date)\n",
    "    dict_stacked_values[fail_mode][idx_date]=value_label_plus_equip\n",
    "    dict_stacked_values[fail_mode][idx_date]\n",
    "dict_stacked_values"
   ]
  },
  {
   "cell_type": "code",
   "execution_count": 20,
   "id": "fb5aaef1-0dae-448f-8139-46ca8019fb20",
   "metadata": {
    "scrolled": true
   },
   "outputs": [
    {
     "data": {
      "text/html": [
       "<div>\n",
       "<style scoped>\n",
       "    .dataframe tbody tr th:only-of-type {\n",
       "        vertical-align: middle;\n",
       "    }\n",
       "\n",
       "    .dataframe tbody tr th {\n",
       "        vertical-align: top;\n",
       "    }\n",
       "\n",
       "    .dataframe thead th {\n",
       "        text-align: right;\n",
       "    }\n",
       "</style>\n",
       "<table border=\"1\" class=\"dataframe\">\n",
       "  <thead>\n",
       "    <tr style=\"text-align: right;\">\n",
       "      <th></th>\n",
       "      <th>DETECCIÓN DE METAL - MEC</th>\n",
       "      <th>VARIACION TEMPERATURA - PRO</th>\n",
       "    </tr>\n",
       "  </thead>\n",
       "  <tbody>\n",
       "    <tr>\n",
       "      <th>2025-02-01</th>\n",
       "      <td>0</td>\n",
       "      <td>1</td>\n",
       "    </tr>\n",
       "    <tr>\n",
       "      <th>2025-02-02</th>\n",
       "      <td>1</td>\n",
       "      <td>0</td>\n",
       "    </tr>\n",
       "  </tbody>\n",
       "</table>\n",
       "</div>"
      ],
      "text/plain": [
       "            DETECCIÓN DE METAL - MEC  VARIACION TEMPERATURA - PRO\n",
       "2025-02-01                         0                            1\n",
       "2025-02-02                         1                            0"
      ]
     },
     "execution_count": 20,
     "metadata": {},
     "output_type": "execute_result"
    }
   ],
   "source": [
    "df_stacked_data"
   ]
  },
  {
   "cell_type": "code",
   "execution_count": 21,
   "id": "d9817ab5-758b-49b0-afe2-2034810c5854",
   "metadata": {
    "scrolled": true
   },
   "outputs": [
    {
     "data": {
      "text/plain": [
       "{'detección de metal:\\nDDMM': array([0, 1]),\n",
       " 'variacion temperatura:\\nVT': array([1, 0])}"
      ]
     },
     "execution_count": 21,
     "metadata": {},
     "output_type": "execute_result"
    }
   ],
   "source": [
    "list_count_by_fail_mode_per_date=list(df_stacked_data.T.values)\n",
    "weight_counts={\" \".join(fail_mode.split(\"-\")[0].split()).lower()+\":\"+acronyms(fail_mode.upper()):list_count_by_fail_mode_per_date[idx] for idx,fail_mode in enumerate(fail_modes)}\n",
    "weight_counts"
   ]
  },
  {
   "cell_type": "code",
   "execution_count": 22,
   "id": "74325c3a-7966-4aff-a1bd-a4956d0a5bb9",
   "metadata": {
    "scrolled": true
   },
   "outputs": [
    {
     "data": {
      "text/plain": [
       "{'detección de metal:\\nDDMM': ['', '1 \\nDDMM'],\n",
       " 'variacion temperatura:\\nVT': ['1 \\nVT', '']}"
      ]
     },
     "execution_count": 22,
     "metadata": {},
     "output_type": "execute_result"
    }
   ],
   "source": [
    "for new_key,old_key in zip(weight_counts.keys(),fail_modes):\n",
    "    dict_stacked_values[new_key] = dict_stacked_values.pop(old_key)\n",
    "dict_stacked_values"
   ]
  },
  {
   "cell_type": "markdown",
   "id": "464e5be9-e4be-41d3-ac1b-3ef72b16b561",
   "metadata": {},
   "source": [
    "# Plot"
   ]
  },
  {
   "cell_type": "code",
   "execution_count": 23,
   "id": "1d41c95c-1223-4c65-999b-2875cbc98acb",
   "metadata": {},
   "outputs": [
    {
     "data": {
      "text/plain": [
       "{'tab:blue': '#1f77b4',\n",
       " 'tab:orange': '#ff7f0e',\n",
       " 'tab:green': '#2ca02c',\n",
       " 'tab:red': '#d62728',\n",
       " 'tab:purple': '#9467bd',\n",
       " 'tab:brown': '#8c564b',\n",
       " 'tab:pink': '#e377c2',\n",
       " 'tab:gray': '#7f7f7f',\n",
       " 'tab:olive': '#bcbd22',\n",
       " 'tab:cyan': '#17becf'}"
      ]
     },
     "execution_count": 23,
     "metadata": {},
     "output_type": "execute_result"
    }
   ],
   "source": [
    "colors_available=mcolors.TABLEAU_COLORS\n",
    "colors_available"
   ]
  },
  {
   "cell_type": "code",
   "execution_count": 24,
   "id": "7728c648-6ecf-4981-ae06-c27e7f46e32e",
   "metadata": {},
   "outputs": [
    {
     "data": {
      "text/plain": [
       "'\\ncolors_choosen={color: colors_available[color] for color in list(colors_available)[:len(weight_count_causes)]}\\ncolors_choosen\\n'"
      ]
     },
     "execution_count": 24,
     "metadata": {},
     "output_type": "execute_result"
    }
   ],
   "source": [
    "\"\"\"\n",
    "colors_choosen={color: colors_available[color] for color in list(colors_available)[:len(weight_count_causes)]}\n",
    "colors_choosen\n",
    "\"\"\""
   ]
  },
  {
   "cell_type": "code",
   "execution_count": 25,
   "id": "3ad98d09-ccfb-4a75-8ade-b6a030b62d4c",
   "metadata": {},
   "outputs": [
    {
     "data": {
      "image/png": "[encoded data removed]",
      "text/plain": [
       "<Figure size 790x480 with 1 Axes>"
      ]
     },
     "metadata": {},
     "output_type": "display_data"
    }
   ],
   "source": [
    "fig, ax = plt.subplots()\n",
    "fig.tight_layout()  # Adjust layout to prevent clipping of labels\n",
    "#fig.set_figheight(8)\n",
    "fig.set_figwidth(7.9)\n",
    "#fig.set_size_inches(50, 40) #set plot size\n",
    "#plot aperturas\n",
    "amt_dates=len(dates)\n",
    "bottom = np.zeros(amt_dates) #initial axis for stacked bars plotting\n",
    "plt.grid() #make grid mesh\n",
    "max_bottom=0 #to store max of bottoms in construction of bar\n",
    "for (data_label,weight_count),bar_value_stick in zip(weight_counts.items(),dict_stacked_values.values()): # ,colors_choosen run through dates, rejected per cause per dates, labels of values of rejected per cause per day \n",
    "    p = ax.bar(dates, weight_count,label=data_label,bottom=bottom) # ,color=color_cause take bar plot elements: rectangle(attribute 1, attribute 2, ...)\n",
    "    bottom += weight_count #make new start to plot next top rectangle\n",
    "    check_bottom=np.max(bottom)\n",
    "    if check_bottom>max_bottom:\n",
    "        max_bottom=check_bottom #to generate ylim of causas rechazos\n",
    "    ax.bar_label(p,labels=bar_value_stick,label_type='center',color=\"black\") #   add bar height str value on bar center\n",
    "leq=ax.legend(bbox_to_anchor=(-0.5,1.05),loc=\"upper left\") #generate legend box for bar plot\n",
    "amt_xticks=range(len(dates))\n",
    "ax.set_xticks(amt_xticks)\n",
    "ax.set_xticklabels(dates,rotation=90) #rotate x axis labels 90º to be displayed vertically\n",
    "ax.set_xlabel(\"Fecha Paro\") #name of bar plot x axis\n",
    "amt_stops_per_fail_mode=np.array(list(weight_counts.values()))\n",
    "max_y_axis=np.max(amt_stops_per_fail_mode) #get max of all data\n",
    "ax.set_yticks(np.arange(0, max_y_axis*(1.40), 2)) #set y axis label values: axis pitch=10 unds\n",
    "ax.set_ylabel(\"Cantidad de paradas de producción [-]\") #y axis name for bar plot\n",
    "ax.set_aspect('auto')\n",
    "imgs_folder=\"/imgs_reports_daily\" #str with name to save plots\n",
    "imgs_type_folder=\"/fail_modes_equipments\"\n",
    "imgs_year_folder=f\"/year_{dates[0].split(\"-\")[0]}\"\n",
    "imgs_month_folder=f\"/month_{dates[0].split(\"-\")[1]}\"\n",
    "img_name=\"/fail_modes_PRO_per_Type\" #name of img file\n",
    "str_today=datetime.today().strftime('%Y-%m-%d') #asign date of generation\n",
    "plt.title(\"Modos de falla de producción por día\") #make title\n",
    "directory_to_save = Path(str(directory)+imgs_folder+imgs_type_folder+imgs_year_folder+imgs_month_folder) # get directory to save plot\n",
    "directory_to_save.mkdir(exist_ok=True)\n",
    "plt.savefig(str(directory_to_save)+img_name+dates[0]+\"_\"+dates[-1]+\"_\"+str_today+\".png\", bbox_inches='tight') #store img plot\n",
    "plt.show()"
   ]
  }
 ],
 "metadata": {
  "kernelspec": {
   "display_name": "Python 3 (ipykernel)",
   "language": "python",
   "name": "python3"
  },
  "language_info": {
   "codemirror_mode": {
    "name": "ipython",
    "version": 3
   },
   "file_extension": ".py",
   "mimetype": "text/x-python",
   "name": "python",
   "nbconvert_exporter": "python",
   "pygments_lexer": "ipython3",
   "version": "3.12.8"
  }
 },
 "nbformat": 4,
 "nbformat_minor": 5
}
