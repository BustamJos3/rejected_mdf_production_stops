{
 "cells": [
  {
   "cell_type": "code",
   "execution_count": 1,
   "id": "c3752e04-aaf4-424e-a8db-2dd1a681775a",
   "metadata": {},
   "outputs": [],
   "source": [
    "import os\n",
    "from pathlib import Path\n",
    "import pandas as pd"
   ]
  },
  {
   "cell_type": "code",
   "execution_count": 2,
   "id": "623432a6-0b72-43f4-a084-607c25828d56",
   "metadata": {},
   "outputs": [],
   "source": [
    "def get_png_images_with_structure(root_folder):\n",
    "    \"\"\"\n",
    "    Finds all .png images within a folder structure and creates a DataFrame\n",
    "    with the root folder, successive subfolders, and the image name.\n",
    "\n",
    "    Args:\n",
    "        root_folder (str): Path to the root folder.\n",
    "\n",
    "    Returns:\n",
    "        DataFrame: A pandas DataFrame containing folder structure and image names.\n",
    "    \"\"\"\n",
    "    # List to store data\n",
    "    data = []\n",
    "\n",
    "    # Walk through all subdirectories and files\n",
    "    for root, dirs, files in os.walk(root_folder):\n",
    "        for file in files:\n",
    "            if file.endswith('.png'):\n",
    "                # Compute relative path components\n",
    "                full_path = os.path.join(root, file)\n",
    "                relative_path = os.path.relpath(full_path, root_folder)\n",
    "                path_parts = relative_path.split(os.sep)\n",
    "\n",
    "                # Append data: root_folder + path parts\n",
    "                row = [root_folder] + path_parts\n",
    "                data.append(row)\n",
    "\n",
    "    # Determine max number of columns for subfolders\n",
    "    max_cols = max(len(row) for row in data)\n",
    "\n",
    "    # Create column names dynamically\n",
    "    columns = ['Root'] + [f'Subfolder_{i+1}' for i in range(max_cols-2)] + ['Image Name']\n",
    "\n",
    "    # Create DataFrame\n",
    "    df = pd.DataFrame(data, columns=columns)\n",
    "    for col in df.columns[:-1]:  # Excluye la última columna\n",
    "        df[col] = df[col].astype(str) + '\\\\'\n",
    "    return df"
   ]
  },
  {
   "cell_type": "code",
   "execution_count": 3,
   "id": "705adfbd-c79d-42c4-a1ac-ae1ec53dd377",
   "metadata": {},
   "outputs": [],
   "source": [
    "import os\n",
    "\n",
    "def find_reports_in_onedrive():\n",
    "    \"\"\"\n",
    "    Scans the subfolders under the current user's OneDrive folder (including variations like 'OneDrive - Company Name')\n",
    "    and returns the paths of all folders with the prefix 'reports'.\n",
    "\n",
    "    Returns:\n",
    "        list: A list of full paths to folders starting with 'reports', or an empty list if none are found.\n",
    "    \"\"\"\n",
    "    # Get the base path to the user's home directory\n",
    "    user_home = os.path.expanduser(\"~\")\n",
    "\n",
    "    # Find the OneDrive folder (handles variations like \"OneDrive - Company Name\")\n",
    "    onedrive_folder = None\n",
    "    for folder in os.listdir(user_home):\n",
    "        if folder.startswith(\"OneDrive -\"):\n",
    "            onedrive_folder = os.path.join(user_home, folder)\n",
    "            break\n",
    "\n",
    "    if not onedrive_folder:\n",
    "        raise FileNotFoundError(\"OneDrive folder not found for the current user.\")\n",
    "\n",
    "    # Search for folders with the prefix 'reports' in the OneDrive directory\n",
    "    report_folders = []\n",
    "    for root, dirs, files in os.walk(onedrive_folder):\n",
    "        for dir_name in dirs:\n",
    "            if dir_name.lower().startswith(\"reports\"):\n",
    "                report_folders.append(os.path.join(root, dir_name))\n",
    "\n",
    "    return report_folders"
   ]
  },
  {
   "cell_type": "code",
   "execution_count": null,
   "id": "3c1e261a-e4cf-4219-b681-5c8286f506ac",
   "metadata": {},
   "outputs": [],
   "source": [
    "reports_paths=find_reports_in_onedrive()\n",
    "reports_paths"
   ]
  },
  {
   "cell_type": "code",
   "execution_count": null,
   "id": "a4191bb4-a7c5-4f71-abd6-017eea0e9cb3",
   "metadata": {},
   "outputs": [],
   "source": [
    "str_folder_searcher=\"reports_visualizacion_data_produccion\"\n",
    "for report_path in reports_paths:\n",
    "    if str_folder_searcher in report_path:\n",
    "        path=Path(reports_paths[reports_paths.index(report_path)])\n",
    "path=Path.joinpath(path,r\"source_and_return_data\")\n",
    "path"
   ]
  },
  {
   "cell_type": "code",
   "execution_count": null,
   "id": "ed792b8c-42b8-4edb-9ce2-65a9a115f88c",
   "metadata": {},
   "outputs": [],
   "source": [
    "# export df as excel data\n",
    "folder_path=Path.joinpath(path,r\"data_plots\\imgs_reports_daily\")\n",
    "df_images = get_png_images_with_structure(folder_path)\n",
    "path_export=Path.joinpath(path,\"path_structure_of_plots.xlsx\")\n",
    "df_images.to_excel(path_export)"
   ]
  }
 ],
 "metadata": {
  "kernelspec": {
   "display_name": "Python 3 (ipykernel)",
   "language": "python",
   "name": "python3"
  },
  "language_info": {
   "codemirror_mode": {
    "name": "ipython",
    "version": 3
   },
   "file_extension": ".py",
   "mimetype": "text/x-python",
   "name": "python",
   "nbconvert_exporter": "python",
   "pygments_lexer": "ipython3",
   "version": "3.12.8"
  }
 },
 "nbformat": 4,
 "nbformat_minor": 5
}
