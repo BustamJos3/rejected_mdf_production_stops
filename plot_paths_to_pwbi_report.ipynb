{
 "cells": [
  {
   "cell_type": "code",
   "execution_count": 1,
   "id": "c3752e04-aaf4-424e-a8db-2dd1a681775a",
   "metadata": {},
   "outputs": [],
   "source": [
    "import os\n",
    "from pathlib import Path\n",
    "import pandas as pd"
   ]
  },
  {
   "cell_type": "code",
   "execution_count": 2,
   "id": "623432a6-0b72-43f4-a084-607c25828d56",
   "metadata": {},
   "outputs": [],
   "source": [
    "def get_png_images_with_structure(root_folder):\n",
    "    \"\"\"\n",
    "    Finds all .png images within a folder structure and creates a DataFrame\n",
    "    with the root folder, successive subfolders, and the image name.\n",
    "\n",
    "    Args:\n",
    "        root_folder (str): Path to the root folder.\n",
    "\n",
    "    Returns:\n",
    "        DataFrame: A pandas DataFrame containing folder structure and image names.\n",
    "    \"\"\"\n",
    "    # List to store data\n",
    "    data = []\n",
    "\n",
    "    # Walk through all subdirectories and files\n",
    "    for root, dirs, files in os.walk(root_folder):\n",
    "        for file in files:\n",
    "            if file.endswith('.png'):\n",
    "                # Compute relative path components\n",
    "                full_path = os.path.join(root, file)\n",
    "                relative_path = os.path.relpath(full_path, root_folder)\n",
    "                path_parts = relative_path.split(os.sep)\n",
    "\n",
    "                # Append data: root_folder + path parts\n",
    "                row = [root_folder] + path_parts\n",
    "                data.append(row)\n",
    "\n",
    "    # Determine max number of columns for subfolders\n",
    "    max_cols = max(len(row) for row in data)\n",
    "\n",
    "    # Create column names dynamically\n",
    "    columns = ['Root'] + [f'Subfolder_{i+1}' for i in range(max_cols-2)] + ['Image Name']\n",
    "\n",
    "    # Create DataFrame\n",
    "    df = pd.DataFrame(data, columns=columns)\n",
    "    for col in df.columns[:-1]:  # Excluye la última columna\n",
    "        df[col] = df[col].astype(str) + '\\\\'\n",
    "    return df"
   ]
  },
  {
   "cell_type": "code",
   "execution_count": 3,
   "id": "ed792b8c-42b8-4edb-9ce2-65a9a115f88c",
   "metadata": {},
   "outputs": [],
   "source": [
    "# export df as excel data\n",
    "folder_path=r\"C:\\Users\\JDBUSTAMANTE\\OneDrive - Duratex SA\\reports_visualizacion_data_produccion\\source_return_data\\data_plots\\imgs_reports_daily\"\n",
    "df_images = get_png_images_with_structure(folder_path)\n",
    "df_images.to_excel(r\"C:\\Users\\JDBUSTAMANTE\\OneDrive - Duratex SA\\reports_visualizacion_data_produccion\\source_return_data\\path_structure_of_plots.xlsx\")"
   ]
  },
  {
   "cell_type": "code",
   "execution_count": 4,
   "id": "eeec4f05-586f-4e4a-9986-90809f2d32e8",
   "metadata": {},
   "outputs": [
    {
     "name": "stderr",
     "output_type": "stream",
     "text": [
      "[NbConvertApp] Converting notebook plot_paths_to_pwbi_report.ipynb to script\n",
      "[NbConvertApp] Writing 1973 bytes to plot_paths_to_pwbi_report.py\n"
     ]
    }
   ],
   "source": [
    "!jupyter nbconvert --to script plot_paths_to_pwbi_report.ipynb"
   ]
  }
 ],
 "metadata": {
  "kernelspec": {
   "display_name": "Python 3 (ipykernel)",
   "language": "python",
   "name": "python3"
  },
  "language_info": {
   "codemirror_mode": {
    "name": "ipython",
    "version": 3
   },
   "file_extension": ".py",
   "mimetype": "text/x-python",
   "name": "python",
   "nbconvert_exporter": "python",
   "pygments_lexer": "ipython3",
   "version": "3.12.8"
  }
 },
 "nbformat": 4,
 "nbformat_minor": 5
}
