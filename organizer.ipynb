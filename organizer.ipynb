{
 "cells": [
  {
   "cell_type": "code",
   "execution_count": 36,
   "id": "7a51a789-c849-4b60-bdb5-7b51c51bfa9d",
   "metadata": {},
   "outputs": [],
   "source": [
    "import os\n",
    "from pathlib import Path\n",
    "import json\n",
    "from jupyter_core.paths import jupyter_runtime_dir"
   ]
  },
  {
   "cell_type": "code",
   "execution_count": 68,
   "id": "cc0a0591-eb17-412b-9dec-5dd5aa9a24b8",
   "metadata": {},
   "outputs": [],
   "source": [
    "class repo_organizer:\n",
    "    def __init__(self):\n",
    "        self.notebook_path=self._get_notebook_path()\n",
    "        \n",
    "    def _get_notebook_path(self):\n",
    "        \"\"\"\n",
    "        Get the absolute path of the currently running Jupyter Notebook by finding the active kernel.\n",
    "        \n",
    "        Returns:\n",
    "            str: The absolute path of the notebook or an error message.\n",
    "        \"\"\"\n",
    "        try:\n",
    "            # Locate Jupyter's runtime directory\n",
    "            runtime_dir = Path(jupyter_runtime_dir())\n",
    "            kernel_files = list(runtime_dir.glob(\"kernel-*.json\"))\n",
    "        \n",
    "            if not kernel_files:\n",
    "                raise FileNotFoundError(f\"No kernel connection files found in {runtime_dir}.\")\n",
    "        \n",
    "            # Get the current kernel ID from the environment variable\n",
    "            kernel_id = os.path.basename(os.getenv(\"JPY_PARENT_PID\", \"\"))\n",
    "        \n",
    "            # Match the active kernel file\n",
    "            kernel_file = next((kf for kf in kernel_files if kernel_id in kf.stem), None)\n",
    "            if not kernel_file:\n",
    "                raise FileNotFoundError(f\"No matching kernel file found for ID {kernel_id}.\")\n",
    "        \n",
    "            # Read the kernel file\n",
    "            with open(kernel_file, \"r\") as file:\n",
    "                kernel_data = json.load(file)\n",
    "        \n",
    "            # Retrieve the notebook path if available\n",
    "            notebook_path = kernel_data.get(\"notebook_path\", \"Notebook path not found in kernel file\")\n",
    "            return str(Path(notebook_path).resolve())\n",
    "        \n",
    "        except Exception as e:\n",
    "            return str(e)\n",
    "            \n",
    "    def _set_working_directory(self,path):\n",
    "        \"\"\"\n",
    "        Set the working directory to the specified path.\n",
    "\n",
    "        Args:\n",
    "            path (str): The path to set as the working directory.\n",
    "\n",
    "        Returns:\n",
    "            str: The updated working directory path or an error message.\n",
    "        \"\"\"\n",
    "        try:\n",
    "            os.chdir(path)\n",
    "            return os.getcwd()\n",
    "        except Exception as e:\n",
    "            return str(e)\n",
    "    def _export_notebooks_to_scripts(self):\n",
    "        \"\"\"\n",
    "        Search for all Jupyter notebooks (.ipynb) in the subfolders of the current working directory,\n",
    "        excluding files in .ipynb_checkpoints, generate CMD commands to export them as Python scripts,\n",
    "        write those commands to a file called notebook_to_script_convertion.txt, and execute the file.\n",
    "\n",
    "        Returns:\n",
    "            None\n",
    "        \"\"\"\n",
    "        try:\n",
    "            # Get the current working directory\n",
    "            cwd = Path(os.getcwd())\n",
    "\n",
    "            # Find all Jupyter notebooks in the subfolders, excluding .ipynb_checkpoints\n",
    "            notebooks = [\n",
    "                notebook for notebook in cwd.rglob(\"*.ipynb\")\n",
    "                if \".ipynb_checkpoints\" not in notebook.parts\n",
    "            ]\n",
    "            notebook_paths = [notebook.relative_to(cwd) for notebook in notebooks]\n",
    "\n",
    "            if not notebook_paths:\n",
    "                print(\"No Jupyter notebooks found in the subfolders.\")\n",
    "                return\n",
    "\n",
    "            # File to store the CMD commands\n",
    "            cmd_file = cwd / \"notebook_to_script_convertion.txt\"\n",
    "\n",
    "            # Write CMD commands to the file\n",
    "            with open(cmd_file, \"w\") as f:\n",
    "                for notebook in notebook_paths:\n",
    "                    cmd = f\"jupyter nbconvert {notebook} --to script\\n\"\n",
    "                    f.write(cmd)\n",
    "\n",
    "            print(f\"Commands written to {cmd_file}\")\n",
    "\n",
    "            # Execute the file using CMD\n",
    "            os.system(f\"cmd < {cmd_file}\")\n",
    "\n",
    "        except Exception as e:\n",
    "            print(f\"An error occurred: {e}\")"
   ]
  },
  {
   "cell_type": "code",
   "execution_count": 69,
   "id": "3732300f-a95d-44e8-a72e-02678c8c9be7",
   "metadata": {},
   "outputs": [],
   "source": [
    "organizer=repo_organizer()"
   ]
  },
  {
   "cell_type": "code",
   "execution_count": 70,
   "id": "761d1d33-5c54-4b84-9cf0-16a36f0e78b8",
   "metadata": {},
   "outputs": [
    {
     "data": {
      "text/plain": [
       "'No matching kernel file found for ID 3676.'"
      ]
     },
     "execution_count": 70,
     "metadata": {},
     "output_type": "execute_result"
    }
   ],
   "source": [
    "organizer.notebook_path"
   ]
  },
  {
   "cell_type": "code",
   "execution_count": 71,
   "id": "1110751e-8842-4acf-85b9-551920f8d5ad",
   "metadata": {},
   "outputs": [
    {
     "name": "stdout",
     "output_type": "stream",
     "text": [
      "Commands written to C:\\Users\\jdbs1\\OneDrive\\Documentos\\code_projects\\empresa_dexco\\RejectedMDF_FailModesPRO\\venv\\Scripts\\report_generator\\notebook_to_script_convertion.txt\n"
     ]
    }
   ],
   "source": [
    "organizer._export_notebooks_to_scripts()"
   ]
  }
 ],
 "metadata": {
  "kernelspec": {
   "display_name": "Python 3 (ipykernel)",
   "language": "python",
   "name": "python3"
  },
  "language_info": {
   "codemirror_mode": {
    "name": "ipython",
    "version": 3
   },
   "file_extension": ".py",
   "mimetype": "text/x-python",
   "name": "python",
   "nbconvert_exporter": "python",
   "pygments_lexer": "ipython3",
   "version": "3.12.8"
  }
 },
 "nbformat": 4,
 "nbformat_minor": 5
}
