{
 "cells": [
  {
   "cell_type": "code",
   "execution_count": 1,
   "id": "4376e1ae-3b2f-476e-8e30-0cf97281c5a8",
   "metadata": {},
   "outputs": [],
   "source": [
    "import pandas as pd #modules\n",
    "import numpy as np\n",
    "import matplotlib\n",
    "import matplotlib.pyplot as plt\n",
    "import matplotlib.colors as mcolors\n",
    "import os\n",
    "import pathlib\n",
    "from pathlib import Path\n",
    "from datetime import datetime"
   ]
  },
  {
   "cell_type": "code",
   "execution_count": 2,
   "id": "c8f65be7-0f0b-45eb-b0c8-86e484821475",
   "metadata": {},
   "outputs": [
    {
     "name": "stdout",
     "output_type": "stream",
     "text": [
      "Archivos encontrados: [WindowsPath('C:/Users/JDBUSTAMANTE/OneDrive - Duratex SA/reports_visualizacion_data_produccion/source_return_data/data_plots/test_obj_aperturas_nariz.xlsx'), WindowsPath('C:/Users/JDBUSTAMANTE/OneDrive - Duratex SA/reports_visualizacion_data_produccion/source_return_data/data_plots/test_obj_causa_rechazos.xlsx')]\n"
     ]
    }
   ],
   "source": [
    "directory = Path(r\"C:\\Users\\JDBUSTAMANTE\\OneDrive - Duratex SA\\reports_visualizacion_data_produccion\\source_return_data\\data_plots\") #get current work directory\n",
    "directory.mkdir(exist_ok=True)\n",
    "matching_files = list(directory.glob(\"*obj*.xlsx\"))  # Busca archivos que contengan 'obj' y tengan extensión .xlsx\n",
    "print(\"Archivos encontrados:\", matching_files)"
   ]
  },
  {
   "cell_type": "code",
   "execution_count": 3,
   "id": "6a9f980a-cab0-46cf-84c2-5e9898482c19",
   "metadata": {},
   "outputs": [
    {
     "name": "stdout",
     "output_type": "stream",
     "text": [
      "C:\\Users\\JDBUSTAMANTE\\OneDrive - Duratex SA\\reports_visualizacion_data_produccion\\source_return_data\\data_plots\\test_obj_aperturas_nariz.xlsx\n",
      "C:\\Users\\JDBUSTAMANTE\\OneDrive - Duratex SA\\reports_visualizacion_data_produccion\\source_return_data\\data_plots\\test_obj_causa_rechazos.xlsx\n",
      "['aperturas_nariz', 'causa_rechazos']\n"
     ]
    }
   ],
   "source": [
    "dict_data_pointer={} #dict to store files as dfs\n",
    "for i in matching_files: # Read the Excel file \n",
    "    file_path = str(i)  # Update this with the path\n",
    "    df = pd.read_excel(file_path)\n",
    "    print(file_path)\n",
    "    df_name=file_path.split(\"obj_\")[1].split(\".\")[0] #split str with \"obj_\" and the  \".\" char and take the file name\n",
    "    date_col=\"Fecha\" #default col name with dates\n",
    "    if \"aperturas\" in file_path.lower(): #if excel name file contains \"aperturas\", change col name with dates\n",
    "        date_col=\"Fecha Paro\"\n",
    "    row_numbers_nan = df.index[df[date_col].isna()].tolist() # Get the row numbers where 'Fecha' or 'Fecha Paro' is NaN\n",
    "    row_numbers = list(set(row_numbers_nan)) # lists of row with nan numbers\n",
    "    filtered_df = df.drop(index=row_numbers) # Filter the DataFrame to keep only the rows that are not in row_numbers\n",
    "    dict_data_pointer[f\"{df_name}\"]=filtered_df #store filtered df in dictionary data pointer\n",
    "print(list(dict_data_pointer.keys())) #see keys on dictionary to check callability"
   ]
  },
  {
   "cell_type": "code",
   "execution_count": 4,
   "id": "ca4d6f8c-d81d-4533-b930-1f36a16c87bb",
   "metadata": {},
   "outputs": [
    {
     "data": {
      "text/plain": [
       "'2025-01-01'"
      ]
     },
     "execution_count": 4,
     "metadata": {},
     "output_type": "execute_result"
    }
   ],
   "source": [
    "data_pointer_ar=\"aperturas_nariz\" #select df of aperturas de nariz\n",
    "df_ar=dict_data_pointer[data_pointer_ar] #mask df of aperturas de nariz with alias df_ar\n",
    "dates_col_name_ar=\"Fecha Paro\" #name of col with dates in df\n",
    "df_ar[dates_col_name_ar] = df_ar[dates_col_name_ar].astype('str') #convert datetime to str\n",
    "df_ar[dates_col_name_ar][0]"
   ]
  },
  {
   "cell_type": "code",
   "execution_count": 5,
   "id": "57edcfb4-ffa9-48c9-8d25-72f2e0a8818c",
   "metadata": {},
   "outputs": [
    {
     "data": {
      "text/html": [
       "<div>\n",
       "<style scoped>\n",
       "    .dataframe tbody tr th:only-of-type {\n",
       "        vertical-align: middle;\n",
       "    }\n",
       "\n",
       "    .dataframe tbody tr th {\n",
       "        vertical-align: top;\n",
       "    }\n",
       "\n",
       "    .dataframe thead th {\n",
       "        text-align: right;\n",
       "    }\n",
       "</style>\n",
       "<table border=\"1\" class=\"dataframe\">\n",
       "  <thead>\n",
       "    <tr style=\"text-align: right;\">\n",
       "      <th></th>\n",
       "      <th>Linea</th>\n",
       "      <th>Proceso</th>\n",
       "      <th>Tipo Paro</th>\n",
       "      <th>Fecha Paro</th>\n",
       "      <th>Hora Inicial</th>\n",
       "      <th>Hora Final</th>\n",
       "      <th>Descripción Equipo</th>\n",
       "      <th>Modo de Fallo</th>\n",
       "      <th>Obversación</th>\n",
       "      <th>Tiempo Parada</th>\n",
       "      <th>Turno</th>\n",
       "      <th>Calibre</th>\n",
       "      <th>Columna1</th>\n",
       "    </tr>\n",
       "  </thead>\n",
       "  <tbody>\n",
       "    <tr>\n",
       "      <th>0</th>\n",
       "      <td>CRUDO</td>\n",
       "      <td>500 - PRENSA</td>\n",
       "      <td>PARO PROGRAMADO</td>\n",
       "      <td>2025-01-01</td>\n",
       "      <td>21:00:00</td>\n",
       "      <td>05:00:00</td>\n",
       "      <td>ALTO NIVEL DE INVENTARIO - PGR</td>\n",
       "      <td>ALTO NIVEL DE INVENTARIO - PGR</td>\n",
       "      <td>Paro programado de planta</td>\n",
       "      <td>480.0</td>\n",
       "      <td>3</td>\n",
       "      <td>NaN</td>\n",
       "      <td>NaN</td>\n",
       "    </tr>\n",
       "    <tr>\n",
       "      <th>1</th>\n",
       "      <td>CRUDO</td>\n",
       "      <td>500 - PRENSA</td>\n",
       "      <td>PARO PROGRAMADO</td>\n",
       "      <td>2025-01-01</td>\n",
       "      <td>05:00:00</td>\n",
       "      <td>13:00:00</td>\n",
       "      <td>ALTO NIVEL DE INVENTARIO - PGR</td>\n",
       "      <td>ALTO NIVEL DE INVENTARIO - PGR</td>\n",
       "      <td>Paro programado de planta</td>\n",
       "      <td>480.0</td>\n",
       "      <td>1</td>\n",
       "      <td>NaN</td>\n",
       "      <td>NaN</td>\n",
       "    </tr>\n",
       "    <tr>\n",
       "      <th>2</th>\n",
       "      <td>CRUDO</td>\n",
       "      <td>500 - PRENSA</td>\n",
       "      <td>PARO PROGRAMADO</td>\n",
       "      <td>2025-01-01</td>\n",
       "      <td>13:00:00</td>\n",
       "      <td>21:00:00</td>\n",
       "      <td>ALTO NIVEL DE INVENTARIO - PGR</td>\n",
       "      <td>ALTO NIVEL DE INVENTARIO - PGR</td>\n",
       "      <td>Paro programado de planta</td>\n",
       "      <td>480.0</td>\n",
       "      <td>2</td>\n",
       "      <td>NaN</td>\n",
       "      <td>NaN</td>\n",
       "    </tr>\n",
       "    <tr>\n",
       "      <th>3</th>\n",
       "      <td>CRUDO</td>\n",
       "      <td>500 - PRENSA</td>\n",
       "      <td>PARO PROGRAMADO</td>\n",
       "      <td>2025-01-02</td>\n",
       "      <td>21:00:00</td>\n",
       "      <td>19:46:00</td>\n",
       "      <td>500 PRENSA DIEFFENBACHER</td>\n",
       "      <td>MTTO  GENERAL - PGR</td>\n",
       "      <td>Arranque de línea de crudo. Se corrigen condic...</td>\n",
       "      <td>406.0</td>\n",
       "      <td>3</td>\n",
       "      <td>11 TAPAS</td>\n",
       "      <td>152426</td>\n",
       "    </tr>\n",
       "    <tr>\n",
       "      <th>4</th>\n",
       "      <td>CRUDO</td>\n",
       "      <td>400 - FORMACION, PRE-PRENSADO &amp; CORTE</td>\n",
       "      <td>PRODUCCIÓN</td>\n",
       "      <td>2025-01-02</td>\n",
       "      <td>20:02:00</td>\n",
       "      <td>20:09:00</td>\n",
       "      <td>400 FORMACION Y PREPRENSA</td>\n",
       "      <td>VARIACION HUMEDAD - PRO</td>\n",
       "      <td>Se abrea nariz y se evacúa la fibra</td>\n",
       "      <td>6.0</td>\n",
       "      <td>3</td>\n",
       "      <td>11 TAPAS</td>\n",
       "      <td>152426</td>\n",
       "    </tr>\n",
       "  </tbody>\n",
       "</table>\n",
       "</div>"
      ],
      "text/plain": [
       "   Linea                                Proceso        Tipo Paro  Fecha Paro  \\\n",
       "0  CRUDO                           500 - PRENSA  PARO PROGRAMADO  2025-01-01   \n",
       "1  CRUDO                           500 - PRENSA  PARO PROGRAMADO  2025-01-01   \n",
       "2  CRUDO                           500 - PRENSA  PARO PROGRAMADO  2025-01-01   \n",
       "3  CRUDO                           500 - PRENSA  PARO PROGRAMADO  2025-01-02   \n",
       "4  CRUDO  400 - FORMACION, PRE-PRENSADO & CORTE       PRODUCCIÓN  2025-01-02   \n",
       "\n",
       "  Hora Inicial Hora Final              Descripción Equipo  \\\n",
       "0     21:00:00   05:00:00  ALTO NIVEL DE INVENTARIO - PGR   \n",
       "1     05:00:00   13:00:00  ALTO NIVEL DE INVENTARIO - PGR   \n",
       "2     13:00:00   21:00:00  ALTO NIVEL DE INVENTARIO - PGR   \n",
       "3     21:00:00   19:46:00        500 PRENSA DIEFFENBACHER   \n",
       "4     20:02:00   20:09:00       400 FORMACION Y PREPRENSA   \n",
       "\n",
       "                    Modo de Fallo  \\\n",
       "0  ALTO NIVEL DE INVENTARIO - PGR   \n",
       "1  ALTO NIVEL DE INVENTARIO - PGR   \n",
       "2  ALTO NIVEL DE INVENTARIO - PGR   \n",
       "3             MTTO  GENERAL - PGR   \n",
       "4         VARIACION HUMEDAD - PRO   \n",
       "\n",
       "                                         Obversación  Tiempo Parada  Turno  \\\n",
       "0                          Paro programado de planta          480.0      3   \n",
       "1                          Paro programado de planta          480.0      1   \n",
       "2                          Paro programado de planta          480.0      2   \n",
       "3  Arranque de línea de crudo. Se corrigen condic...          406.0      3   \n",
       "4                Se abrea nariz y se evacúa la fibra            6.0      3   \n",
       "\n",
       "    Calibre Columna1  \n",
       "0       NaN      NaN  \n",
       "1       NaN      NaN  \n",
       "2       NaN      NaN  \n",
       "3  11 TAPAS   152426  \n",
       "4  11 TAPAS   152426  "
      ]
     },
     "execution_count": 5,
     "metadata": {},
     "output_type": "execute_result"
    }
   ],
   "source": [
    "df_ar.head()"
   ]
  },
  {
   "cell_type": "code",
   "execution_count": 6,
   "id": "2e8864f0-7e9f-4b8b-a44e-ebad099103b8",
   "metadata": {
    "scrolled": true
   },
   "outputs": [
    {
     "data": {
      "text/plain": [
       "['2025-01-01',\n",
       " '2025-01-02',\n",
       " '2025-01-03',\n",
       " '2025-01-04',\n",
       " '2025-01-05',\n",
       " '2025-01-06',\n",
       " '2025-01-07',\n",
       " '2025-01-08',\n",
       " '2025-01-09',\n",
       " '2025-01-10',\n",
       " '2025-01-11',\n",
       " '2025-01-12',\n",
       " '2025-01-13']"
      ]
     },
     "execution_count": 6,
     "metadata": {},
     "output_type": "execute_result"
    }
   ],
   "source": [
    "time_stamp_dates=list([ i for i in [ df_ar.loc[ :, dates_col_name_ar].unique() ][::-1] ][0]) #get dates as str unique of current df\n",
    "time_stamp_dates"
   ]
  },
  {
   "cell_type": "code",
   "execution_count": 7,
   "id": "62eeca51-bdf7-4092-bfa7-33d33f903877",
   "metadata": {
    "scrolled": true
   },
   "outputs": [
    {
     "data": {
      "text/plain": [
       "['2025-01-01',\n",
       " '2025-01-02',\n",
       " '2025-01-03',\n",
       " '2025-01-04',\n",
       " '2025-01-05',\n",
       " '2025-01-06',\n",
       " '2025-01-07',\n",
       " '2025-01-08',\n",
       " '2025-01-09',\n",
       " '2025-01-10',\n",
       " '2025-01-11',\n",
       " '2025-01-12',\n",
       " '2025-01-13']"
      ]
     },
     "execution_count": 7,
     "metadata": {},
     "output_type": "execute_result"
    }
   ],
   "source": [
    "#generate dates list to match aperturas with rejected panels per cause per date\n",
    "#dates_ar = [str(j).split(\" \")[0].replace(\"/\",\"-\") if \"/\" in str(j).split(\" \")[0] else str(j).split(\" \")[0] for j in time_stamp_dates]  # dates for convert each time stamp to str and remove hh:mm:ss\n",
    "#dates_ar = [ i.split(\"-\")[::-1][0]+\"-\"+i.split(\"-\")[::-1][1]+\"-\"+i.split(\"-\")[::-1][2] if \"2024\" not in i[0:4] else i for i in dates_ar ] #truncate day and month to match date format of rejected per cause per day\n",
    "#dates_ar =sorted(dates_ar) #sorted dates aperturas ascending\n",
    "dates_ar =sorted(time_stamp_dates) #sorted dates aperturas ascending\n",
    "dates_ar"
   ]
  },
  {
   "cell_type": "markdown",
   "id": "dc9665bd-250e-452e-a863-12d666f947ed",
   "metadata": {},
   "source": [
    "# Check matches on initial hour & final hour\n",
    "* remove apertures that are duplicate for changes on dat shift"
   ]
  },
  {
   "cell_type": "code",
   "execution_count": 8,
   "id": "7eb2cb8b-3f50-47d3-9215-08beb4024873",
   "metadata": {},
   "outputs": [
    {
     "name": "stdout",
     "output_type": "stream",
     "text": [
      "2025-01-01\n",
      "2\n",
      "0\n",
      "1\n",
      "2\n",
      "idxs to drop are [1, 2]\n",
      "2025-01-02\n",
      "6\n",
      "3\n",
      "4\n",
      "5\n",
      "6\n",
      "idxs to drop are [1, 2, 5]\n",
      "2025-01-03\n",
      "21\n",
      "7\n",
      "8\n",
      "9\n",
      "10\n",
      "11\n",
      "12\n",
      "13\n",
      "14\n",
      "15\n",
      "16\n",
      "17\n",
      "18\n",
      "19\n",
      "20\n",
      "21\n",
      "idxs to drop are [1, 2, 5, 12]\n",
      "2025-01-04\n",
      "23\n",
      "22\n",
      "23\n",
      "idxs to drop are [1, 2, 5, 12]\n",
      "2025-01-05\n",
      "29\n",
      "24\n",
      "25\n",
      "26\n",
      "27\n",
      "28\n",
      "29\n",
      "idxs to drop are [1, 2, 5, 12]\n",
      "2025-01-06\n",
      "41\n",
      "30\n",
      "31\n",
      "32\n",
      "33\n",
      "34\n",
      "35\n",
      "36\n",
      "37\n",
      "38\n",
      "39\n",
      "40\n",
      "41\n",
      "idxs to drop are [1, 2, 5, 12, 35, 39, 40]\n",
      "2025-01-07\n",
      "57\n",
      "42\n",
      "43\n",
      "44\n",
      "45\n",
      "46\n",
      "47\n",
      "48\n",
      "49\n",
      "50\n",
      "51\n",
      "52\n",
      "53\n",
      "54\n",
      "55\n",
      "56\n",
      "57\n",
      "idxs to drop are [1, 2, 5, 12, 35, 39, 40, 44, 48, 50, 51, 56]\n",
      "2025-01-08\n",
      "64\n",
      "58\n",
      "59\n",
      "60\n",
      "61\n",
      "62\n",
      "63\n",
      "64\n",
      "idxs to drop are [1, 2, 5, 12, 35, 39, 40, 44, 48, 50, 51, 56, 62]\n",
      "2025-01-09\n",
      "66\n",
      "65\n",
      "66\n",
      "idxs to drop are [1, 2, 5, 12, 35, 39, 40, 44, 48, 50, 51, 56, 62, 66]\n",
      "2025-01-10\n",
      "86\n",
      "67\n",
      "68\n",
      "69\n",
      "70\n",
      "71\n",
      "72\n",
      "73\n",
      "74\n",
      "75\n",
      "76\n",
      "77\n",
      "78\n",
      "79\n",
      "80\n",
      "81\n",
      "82\n",
      "83\n",
      "84\n",
      "85\n",
      "86\n",
      "idxs to drop are [1, 2, 5, 12, 35, 39, 40, 44, 48, 50, 51, 56, 62, 66, 78]\n",
      "2025-01-11\n",
      "100\n",
      "87\n",
      "88\n",
      "89\n",
      "90\n",
      "91\n",
      "92\n",
      "93\n",
      "94\n",
      "95\n",
      "96\n",
      "97\n",
      "98\n",
      "99\n",
      "100\n",
      "idxs to drop are [1, 2, 5, 12, 35, 39, 40, 44, 48, 50, 51, 56, 62, 66, 78, 90, 91, 99]\n",
      "2025-01-12\n",
      "104\n",
      "101\n",
      "102\n",
      "103\n",
      "104\n",
      "idxs to drop are [1, 2, 5, 12, 35, 39, 40, 44, 48, 50, 51, 56, 62, 66, 78, 90, 91, 99]\n",
      "2025-01-13\n",
      "116\n",
      "105\n",
      "106\n",
      "107\n",
      "108\n",
      "109\n",
      "110\n",
      "111\n",
      "112\n",
      "113\n",
      "114\n",
      "115\n",
      "116\n",
      "idxs to drop are [1, 2, 5, 12, 35, 39, 40, 44, 48, 50, 51, 56, 62, 66, 78, 90, 91, 99]\n"
     ]
    },
    {
     "data": {
      "text/html": [
       "<div>\n",
       "<style scoped>\n",
       "    .dataframe tbody tr th:only-of-type {\n",
       "        vertical-align: middle;\n",
       "    }\n",
       "\n",
       "    .dataframe tbody tr th {\n",
       "        vertical-align: top;\n",
       "    }\n",
       "\n",
       "    .dataframe thead th {\n",
       "        text-align: right;\n",
       "    }\n",
       "</style>\n",
       "<table border=\"1\" class=\"dataframe\">\n",
       "  <thead>\n",
       "    <tr style=\"text-align: right;\">\n",
       "      <th></th>\n",
       "      <th>Linea</th>\n",
       "      <th>Proceso</th>\n",
       "      <th>Tipo Paro</th>\n",
       "      <th>Fecha Paro</th>\n",
       "      <th>Hora Inicial</th>\n",
       "      <th>Hora Final</th>\n",
       "      <th>Descripción Equipo</th>\n",
       "      <th>Modo de Fallo</th>\n",
       "      <th>Obversación</th>\n",
       "      <th>Tiempo Parada</th>\n",
       "      <th>Turno</th>\n",
       "      <th>Calibre</th>\n",
       "      <th>Columna1</th>\n",
       "    </tr>\n",
       "  </thead>\n",
       "  <tbody>\n",
       "    <tr>\n",
       "      <th>0</th>\n",
       "      <td>CRUDO</td>\n",
       "      <td>500 - PRENSA</td>\n",
       "      <td>PARO PROGRAMADO</td>\n",
       "      <td>2025-01-01</td>\n",
       "      <td>21:00:00</td>\n",
       "      <td>05:00:00</td>\n",
       "      <td>ALTO NIVEL DE INVENTARIO - PGR</td>\n",
       "      <td>ALTO NIVEL DE INVENTARIO - PGR</td>\n",
       "      <td>Paro programado de planta</td>\n",
       "      <td>480.0</td>\n",
       "      <td>3</td>\n",
       "      <td>NaN</td>\n",
       "      <td>NaN</td>\n",
       "    </tr>\n",
       "    <tr>\n",
       "      <th>3</th>\n",
       "      <td>CRUDO</td>\n",
       "      <td>500 - PRENSA</td>\n",
       "      <td>PARO PROGRAMADO</td>\n",
       "      <td>2025-01-02</td>\n",
       "      <td>21:00:00</td>\n",
       "      <td>19:46:00</td>\n",
       "      <td>500 PRENSA DIEFFENBACHER</td>\n",
       "      <td>MTTO  GENERAL - PGR</td>\n",
       "      <td>Arranque de línea de crudo. Se corrigen condic...</td>\n",
       "      <td>406.0</td>\n",
       "      <td>3</td>\n",
       "      <td>11 TAPAS</td>\n",
       "      <td>152426</td>\n",
       "    </tr>\n",
       "    <tr>\n",
       "      <th>4</th>\n",
       "      <td>CRUDO</td>\n",
       "      <td>400 - FORMACION, PRE-PRENSADO &amp; CORTE</td>\n",
       "      <td>PRODUCCIÓN</td>\n",
       "      <td>2025-01-02</td>\n",
       "      <td>20:02:00</td>\n",
       "      <td>20:09:00</td>\n",
       "      <td>400 FORMACION Y PREPRENSA</td>\n",
       "      <td>VARIACION HUMEDAD - PRO</td>\n",
       "      <td>Se abrea nariz y se evacúa la fibra</td>\n",
       "      <td>6.0</td>\n",
       "      <td>3</td>\n",
       "      <td>11 TAPAS</td>\n",
       "      <td>152426</td>\n",
       "    </tr>\n",
       "    <tr>\n",
       "      <th>6</th>\n",
       "      <td>CRUDO</td>\n",
       "      <td>600 - CORTE, ENFRIAMIENTO &amp; APILADO</td>\n",
       "      <td>PRODUCCIÓN</td>\n",
       "      <td>2025-01-02</td>\n",
       "      <td>20:15:00</td>\n",
       "      <td>20:31:00</td>\n",
       "      <td>600.631 SIERRA DIAGONAL</td>\n",
       "      <td>TABLERO EXPLOTADO - PRO</td>\n",
       "      <td>Se pierdesecuencia en la sierra diagonal debid...</td>\n",
       "      <td>16.0</td>\n",
       "      <td>3</td>\n",
       "      <td>11 TAPAS</td>\n",
       "      <td>152426</td>\n",
       "    </tr>\n",
       "    <tr>\n",
       "      <th>7</th>\n",
       "      <td>CRUDO</td>\n",
       "      <td>500 - PRENSA</td>\n",
       "      <td>PRODUCCIÓN</td>\n",
       "      <td>2025-01-03</td>\n",
       "      <td>21:05:00</td>\n",
       "      <td>21:16:00</td>\n",
       "      <td>500 PRENSA DIEFFENBACHER</td>\n",
       "      <td>SENSOR OBSTRUIDO - PRO</td>\n",
       "      <td>Sensor de cadena lado de operación de la cadena</td>\n",
       "      <td>11.0</td>\n",
       "      <td>1</td>\n",
       "      <td>9</td>\n",
       "      <td>152433</td>\n",
       "    </tr>\n",
       "    <tr>\n",
       "      <th>...</th>\n",
       "      <td>...</td>\n",
       "      <td>...</td>\n",
       "      <td>...</td>\n",
       "      <td>...</td>\n",
       "      <td>...</td>\n",
       "      <td>...</td>\n",
       "      <td>...</td>\n",
       "      <td>...</td>\n",
       "      <td>...</td>\n",
       "      <td>...</td>\n",
       "      <td>...</td>\n",
       "      <td>...</td>\n",
       "      <td>...</td>\n",
       "    </tr>\n",
       "    <tr>\n",
       "      <th>112</th>\n",
       "      <td></td>\n",
       "      <td></td>\n",
       "      <td></td>\n",
       "      <td>2025-01-13</td>\n",
       "      <td>12:29:00</td>\n",
       "      <td>12:32:00</td>\n",
       "      <td>NaN</td>\n",
       "      <td>NaN</td>\n",
       "      <td>NaN</td>\n",
       "      <td>3.0</td>\n",
       "      <td>3</td>\n",
       "      <td>9</td>\n",
       "      <td>152687</td>\n",
       "    </tr>\n",
       "    <tr>\n",
       "      <th>113</th>\n",
       "      <td>CRUDO</td>\n",
       "      <td>400 - FORMACION, PRE-PRENSADO &amp; CORTE</td>\n",
       "      <td>ELÉCTRICO</td>\n",
       "      <td>2025-01-13</td>\n",
       "      <td>13:00:00</td>\n",
       "      <td>15:18:00</td>\n",
       "      <td>400.406 SCALPER (RASURADOR)</td>\n",
       "      <td>FALLA CONTACTOR - ELC</td>\n",
       "      <td>Se recibe turno con línea detenida por bunker ...</td>\n",
       "      <td>138.0</td>\n",
       "      <td>3</td>\n",
       "      <td>9</td>\n",
       "      <td>152687</td>\n",
       "    </tr>\n",
       "    <tr>\n",
       "      <th>114</th>\n",
       "      <td>CRUDO</td>\n",
       "      <td>600 - CORTE, ENFRIAMIENTO &amp; APILADO</td>\n",
       "      <td>ELÉCTRICO</td>\n",
       "      <td>2025-01-13</td>\n",
       "      <td>16:35:00</td>\n",
       "      <td>16:39:00</td>\n",
       "      <td>600.631 SIERRA DIAGONAL</td>\n",
       "      <td>FALLA CONTACTOR - ELC</td>\n",
       "      <td>Se va a fallo la sierra diagonal, los electron...</td>\n",
       "      <td>4.0</td>\n",
       "      <td>3</td>\n",
       "      <td>9</td>\n",
       "      <td>152687</td>\n",
       "    </tr>\n",
       "    <tr>\n",
       "      <th>115</th>\n",
       "      <td>CRUDO</td>\n",
       "      <td>600 - CORTE, ENFRIAMIENTO &amp; APILADO</td>\n",
       "      <td>ELÉCTRICO</td>\n",
       "      <td>2025-01-13</td>\n",
       "      <td>16:40:00</td>\n",
       "      <td>17:03:00</td>\n",
       "      <td>600.631 SIERRA DIAGONAL</td>\n",
       "      <td>FALLA CONTACTOR - ELC</td>\n",
       "      <td>Evacuación de tbalero</td>\n",
       "      <td>23.0</td>\n",
       "      <td>3</td>\n",
       "      <td>9</td>\n",
       "      <td>152687</td>\n",
       "    </tr>\n",
       "    <tr>\n",
       "      <th>116</th>\n",
       "      <td>CRUDO</td>\n",
       "      <td>100 - ALIMENTACION &amp; CLASIFICACION ASTILLA</td>\n",
       "      <td>PRODUCCIÓN</td>\n",
       "      <td>2025-01-13</td>\n",
       "      <td>17:52:00</td>\n",
       "      <td>18:09:00</td>\n",
       "      <td>100.112 MAGNETO ANTES DE PRESTIMING BIN</td>\n",
       "      <td>FALTA DE MATERIA PRIMA - PRO</td>\n",
       "      <td>Se pierde nivel de la prestiming bind debido a...</td>\n",
       "      <td>17.0</td>\n",
       "      <td>3</td>\n",
       "      <td>9</td>\n",
       "      <td>152687</td>\n",
       "    </tr>\n",
       "  </tbody>\n",
       "</table>\n",
       "<p>99 rows × 13 columns</p>\n",
       "</div>"
      ],
      "text/plain": [
       "     Linea                                     Proceso        Tipo Paro  \\\n",
       "0    CRUDO                                500 - PRENSA  PARO PROGRAMADO   \n",
       "3    CRUDO                                500 - PRENSA  PARO PROGRAMADO   \n",
       "4    CRUDO       400 - FORMACION, PRE-PRENSADO & CORTE       PRODUCCIÓN   \n",
       "6    CRUDO         600 - CORTE, ENFRIAMIENTO & APILADO       PRODUCCIÓN   \n",
       "7    CRUDO                                500 - PRENSA       PRODUCCIÓN   \n",
       "..     ...                                         ...              ...   \n",
       "112                                                                       \n",
       "113  CRUDO       400 - FORMACION, PRE-PRENSADO & CORTE        ELÉCTRICO   \n",
       "114  CRUDO         600 - CORTE, ENFRIAMIENTO & APILADO        ELÉCTRICO   \n",
       "115  CRUDO         600 - CORTE, ENFRIAMIENTO & APILADO        ELÉCTRICO   \n",
       "116  CRUDO  100 - ALIMENTACION & CLASIFICACION ASTILLA       PRODUCCIÓN   \n",
       "\n",
       "     Fecha Paro Hora Inicial Hora Final  \\\n",
       "0    2025-01-01     21:00:00   05:00:00   \n",
       "3    2025-01-02     21:00:00   19:46:00   \n",
       "4    2025-01-02     20:02:00   20:09:00   \n",
       "6    2025-01-02     20:15:00   20:31:00   \n",
       "7    2025-01-03     21:05:00   21:16:00   \n",
       "..          ...          ...        ...   \n",
       "112  2025-01-13     12:29:00   12:32:00   \n",
       "113  2025-01-13     13:00:00   15:18:00   \n",
       "114  2025-01-13     16:35:00   16:39:00   \n",
       "115  2025-01-13     16:40:00   17:03:00   \n",
       "116  2025-01-13     17:52:00   18:09:00   \n",
       "\n",
       "                          Descripción Equipo                   Modo de Fallo  \\\n",
       "0             ALTO NIVEL DE INVENTARIO - PGR  ALTO NIVEL DE INVENTARIO - PGR   \n",
       "3                   500 PRENSA DIEFFENBACHER             MTTO  GENERAL - PGR   \n",
       "4                  400 FORMACION Y PREPRENSA         VARIACION HUMEDAD - PRO   \n",
       "6                    600.631 SIERRA DIAGONAL         TABLERO EXPLOTADO - PRO   \n",
       "7                   500 PRENSA DIEFFENBACHER          SENSOR OBSTRUIDO - PRO   \n",
       "..                                       ...                             ...   \n",
       "112                                      NaN                             NaN   \n",
       "113              400.406 SCALPER (RASURADOR)           FALLA CONTACTOR - ELC   \n",
       "114                  600.631 SIERRA DIAGONAL           FALLA CONTACTOR - ELC   \n",
       "115                  600.631 SIERRA DIAGONAL           FALLA CONTACTOR - ELC   \n",
       "116  100.112 MAGNETO ANTES DE PRESTIMING BIN    FALTA DE MATERIA PRIMA - PRO   \n",
       "\n",
       "                                           Obversación  Tiempo Parada  Turno  \\\n",
       "0                            Paro programado de planta          480.0      3   \n",
       "3    Arranque de línea de crudo. Se corrigen condic...          406.0      3   \n",
       "4                  Se abrea nariz y se evacúa la fibra            6.0      3   \n",
       "6    Se pierdesecuencia en la sierra diagonal debid...           16.0      3   \n",
       "7     Sensor de cadena lado de operación de la cadena            11.0      1   \n",
       "..                                                 ...            ...    ...   \n",
       "112                                                NaN            3.0      3   \n",
       "113  Se recibe turno con línea detenida por bunker ...          138.0      3   \n",
       "114  Se va a fallo la sierra diagonal, los electron...            4.0      3   \n",
       "115                             Evacuación de tbalero            23.0      3   \n",
       "116  Se pierde nivel de la prestiming bind debido a...           17.0      3   \n",
       "\n",
       "      Calibre Columna1  \n",
       "0         NaN      NaN  \n",
       "3    11 TAPAS   152426  \n",
       "4    11 TAPAS   152426  \n",
       "6    11 TAPAS   152426  \n",
       "7           9   152433  \n",
       "..        ...      ...  \n",
       "112         9   152687  \n",
       "113         9   152687  \n",
       "114         9   152687  \n",
       "115         9   152687  \n",
       "116         9   152687  \n",
       "\n",
       "[99 rows x 13 columns]"
      ]
     },
     "execution_count": 8,
     "metadata": {},
     "output_type": "execute_result"
    }
   ],
   "source": [
    "list_dropped_idx_rows=[]\n",
    "for date_ar in dates_ar:\n",
    "    print(date_ar)\n",
    "    df_seeker=df_ar.loc[df_ar[\"Fecha Paro\"]==date_ar] #filter by date\n",
    "    rows_df_seeker=df_seeker.index #get idx of df for current date\n",
    "    last_row=rows_df_seeker[-1] #to avoid out of range\n",
    "    print(last_row)\n",
    "    for row in rows_df_seeker:\n",
    "        print(row)\n",
    "        if row==last_row:\n",
    "            continue #jump to next date\n",
    "        if df_seeker.at[row,\"Hora Final\"]==df_seeker.at[row+1,\"Hora Inicial\"]:\n",
    "            list_dropped_idx_rows.append(row+1) #add idx to be dropped\n",
    "    print(\"idxs to drop are {}\".format(list_dropped_idx_rows))\n",
    "df_ar.drop(list_dropped_idx_rows,inplace=True) #drop selected rows for current date\n",
    "df_ar"
   ]
  },
  {
   "cell_type": "code",
   "execution_count": 9,
   "id": "ce7aad78-7626-438e-aac9-decdcdf7f9f8",
   "metadata": {},
   "outputs": [
    {
     "data": {
      "text/plain": [
       "array([ 1,  3, 14,  2,  6,  9, 11,  6,  1, 19, 11,  4, 12])"
      ]
     },
     "execution_count": 9,
     "metadata": {},
     "output_type": "execute_result"
    }
   ],
   "source": [
    "amt_apertura_nariz=df_ar.groupby(dates_col_name_ar).count().T.iloc[0] #for each production stop there is an apertura de nariz and take those values\n",
    "amt_apertura_nariz=np.array(amt_apertura_nariz) #agsin amt of aperturas per day on array of numpy\n",
    "amt_apertura_nariz"
   ]
  },
  {
   "cell_type": "code",
   "execution_count": 10,
   "id": "3df176b8-a391-4149-a5d2-8465d45c7758",
   "metadata": {
    "scrolled": true
   },
   "outputs": [
    {
     "data": {
      "text/html": [
       "<div>\n",
       "<style scoped>\n",
       "    .dataframe tbody tr th:only-of-type {\n",
       "        vertical-align: middle;\n",
       "    }\n",
       "\n",
       "    .dataframe tbody tr th {\n",
       "        vertical-align: top;\n",
       "    }\n",
       "\n",
       "    .dataframe thead th {\n",
       "        text-align: right;\n",
       "    }\n",
       "</style>\n",
       "<table border=\"1\" class=\"dataframe\">\n",
       "  <thead>\n",
       "    <tr style=\"text-align: right;\">\n",
       "      <th></th>\n",
       "      <th>Notas movimiento</th>\n",
       "    </tr>\n",
       "  </thead>\n",
       "  <tbody>\n",
       "    <tr>\n",
       "      <th>0</th>\n",
       "      <td>causa no especifica</td>\n",
       "    </tr>\n",
       "    <tr>\n",
       "      <th>1</th>\n",
       "      <td>ALTO CALIBRE</td>\n",
       "    </tr>\n",
       "    <tr>\n",
       "      <th>2</th>\n",
       "      <td>BAJO CALIBRE</td>\n",
       "    </tr>\n",
       "    <tr>\n",
       "      <th>3</th>\n",
       "      <td>ALTO CALIBRE</td>\n",
       "    </tr>\n",
       "    <tr>\n",
       "      <th>4</th>\n",
       "      <td>ALTO CALIBRE</td>\n",
       "    </tr>\n",
       "    <tr>\n",
       "      <th>5</th>\n",
       "      <td>BAJO CALIBRE</td>\n",
       "    </tr>\n",
       "    <tr>\n",
       "      <th>6</th>\n",
       "      <td>AMPOLLADAS</td>\n",
       "    </tr>\n",
       "    <tr>\n",
       "      <th>7</th>\n",
       "      <td>AMPOLLADAS</td>\n",
       "    </tr>\n",
       "    <tr>\n",
       "      <th>8</th>\n",
       "      <td>AMPOLLADAS</td>\n",
       "    </tr>\n",
       "    <tr>\n",
       "      <th>9</th>\n",
       "      <td>ALTO CALIBRE</td>\n",
       "    </tr>\n",
       "    <tr>\n",
       "      <th>10</th>\n",
       "      <td>AMPOLLADAS</td>\n",
       "    </tr>\n",
       "    <tr>\n",
       "      <th>11</th>\n",
       "      <td>ALTO CALIBRE</td>\n",
       "    </tr>\n",
       "    <tr>\n",
       "      <th>12</th>\n",
       "      <td>AMPOLLADAS</td>\n",
       "    </tr>\n",
       "    <tr>\n",
       "      <th>13</th>\n",
       "      <td>ALTO CALIBRE</td>\n",
       "    </tr>\n",
       "    <tr>\n",
       "      <th>14</th>\n",
       "      <td>AMPOLLADAS</td>\n",
       "    </tr>\n",
       "    <tr>\n",
       "      <th>15</th>\n",
       "      <td>BAJO CALIBRE</td>\n",
       "    </tr>\n",
       "    <tr>\n",
       "      <th>16</th>\n",
       "      <td>ALTO CALIBRE</td>\n",
       "    </tr>\n",
       "    <tr>\n",
       "      <th>17</th>\n",
       "      <td>BAJO CALIBRE</td>\n",
       "    </tr>\n",
       "    <tr>\n",
       "      <th>18</th>\n",
       "      <td>causa no especifica</td>\n",
       "    </tr>\n",
       "    <tr>\n",
       "      <th>19</th>\n",
       "      <td>ALTO CALIBRE</td>\n",
       "    </tr>\n",
       "    <tr>\n",
       "      <th>20</th>\n",
       "      <td>BAJO CALIBRE</td>\n",
       "    </tr>\n",
       "    <tr>\n",
       "      <th>21</th>\n",
       "      <td>ALTO CALIBRE</td>\n",
       "    </tr>\n",
       "    <tr>\n",
       "      <th>22</th>\n",
       "      <td>BAJO CALIBRE</td>\n",
       "    </tr>\n",
       "    <tr>\n",
       "      <th>23</th>\n",
       "      <td>MALTRATO</td>\n",
       "    </tr>\n",
       "  </tbody>\n",
       "</table>\n",
       "</div>"
      ],
      "text/plain": [
       "       Notas movimiento\n",
       "0   causa no especifica\n",
       "1          ALTO CALIBRE\n",
       "2          BAJO CALIBRE\n",
       "3          ALTO CALIBRE\n",
       "4          ALTO CALIBRE\n",
       "5          BAJO CALIBRE\n",
       "6            AMPOLLADAS\n",
       "7            AMPOLLADAS\n",
       "8            AMPOLLADAS\n",
       "9          ALTO CALIBRE\n",
       "10           AMPOLLADAS\n",
       "11         ALTO CALIBRE\n",
       "12           AMPOLLADAS\n",
       "13         ALTO CALIBRE\n",
       "14           AMPOLLADAS\n",
       "15         BAJO CALIBRE\n",
       "16         ALTO CALIBRE\n",
       "17         BAJO CALIBRE\n",
       "18  causa no especifica\n",
       "19         ALTO CALIBRE\n",
       "20         BAJO CALIBRE\n",
       "21         ALTO CALIBRE\n",
       "22         BAJO CALIBRE\n",
       "23             MALTRATO"
      ]
     },
     "execution_count": 10,
     "metadata": {},
     "output_type": "execute_result"
    }
   ],
   "source": [
    "data_pointer=\"causa_rechazos\" #start with df with rejected panels number per day and cause\n",
    "df=dict_data_pointer[data_pointer] #mask causa_rechazos with df alias\n",
    "dates_col_name=\"Fecha\" #date col on causa_rechazos\n",
    "cause_col_name=\"Notas movimiento\" #rejected causes col name\n",
    "nan_causes=\"causa no especifica\" #str to replace nans on rejected causes col name\n",
    "df.loc[:,[cause_col_name]]=df.loc[:,[cause_col_name]].fillna(value=nan_causes) #particular cleasing for causa_rechazos df; fill not specified rejected causes\n",
    "df.loc[:,[cause_col_name]]"
   ]
  },
  {
   "cell_type": "markdown",
   "id": "5f5e666a-3642-4d05-80b2-0be7ed28d25d",
   "metadata": {},
   "source": [
    "### New approach:\n",
    "* Drop date col on causa rechazos and replace w/ str date col\n",
    "* Convert str to datetime to make call correctly"
   ]
  },
  {
   "cell_type": "code",
   "execution_count": 11,
   "id": "d7fd84d0-d670-41d4-94df-b3720c4bd5ce",
   "metadata": {
    "scrolled": true
   },
   "outputs": [
    {
     "data": {
      "text/plain": [
       "1     2025-01-03\n",
       "2     2025-01-03\n",
       "3     2025-01-03\n",
       "4     2025-01-04\n",
       "5     2025-01-04\n",
       "6     2025-01-05\n",
       "7     2025-01-05\n",
       "8     2025-01-06\n",
       "9     2025-01-06\n",
       "10    2025-01-06\n",
       "11    2025-01-06\n",
       "12    2025-01-07\n",
       "13    2025-01-07\n",
       "14    2025-01-07\n",
       "15    2025-01-07\n",
       "16    2025-01-07\n",
       "17    2025-01-07\n",
       "18    2025-01-08\n",
       "19    2025-01-08\n",
       "20    2025-01-08\n",
       "21    2025-01-10\n",
       "22    2025-01-10\n",
       "23    2025-01-10\n",
       "Name: Fecha, dtype: object"
      ]
     },
     "execution_count": 11,
     "metadata": {},
     "output_type": "execute_result"
    }
   ],
   "source": [
    "df.loc[:,dates_col_name]=df.loc[:,dates_col_name].astype('str').apply(lambda x: x.split(\" \")[0]) #remove hh:mm:ss from date\n",
    "try: #attemp to drop cummulative total row\n",
    "    df=df.loc[1:,:] #drop first row cause is a total row\n",
    "except:\n",
    "    pass\n",
    "df.reindex(range(len(df)))\n",
    "df[dates_col_name]"
   ]
  },
  {
   "cell_type": "code",
   "execution_count": 12,
   "id": "2f8805c2-0f4d-4451-b4fa-e67337e66344",
   "metadata": {},
   "outputs": [],
   "source": [
    "ignored_articles=[\"de\",\"s\",\"-\"] #+#articles to remove for cause name-->make basic cause labelling"
   ]
  },
  {
   "cell_type": "code",
   "execution_count": 13,
   "id": "dab6afb5-f6f9-4e31-96c6-a037ab679964",
   "metadata": {},
   "outputs": [],
   "source": [
    "def remove_specific_chars(string=None):\n",
    "    new_cause_basic_name=string\n",
    "    nan_causes=\"causa no especifica\" #str to replace nans on rejected causes col name\n",
    "    ignored_articles=[\"de\",\"s\",\"-\"] #+#articles to remove for cause name-->make basic cause labelling\n",
    "    ignored_digits=[str(number) for number in range(9+1)] #list to remove numbers from string\n",
    "    for ignored_article in ignored_articles:\n",
    "        if string==nan_causes: #do not remove chars on nan_causes\n",
    "            continue\n",
    "        new_cause_basic_name=new_cause_basic_name.replace(ignored_article,\"\") #remove articles from cause name\n",
    "        new_cause_basic_name=\" \".join(new_cause_basic_name.split()) #remove spaces\n",
    "        new_cause_basic_name=\"\".join([i for i in new_cause_basic_name if not i.isdigit()])\n",
    "        print(new_cause_basic_name)\n",
    "    return new_cause_basic_name"
   ]
  },
  {
   "cell_type": "code",
   "execution_count": 14,
   "id": "c9a20eec-74d8-4be4-a35b-723b5015dff4",
   "metadata": {
    "scrolled": true
   },
   "outputs": [
    {
     "name": "stdout",
     "output_type": "stream",
     "text": [
      "alto calibre\n",
      "alto calibre\n",
      "alto calibre\n",
      "bajo calibre\n",
      "bajo calibre\n",
      "bajo calibre\n",
      "ampolladas\n",
      "ampollada\n",
      "ampollada\n",
      "maltrato\n",
      "maltrato\n",
      "maltrato\n"
     ]
    },
    {
     "data": {
      "text/plain": [
       "(['2025-01-03',\n",
       "  '2025-01-04',\n",
       "  '2025-01-05',\n",
       "  '2025-01-06',\n",
       "  '2025-01-07',\n",
       "  '2025-01-08',\n",
       "  '2025-01-10'],\n",
       " ['alto calibre',\n",
       "  'ampollada',\n",
       "  'bajo calibre',\n",
       "  'causa no especifica',\n",
       "  'maltrato'])"
      ]
     },
     "execution_count": 14,
     "metadata": {},
     "output_type": "execute_result"
    }
   ],
   "source": [
    "causes=[str(i).lower() for i in df[cause_col_name].unique()] #day causes on lower case\n",
    "for idx_cause,cause in enumerate(causes): #run through causes and idx from 0-len(causes)\n",
    "    causes[idx_cause]=remove_specific_chars(string=cause) #\" \".join(new_cause_basic_name.split()) #clean str for extra spaces\n",
    "causes=list(set(causes)) #get unique instances of causes (not duplicates on causes), sorted alpha descending\n",
    "time_stamp_dates=list([ i for i in [ df.loc[ :, dates_col_name].unique() ][::-1] ][0]) #get dates as time_stamps\n",
    "#dates = [str(j).split(\" \")[0] for j in time_stamp_dates]  # dates to convert each time stamp to str and remove hh:mm:ss info\n",
    "dates=sorted(time_stamp_dates) #sorted dates aperturas ascending\n",
    "causes=sorted(causes)\n",
    "dates,causes"
   ]
  },
  {
   "cell_type": "markdown",
   "id": "c9183133-3aa8-45f3-8ad0-9ebb6dc3614f",
   "metadata": {},
   "source": [
    "### Unique ID color for every cause"
   ]
  },
  {
   "cell_type": "code",
   "execution_count": 15,
   "id": "e6725aae-95df-4b5a-a5d3-be9f3987a379",
   "metadata": {
    "scrolled": true
   },
   "outputs": [
    {
     "data": {
      "text/html": [
       "<div>\n",
       "<style scoped>\n",
       "    .dataframe tbody tr th:only-of-type {\n",
       "        vertical-align: middle;\n",
       "    }\n",
       "\n",
       "    .dataframe tbody tr th {\n",
       "        vertical-align: top;\n",
       "    }\n",
       "\n",
       "    .dataframe thead th {\n",
       "        text-align: right;\n",
       "    }\n",
       "</style>\n",
       "<table border=\"1\" class=\"dataframe\">\n",
       "  <thead>\n",
       "    <tr style=\"text-align: right;\">\n",
       "      <th></th>\n",
       "      <th>variations</th>\n",
       "      <th>acronyms</th>\n",
       "      <th>color</th>\n",
       "    </tr>\n",
       "    <tr>\n",
       "      <th>idx</th>\n",
       "      <th></th>\n",
       "      <th></th>\n",
       "      <th></th>\n",
       "    </tr>\n",
       "  </thead>\n",
       "  <tbody>\n",
       "    <tr>\n",
       "      <th>0</th>\n",
       "      <td>[\"explotado\",\"explotada\"]</td>\n",
       "      <td>[]</td>\n",
       "      <td>'1'</td>\n",
       "    </tr>\n",
       "    <tr>\n",
       "      <th>1</th>\n",
       "      <td>[\"alto calibre\"]</td>\n",
       "      <td>[\"a.c\"]</td>\n",
       "      <td>'2'</td>\n",
       "    </tr>\n",
       "    <tr>\n",
       "      <th>2</th>\n",
       "      <td>[\"bajo calibre\"]</td>\n",
       "      <td>[\"b.c\"]</td>\n",
       "      <td>'3'</td>\n",
       "    </tr>\n",
       "    <tr>\n",
       "      <th>3</th>\n",
       "      <td>[\"retencion\"]</td>\n",
       "      <td>[]</td>\n",
       "      <td>'4'</td>\n",
       "    </tr>\n",
       "    <tr>\n",
       "      <th>4</th>\n",
       "      <td>[\"maltratado\",\"maltratada\",\"maltrato\"]</td>\n",
       "      <td>[]</td>\n",
       "      <td>'4'</td>\n",
       "    </tr>\n",
       "    <tr>\n",
       "      <th>5</th>\n",
       "      <td>[\"mancha\",\"manchada\",\"manchado\"]</td>\n",
       "      <td>[]</td>\n",
       "      <td>'5'</td>\n",
       "    </tr>\n",
       "    <tr>\n",
       "      <th>6</th>\n",
       "      <td>[\"falta de curado\"]</td>\n",
       "      <td>[\"f.c\";\"f.curado\"]</td>\n",
       "      <td>'6'</td>\n",
       "    </tr>\n",
       "    <tr>\n",
       "      <th>7</th>\n",
       "      <td>[\"ampollado\",\"ampollada\"]</td>\n",
       "      <td>[]</td>\n",
       "      <td>'7'</td>\n",
       "    </tr>\n",
       "    <tr>\n",
       "      <th>8</th>\n",
       "      <td>[\"master panel corto\"]</td>\n",
       "      <td>[\"m.p corto\";\"m.p.c\"]</td>\n",
       "      <td>'8'</td>\n",
       "    </tr>\n",
       "    <tr>\n",
       "      <th>9</th>\n",
       "      <td>[\"causa no especifica\"]</td>\n",
       "      <td>[]</td>\n",
       "      <td>'9'</td>\n",
       "    </tr>\n",
       "  </tbody>\n",
       "</table>\n",
       "</div>"
      ],
      "text/plain": [
       "                                 variations               acronyms color\n",
       "idx                                                                     \n",
       "0                 [\"explotado\",\"explotada\"]                     []   '1'\n",
       "1                          [\"alto calibre\"]                [\"a.c\"]   '2'\n",
       "2                          [\"bajo calibre\"]                [\"b.c\"]   '3'\n",
       "3                             [\"retencion\"]                     []   '4'\n",
       "4    [\"maltratado\",\"maltratada\",\"maltrato\"]                     []   '4'\n",
       "5          [\"mancha\",\"manchada\",\"manchado\"]                     []   '5'\n",
       "6                       [\"falta de curado\"]     [\"f.c\";\"f.curado\"]   '6'\n",
       "7                 [\"ampollado\",\"ampollada\"]                     []   '7'\n",
       "8                    [\"master panel corto\"]  [\"m.p corto\";\"m.p.c\"]   '8'\n",
       "9                   [\"causa no especifica\"]                     []   '9'"
      ]
     },
     "execution_count": 15,
     "metadata": {},
     "output_type": "execute_result"
    }
   ],
   "source": [
    "colors_id_path=Path.joinpath(directory,\"valid_causes_rejected_panels.txt\")\n",
    "causes_colors_df = pd.read_csv(colors_id_path, sep=\",\",index_col=0,header=0,on_bad_lines='skip')\n",
    "causes_colors_df[\"variations\"]=causes_colors_df[\"variations\"].apply(lambda x:x.replace(\";\",\",\"))\n",
    "causes_colors_df"
   ]
  },
  {
   "cell_type": "markdown",
   "id": "db3bad73-8cd0-4ef9-8e76-164c8933cae5",
   "metadata": {},
   "source": [
    "# In case rejected causes is empty:\n",
    "* generate dummy causes, all current valid causes from df of valid causes"
   ]
  },
  {
   "cell_type": "code",
   "execution_count": 16,
   "id": "5b9e6471-75c9-44cf-8bf1-450db6cb7e69",
   "metadata": {},
   "outputs": [
    {
     "data": {
      "text/plain": [
       "['alto calibre',\n",
       " 'ampollada',\n",
       " 'bajo calibre',\n",
       " 'causa no especifica',\n",
       " 'maltrato']"
      ]
     },
     "execution_count": 16,
     "metadata": {},
     "output_type": "execute_result"
    }
   ],
   "source": [
    "if len(causes)<1: #causes list is empty\n",
    "    causes=[eval(element)[0] for element in list(causes_colors_df.loc[:,list(causes_colors_df.columns)[0]].values)]\n",
    "causes"
   ]
  },
  {
   "cell_type": "markdown",
   "id": "eb82d48c-21e6-4a81-b0ab-94098c962473",
   "metadata": {},
   "source": [
    "## Dates check\n",
    "* for now, aperturas de nariz file contains dates that are missing on causa rechazos file"
   ]
  },
  {
   "cell_type": "code",
   "execution_count": 17,
   "id": "24fec173-8ac2-48bd-aa74-a5d3c781d922",
   "metadata": {
    "scrolled": true
   },
   "outputs": [
    {
     "name": "stdin",
     "output_type": "stream",
     "text": [
      " True\n"
     ]
    },
    {
     "name": "stdout",
     "output_type": "stream",
     "text": [
      "0\n",
      "current date of apertures  2025-01-01\n",
      "current dates of causas rechazos  ['2025-01-03', '2025-01-04', '2025-01-05', '2025-01-06', '2025-01-07', '2025-01-08', '2025-01-10']\n",
      "2025-01-01 of apertures not in ['2025-01-03', '2025-01-04', '2025-01-05', '2025-01-06', '2025-01-07', '2025-01-08', '2025-01-10']\n",
      "nueva lista de fechas para causa rechazos  ['2025-01-01', '2025-01-03', '2025-01-04', '2025-01-05', '2025-01-06', '2025-01-07', '2025-01-08', '2025-01-10']\n",
      "1\n",
      "current date of apertures  2025-01-02\n",
      "current dates of causas rechazos  ['2025-01-01', '2025-01-03', '2025-01-04', '2025-01-05', '2025-01-06', '2025-01-07', '2025-01-08', '2025-01-10']\n",
      "2025-01-02 of apertures not in ['2025-01-01', '2025-01-03', '2025-01-04', '2025-01-05', '2025-01-06', '2025-01-07', '2025-01-08', '2025-01-10']\n",
      "nueva lista de fechas para causa rechazos  ['2025-01-01', '2025-01-02', '2025-01-03', '2025-01-04', '2025-01-05', '2025-01-06', '2025-01-07', '2025-01-08', '2025-01-10']\n",
      "2\n",
      "current date of apertures  2025-01-03\n",
      "current dates of causas rechazos  ['2025-01-01', '2025-01-02', '2025-01-03', '2025-01-04', '2025-01-05', '2025-01-06', '2025-01-07', '2025-01-08', '2025-01-10']\n",
      "3\n",
      "current date of apertures  2025-01-04\n",
      "current dates of causas rechazos  ['2025-01-01', '2025-01-02', '2025-01-03', '2025-01-04', '2025-01-05', '2025-01-06', '2025-01-07', '2025-01-08', '2025-01-10']\n",
      "4\n",
      "current date of apertures  2025-01-05\n",
      "current dates of causas rechazos  ['2025-01-01', '2025-01-02', '2025-01-03', '2025-01-04', '2025-01-05', '2025-01-06', '2025-01-07', '2025-01-08', '2025-01-10']\n",
      "5\n",
      "current date of apertures  2025-01-06\n",
      "current dates of causas rechazos  ['2025-01-01', '2025-01-02', '2025-01-03', '2025-01-04', '2025-01-05', '2025-01-06', '2025-01-07', '2025-01-08', '2025-01-10']\n",
      "6\n",
      "current date of apertures  2025-01-07\n",
      "current dates of causas rechazos  ['2025-01-01', '2025-01-02', '2025-01-03', '2025-01-04', '2025-01-05', '2025-01-06', '2025-01-07', '2025-01-08', '2025-01-10']\n",
      "7\n",
      "current date of apertures  2025-01-08\n",
      "current dates of causas rechazos  ['2025-01-01', '2025-01-02', '2025-01-03', '2025-01-04', '2025-01-05', '2025-01-06', '2025-01-07', '2025-01-08', '2025-01-10']\n",
      "8\n",
      "current date of apertures  2025-01-09\n",
      "current dates of causas rechazos  ['2025-01-01', '2025-01-02', '2025-01-03', '2025-01-04', '2025-01-05', '2025-01-06', '2025-01-07', '2025-01-08', '2025-01-10']\n",
      "2025-01-09 of apertures not in ['2025-01-01', '2025-01-02', '2025-01-03', '2025-01-04', '2025-01-05', '2025-01-06', '2025-01-07', '2025-01-08', '2025-01-10']\n",
      "nueva lista de fechas para causa rechazos  ['2025-01-01', '2025-01-02', '2025-01-03', '2025-01-04', '2025-01-05', '2025-01-06', '2025-01-07', '2025-01-08', '2025-01-09', '2025-01-10']\n",
      "9\n",
      "current date of apertures  2025-01-10\n",
      "current dates of causas rechazos  ['2025-01-01', '2025-01-02', '2025-01-03', '2025-01-04', '2025-01-05', '2025-01-06', '2025-01-07', '2025-01-08', '2025-01-09', '2025-01-10']\n",
      "10\n",
      "current date of apertures  2025-01-11\n",
      "current dates of causas rechazos  ['2025-01-01', '2025-01-02', '2025-01-03', '2025-01-04', '2025-01-05', '2025-01-06', '2025-01-07', '2025-01-08', '2025-01-09', '2025-01-10']\n",
      "2025-01-11 of apertures not in ['2025-01-01', '2025-01-02', '2025-01-03', '2025-01-04', '2025-01-05', '2025-01-06', '2025-01-07', '2025-01-08', '2025-01-09', '2025-01-10']\n",
      "nueva lista de fechas para causa rechazos  ['2025-01-01', '2025-01-02', '2025-01-03', '2025-01-04', '2025-01-05', '2025-01-06', '2025-01-07', '2025-01-08', '2025-01-09', '2025-01-10', '2025-01-11']\n",
      "11\n",
      "current date of apertures  2025-01-12\n",
      "current dates of causas rechazos  ['2025-01-01', '2025-01-02', '2025-01-03', '2025-01-04', '2025-01-05', '2025-01-06', '2025-01-07', '2025-01-08', '2025-01-09', '2025-01-10', '2025-01-11']\n",
      "2025-01-12 of apertures not in ['2025-01-01', '2025-01-02', '2025-01-03', '2025-01-04', '2025-01-05', '2025-01-06', '2025-01-07', '2025-01-08', '2025-01-09', '2025-01-10', '2025-01-11']\n",
      "nueva lista de fechas para causa rechazos  ['2025-01-01', '2025-01-02', '2025-01-03', '2025-01-04', '2025-01-05', '2025-01-06', '2025-01-07', '2025-01-08', '2025-01-09', '2025-01-10', '2025-01-11', '2025-01-12']\n",
      "12\n",
      "current date of apertures  2025-01-13\n",
      "current dates of causas rechazos  ['2025-01-01', '2025-01-02', '2025-01-03', '2025-01-04', '2025-01-05', '2025-01-06', '2025-01-07', '2025-01-08', '2025-01-09', '2025-01-10', '2025-01-11', '2025-01-12']\n",
      "2025-01-13 of apertures not in ['2025-01-01', '2025-01-02', '2025-01-03', '2025-01-04', '2025-01-05', '2025-01-06', '2025-01-07', '2025-01-08', '2025-01-09', '2025-01-10', '2025-01-11', '2025-01-12']\n",
      "nueva lista de fechas para causa rechazos  ['2025-01-01', '2025-01-02', '2025-01-03', '2025-01-04', '2025-01-05', '2025-01-06', '2025-01-07', '2025-01-08', '2025-01-09', '2025-01-10', '2025-01-11', '2025-01-12', '2025-01-13']\n"
     ]
    },
    {
     "data": {
      "text/plain": [
       "True"
      ]
     },
     "execution_count": 17,
     "metadata": {},
     "output_type": "execute_result"
    }
   ],
   "source": [
    "while dates_ar!=dates and eval(input()): # [:len(dates)]\n",
    "    for date_ar_idx,date_ar in enumerate( dates_ar ): #run through dates of aperturas\n",
    "        print(date_ar_idx)\n",
    "        print(\"current date of apertures \",date_ar)\n",
    "        print(\"current dates of causas rechazos \",dates)\n",
    "        if date_ar not in dates: #replace current dates with dates of aperturas de nariz: non missing dates current file\n",
    "            print(\"{} of apertures not in {}\".format(date_ar,dates))\n",
    "            dates.insert(date_ar_idx,date_ar)\n",
    "            print(\"nueva lista de fechas para causa rechazos \",dates)\n",
    "dates==dates_ar"
   ]
  },
  {
   "cell_type": "markdown",
   "id": "740231ae-69f3-4cb7-8c8c-70924dc9b014",
   "metadata": {},
   "source": [
    "# Generate data to plotting"
   ]
  },
  {
   "cell_type": "code",
   "execution_count": 18,
   "id": "86cbf7cb-1b8a-4c13-94af-ea4c960735ec",
   "metadata": {
    "scrolled": true
   },
   "outputs": [
    {
     "data": {
      "text/plain": [
       "{'2025-01-01': [0, 0, 0, 0, 0],\n",
       " '2025-01-02': [0, 0, 0, 0, 0],\n",
       " '2025-01-03': [0, 0, 0, 0, 0],\n",
       " '2025-01-04': [0, 0, 0, 0, 0],\n",
       " '2025-01-05': [0, 0, 0, 0, 0],\n",
       " '2025-01-06': [0, 0, 0, 0, 0],\n",
       " '2025-01-07': [0, 0, 0, 0, 0],\n",
       " '2025-01-08': [0, 0, 0, 0, 0],\n",
       " '2025-01-09': [0, 0, 0, 0, 0],\n",
       " '2025-01-10': [0, 0, 0, 0, 0],\n",
       " '2025-01-11': [0, 0, 0, 0, 0],\n",
       " '2025-01-12': [0, 0, 0, 0, 0],\n",
       " '2025-01-13': [0, 0, 0, 0, 0]}"
      ]
     },
     "execution_count": 18,
     "metadata": {},
     "output_type": "execute_result"
    }
   ],
   "source": [
    "weight_counts={i:[0]*len(causes) for i in dates} #make dict to store panel per cause per day\n",
    "weight_counts"
   ]
  },
  {
   "cell_type": "markdown",
   "id": "cd6a91a6-c211-4732-bf96-574c9214dd6f",
   "metadata": {},
   "source": [
    "# TODO\n",
    "* apply directive to clean classifications and search correctly on causa rechazos"
   ]
  },
  {
   "cell_type": "code",
   "execution_count": 19,
   "id": "d5123ddc-e3de-40bf-aa51-a0ee850d139d",
   "metadata": {
    "scrolled": true
   },
   "outputs": [
    {
     "name": "stdout",
     "output_type": "stream",
     "text": [
      "2025-01-01 <class 'str'>\n",
      "Fecha Notas movimiento\n",
      "2025-01-02 <class 'str'>\n",
      "Fecha Notas movimiento\n",
      "2025-01-03 <class 'str'>\n",
      "Fecha Notas movimiento\n",
      "alto calibre\n",
      "alto calibre\n",
      "alto calibre\n",
      "alto calibre:4\n",
      "bajo calibre\n",
      "bajo calibre\n",
      "bajo calibre\n",
      "alto calibre\n",
      "alto calibre\n",
      "alto calibre\n",
      "bajo calibre\n",
      "bajo calibre\n",
      "bajo calibre\n",
      "alto calibre\n",
      "alto calibre\n",
      "alto calibre\n",
      "bajo calibre\n",
      "bajo calibre\n",
      "bajo calibre\n",
      "bajo calibre:4\n",
      "alto calibre\n",
      "alto calibre\n",
      "alto calibre\n",
      "bajo calibre\n",
      "bajo calibre\n",
      "bajo calibre\n",
      "alto calibre\n",
      "alto calibre\n",
      "alto calibre\n",
      "bajo calibre\n",
      "bajo calibre\n",
      "bajo calibre\n",
      "2025-01-04 <class 'str'>\n",
      "Fecha Notas movimiento\n",
      "alto calibre\n",
      "alto calibre\n",
      "alto calibre\n",
      "alto calibre:3\n",
      "bajo calibre\n",
      "bajo calibre\n",
      "bajo calibre\n",
      "alto calibre\n",
      "alto calibre\n",
      "alto calibre\n",
      "bajo calibre\n",
      "bajo calibre\n",
      "bajo calibre\n",
      "alto calibre\n",
      "alto calibre\n",
      "alto calibre\n",
      "bajo calibre\n",
      "bajo calibre\n",
      "bajo calibre\n",
      "bajo calibre:6\n",
      "alto calibre\n",
      "alto calibre\n",
      "alto calibre\n",
      "bajo calibre\n",
      "bajo calibre\n",
      "bajo calibre\n",
      "alto calibre\n",
      "alto calibre\n",
      "alto calibre\n",
      "bajo calibre\n",
      "bajo calibre\n",
      "bajo calibre\n",
      "2025-01-05 <class 'str'>\n",
      "Fecha Notas movimiento\n",
      "ampolladas\n",
      "ampollada\n",
      "ampollada\n",
      "ampolladas\n",
      "ampollada\n",
      "ampollada\n",
      "ampollada:50\n",
      "ampolladas\n",
      "ampollada\n",
      "ampollada\n",
      "ampolladas\n",
      "ampollada\n",
      "ampollada\n",
      "ampolladas\n",
      "ampollada\n",
      "ampollada\n",
      "2025-01-06 <class 'str'>\n",
      "Fecha Notas movimiento\n",
      "alto calibre\n",
      "alto calibre\n",
      "alto calibre\n",
      "alto calibre:12\n",
      "ampolladas\n",
      "ampollada\n",
      "ampollada\n",
      "alto calibre\n",
      "alto calibre\n",
      "alto calibre\n",
      "ampolladas\n",
      "ampollada\n",
      "ampollada\n",
      "ampollada:13\n",
      "alto calibre\n",
      "alto calibre\n",
      "alto calibre\n",
      "ampolladas\n",
      "ampollada\n",
      "ampollada\n",
      "alto calibre\n",
      "alto calibre\n",
      "alto calibre\n",
      "ampolladas\n",
      "ampollada\n",
      "ampollada\n",
      "alto calibre\n",
      "alto calibre\n",
      "alto calibre\n",
      "ampolladas\n",
      "ampollada\n",
      "ampollada\n",
      "2025-01-07 <class 'str'>\n",
      "Fecha Notas movimiento\n",
      "alto calibre\n",
      "alto calibre\n",
      "alto calibre\n",
      "alto calibre:10\n",
      "ampolladas\n",
      "ampollada\n",
      "ampollada\n",
      "bajo calibre\n",
      "bajo calibre\n",
      "bajo calibre\n",
      "alto calibre\n",
      "alto calibre\n",
      "alto calibre\n",
      "ampolladas\n",
      "ampollada\n",
      "ampollada\n",
      "ampollada:12\n",
      "bajo calibre\n",
      "bajo calibre\n",
      "bajo calibre\n",
      "alto calibre\n",
      "alto calibre\n",
      "alto calibre\n",
      "ampolladas\n",
      "ampollada\n",
      "ampollada\n",
      "bajo calibre\n",
      "bajo calibre\n",
      "bajo calibre\n",
      "bajo calibre:14\n",
      "alto calibre\n",
      "alto calibre\n",
      "alto calibre\n",
      "ampolladas\n",
      "ampollada\n",
      "ampollada\n",
      "bajo calibre\n",
      "bajo calibre\n",
      "bajo calibre\n",
      "alto calibre\n",
      "alto calibre\n",
      "alto calibre\n",
      "ampolladas\n",
      "ampollada\n",
      "ampollada\n",
      "bajo calibre\n",
      "bajo calibre\n",
      "bajo calibre\n",
      "2025-01-08 <class 'str'>\n",
      "Fecha Notas movimiento\n",
      "alto calibre\n",
      "alto calibre\n",
      "alto calibre\n",
      "alto calibre:16\n",
      "bajo calibre\n",
      "bajo calibre\n",
      "bajo calibre\n",
      "alto calibre\n",
      "alto calibre\n",
      "alto calibre\n",
      "bajo calibre\n",
      "bajo calibre\n",
      "bajo calibre\n",
      "alto calibre\n",
      "alto calibre\n",
      "alto calibre\n",
      "bajo calibre\n",
      "bajo calibre\n",
      "bajo calibre\n",
      "bajo calibre:3\n",
      "alto calibre\n",
      "alto calibre\n",
      "alto calibre\n",
      "bajo calibre\n",
      "bajo calibre\n",
      "bajo calibre\n",
      "causa no especifica:2\n",
      "alto calibre\n",
      "alto calibre\n",
      "alto calibre\n",
      "bajo calibre\n",
      "bajo calibre\n",
      "bajo calibre\n",
      "2025-01-09 <class 'str'>\n",
      "Fecha Notas movimiento\n",
      "2025-01-10 <class 'str'>\n",
      "Fecha Notas movimiento\n",
      "alto calibre\n",
      "alto calibre\n",
      "alto calibre\n",
      "alto calibre:11\n",
      "bajo calibre\n",
      "bajo calibre\n",
      "bajo calibre\n",
      "maltrato\n",
      "maltrato\n",
      "maltrato\n",
      "alto calibre\n",
      "alto calibre\n",
      "alto calibre\n",
      "bajo calibre\n",
      "bajo calibre\n",
      "bajo calibre\n",
      "maltrato\n",
      "maltrato\n",
      "maltrato\n",
      "alto calibre\n",
      "alto calibre\n",
      "alto calibre\n",
      "bajo calibre\n",
      "bajo calibre\n",
      "bajo calibre\n",
      "bajo calibre:11\n",
      "maltrato\n",
      "maltrato\n",
      "maltrato\n",
      "alto calibre\n",
      "alto calibre\n",
      "alto calibre\n",
      "bajo calibre\n",
      "bajo calibre\n",
      "bajo calibre\n",
      "maltrato\n",
      "maltrato\n",
      "maltrato\n",
      "alto calibre\n",
      "alto calibre\n",
      "alto calibre\n",
      "bajo calibre\n",
      "bajo calibre\n",
      "bajo calibre\n",
      "maltrato\n",
      "maltrato\n",
      "maltrato\n",
      "maltrato:3\n",
      "2025-01-11 <class 'str'>\n",
      "Fecha Notas movimiento\n",
      "2025-01-12 <class 'str'>\n",
      "Fecha Notas movimiento\n",
      "2025-01-13 <class 'str'>\n",
      "Fecha Notas movimiento\n"
     ]
    },
    {
     "data": {
      "text/plain": [
       "{'2025-01-01': [0, 0, 0, 0, 0],\n",
       " '2025-01-02': [0, 0, 0, 0, 0],\n",
       " '2025-01-03': [4, 0, 4, 0, 0],\n",
       " '2025-01-04': [3, 0, 6, 0, 0],\n",
       " '2025-01-05': [0, 50, 0, 0, 0],\n",
       " '2025-01-06': [12, 13, 0, 0, 0],\n",
       " '2025-01-07': [10, 12, 14, 0, 0],\n",
       " '2025-01-08': [16, 0, 3, 2, 0],\n",
       " '2025-01-09': [0, 0, 0, 0, 0],\n",
       " '2025-01-10': [11, 0, 11, 0, 3],\n",
       " '2025-01-11': [0, 0, 0, 0, 0],\n",
       " '2025-01-12': [0, 0, 0, 0, 0],\n",
       " '2025-01-13': [0, 0, 0, 0, 0]}"
      ]
     },
     "execution_count": 19,
     "metadata": {},
     "output_type": "execute_result"
    }
   ],
   "source": [
    "name_of_rejected_panels_col=\"Salidas (inv.)\" #actual name of rejected panels col-->start completion of panel per cause per day\n",
    "for date in dates: #run through dates\n",
    "    try: #------->try to search by respective date. except: date not in cause rechazos, generate a date entry on weight counts with all causes on 0<-----------\n",
    "        print(date, type(date))\n",
    "        print(date_col,cause_col_name)\n",
    "        df_cols_date_search=df.loc[:,:\"Notas movimiento\"].groupby([date_col,cause_col_name]).sum().T.loc[:,date] #total amt of panels per cause, per date\n",
    "    except: #ValueError:\n",
    "        #print(ValueError)\n",
    "        continue #next iteration, current date with all 0s on causes\n",
    "    cols_date_search_causes=df_cols_date_search.columns #causes col names for current date filter\n",
    "    for cause,z in zip(causes,range(len(causes))): # run through causes and idx from 0-len(causes)\n",
    "        for current_date_cause in cols_date_search_causes: # # run through causes per day\n",
    "            current_cause=current_date_cause.lower() #apply lower case convertion\n",
    "            current_cause=remove_specific_chars(string=current_cause) #cause on current df, remove articles to basic cause name\n",
    "            if cause in current_cause: #cause match case: if cause in current cause per day, \n",
    "                panels_per_cause=df_cols_date_search[current_date_cause].T[name_of_rejected_panels_col] #get panels rejected by current cause\n",
    "                print(f\"{cause}:\"+str(panels_per_cause)) #print cause and panels\n",
    "                weight_counts[date][z]=panels_per_cause #store on dict date:\n",
    "    #print(date)\n",
    "weight_counts"
   ]
  },
  {
   "cell_type": "code",
   "execution_count": 20,
   "id": "aab6354c-70e0-4a72-9911-e6023e8d787b",
   "metadata": {
    "scrolled": true
   },
   "outputs": [
    {
     "data": {
      "text/plain": [
       "{'alto calibre': array([ 0.,  0.,  4.,  3.,  0., 12., 10., 16.,  0., 11.,  0.,  0.,  0.]),\n",
       " 'ampollada': array([ 0.,  0.,  0.,  0., 50., 13., 12.,  0.,  0.,  0.,  0.,  0.,  0.]),\n",
       " 'bajo calibre': array([ 0.,  0.,  4.,  6.,  0.,  0., 14.,  3.,  0., 11.,  0.,  0.,  0.]),\n",
       " 'causa no especifica': array([0., 0., 0., 0., 0., 0., 0., 2., 0., 0., 0., 0., 0.]),\n",
       " 'maltrato': array([0., 0., 0., 0., 0., 0., 0., 0., 0., 3., 0., 0., 0.])}"
      ]
     },
     "execution_count": 20,
     "metadata": {},
     "output_type": "execute_result"
    }
   ],
   "source": [
    "construc_data_to_stacked=list(weight_counts.items()) #get keys and values of weight_counts\n",
    "array_rejected_panels_per_cause_per_day=np.zeros((len(causes),len(dates))) #make array of zeros to replace data from rows as cols\n",
    "for i in range(len(construc_data_to_stacked)): # run through idx from 0-len(amt of dates)\n",
    "    array_rejected_panels_per_cause_per_day[:,i]=np.array(construc_data_to_stacked[i][-1]).T #take panels values, transpose and store on array of rejected panels\n",
    "weight_count_causes={i:array_rejected_panels_per_cause_per_day[j,:] for i,j in zip(causes, range(len(causes)))} #reconstruct weight counts: keys as causes, rows rejected panels per specific cause per day\n",
    "weight_count_causes"
   ]
  },
  {
   "cell_type": "code",
   "execution_count": 21,
   "id": "7ddbba97-ed2a-4aa2-a92a-548f745ea68c",
   "metadata": {
    "scrolled": true
   },
   "outputs": [
    {
     "data": {
      "text/plain": [
       "[[' ', ' ', '4', '3', ' ', '12', '10', '16', ' ', '11', ' ', ' ', ' '],\n",
       " [' ', ' ', ' ', ' ', '50', '13', '12', ' ', ' ', ' ', ' ', ' ', ' '],\n",
       " [' ', ' ', '4', '6', ' ', ' ', '14', '3', ' ', '11', ' ', ' ', ' '],\n",
       " [' ', ' ', ' ', ' ', ' ', ' ', ' ', '2', ' ', ' ', ' ', ' ', ' '],\n",
       " [' ', ' ', ' ', ' ', ' ', ' ', ' ', ' ', ' ', '3', ' ', ' ', ' ']]"
      ]
     },
     "execution_count": 21,
     "metadata": {},
     "output_type": "execute_result"
    }
   ],
   "source": [
    "bar_cause_labels=[[]]*len(causes) #make labels to display on rectangle bar data: inside rectangle to do not display 0 values\n",
    "for bar_values,bar_idx,cause in zip(bar_cause_labels,range(len(causes)),causes): #run through bbar_cause_labels and idx from 0-len(causes) and causes\n",
    "    bar_values=[str(int(weight_count_causes[cause][i])).replace(\"0\",\" \") if len( str(int(weight_count_causes[cause][i])) )<2 else str(int(weight_count_causes[cause][i])) for i in range(len(dates)) ] #replace 0 only values with \" \" #\n",
    "    bar_cause_labels[bar_idx]=bar_values #agsin rectangle value\n",
    "bar_cause_labels"
   ]
  },
  {
   "cell_type": "markdown",
   "id": "e3eb4073-4396-479f-ac56-e92e8874a312",
   "metadata": {},
   "source": [
    "# TODO\n",
    "* organizar orden de stacked bar para mostrar primero las causas con más paneles rechazados"
   ]
  },
  {
   "cell_type": "code",
   "execution_count": 22,
   "id": "fa532741-a5ae-4c08-b908-e51175fe30aa",
   "metadata": {},
   "outputs": [
    {
     "data": {
      "text/plain": [
       "{'tab:blue': '#1f77b4',\n",
       " 'tab:orange': '#ff7f0e',\n",
       " 'tab:green': '#2ca02c',\n",
       " 'tab:red': '#d62728',\n",
       " 'tab:purple': '#9467bd',\n",
       " 'tab:brown': '#8c564b',\n",
       " 'tab:pink': '#e377c2',\n",
       " 'tab:gray': '#7f7f7f',\n",
       " 'tab:olive': '#bcbd22',\n",
       " 'tab:cyan': '#17becf'}"
      ]
     },
     "execution_count": 22,
     "metadata": {},
     "output_type": "execute_result"
    }
   ],
   "source": [
    "colors_available=mcolors.TABLEAU_COLORS\n",
    "colors_available"
   ]
  },
  {
   "cell_type": "code",
   "execution_count": 23,
   "id": "d5efe30a-c8c8-4832-9e22-70a1d56407e3",
   "metadata": {
    "scrolled": true
   },
   "outputs": [
    {
     "data": {
      "text/plain": [
       "['tab:blue',\n",
       " 'tab:orange',\n",
       " 'tab:green',\n",
       " 'tab:red',\n",
       " 'tab:purple',\n",
       " 'tab:brown',\n",
       " 'tab:pink',\n",
       " 'tab:gray',\n",
       " 'tab:olive',\n",
       " 'tab:cyan']"
      ]
     },
     "execution_count": 23,
     "metadata": {},
     "output_type": "execute_result"
    }
   ],
   "source": [
    "colors_available_keys=list(colors_available)\n",
    "#colors_available_keys.remove('tab:olive')\n",
    "colors_available_keys"
   ]
  },
  {
   "cell_type": "code",
   "execution_count": 24,
   "id": "14ffa9b2-c487-443d-8552-1e378378f631",
   "metadata": {},
   "outputs": [
    {
     "data": {
      "text/plain": [
       "[2, 7, 3, 9, 4]"
      ]
     },
     "execution_count": 24,
     "metadata": {},
     "output_type": "execute_result"
    }
   ],
   "source": [
    "causes_color_idxs=[]\n",
    "for j in range(len(causes)):\n",
    "    for i in range(len(causes_colors_df)):\n",
    "        if causes[j] in causes_colors_df[\"variations\"][i]:\n",
    "            causes_color_idxs.append(int(eval(causes_colors_df.at[i,\"color\"])))\n",
    "causes_color_idxs"
   ]
  },
  {
   "cell_type": "code",
   "execution_count": 25,
   "id": "feda3c09-1379-49cc-a2c9-43a352575b8e",
   "metadata": {
    "scrolled": true
   },
   "outputs": [
    {
     "data": {
      "text/plain": [
       "{'alto calibre': 'tab:green',\n",
       " 'ampollada': 'tab:gray',\n",
       " 'bajo calibre': 'tab:red',\n",
       " 'causa no especifica': 'tab:cyan',\n",
       " 'maltrato': 'tab:purple'}"
      ]
     },
     "execution_count": 25,
     "metadata": {},
     "output_type": "execute_result"
    }
   ],
   "source": [
    "colors_choosen={cause:colors_available_keys[idx_color] for cause,idx_color in zip(causes,causes_color_idxs)}\n",
    "colors_choosen"
   ]
  },
  {
   "cell_type": "code",
   "execution_count": 26,
   "id": "00a1dd39-ea4e-490f-b84a-7cbf87376eb7",
   "metadata": {},
   "outputs": [],
   "source": [
    "fontsz=12 #define font size of plot components\n",
    "matplotlib.rcParams.update({'font.size': fontsz}) #update font size for plot components of matplotlib"
   ]
  },
  {
   "cell_type": "code",
   "execution_count": 27,
   "id": "6c173634-e8b1-4a43-bf66-7f1921fd1933",
   "metadata": {},
   "outputs": [
    {
     "data": {
      "image/png": "[encoded data removed]",
      "text/plain": [
       "<Figure size 640x480 with 2 Axes>"
      ]
     },
     "metadata": {},
     "output_type": "display_data"
    }
   ],
   "source": [
    "fig, ax = plt.subplots()\n",
    "fig.tight_layout()  # Adjust layout to prevent clipping of labels\n",
    "#fig.set_figheight(8)\n",
    "#fig.set_size_inches(50, 40) #set plot size\n",
    "#plot aperturas\n",
    "amt_dates=len(dates)\n",
    "bottom = np.zeros(amt_dates) #initial axis for stacked bars plotting\n",
    "plt.grid() #make grid mesh\n",
    "max_bottom=0 #to store max of bottoms in construction of bar\n",
    "for (data_label,weight_count),bar_value_stick,color_cause in zip(weight_count_causes.items(),bar_cause_labels,colors_choosen.values()): #run through dates, rejected per cause per dates, labels of values of rejected per cause per day \n",
    "    p = ax.bar(dates, weight_count, label=data_label, bottom=bottom,color=color_cause) #take bar plot elements: rectangle(attribute 1, attribute 2, ...)\n",
    "    bottom += weight_count #make new start to plot next top rectangle\n",
    "    check_bottom=np.max(bottom)\n",
    "    if check_bottom>max_bottom:\n",
    "        max_bottom=check_bottom #to generate ylim of causas rechazos\n",
    "    ax.bar_label(p, labels=bar_value_stick, label_type='center',color=\"black\",padding=0) #add bar height str value on bar center\n",
    "leq=ax.legend(loc=\"best\") #generate legend box for bar plot\n",
    "# Get the bounding box of the original legend\n",
    "bb = leq.get_bbox_to_anchor().transformed(ax.transAxes.inverted()) \n",
    "# Change to location of the legend. \n",
    "xOffset = -1.2\n",
    "bb.x0 += xOffset\n",
    "bb.x1 += xOffset*(1.05)\n",
    "leq.set_bbox_to_anchor(bb, transform = ax.transAxes)\n",
    "amt_xticks=range(len(dates))\n",
    "ax.set_xticks(amt_xticks)\n",
    "ax.set_xticklabels(dates,rotation=90) #rotate x axis labels 90º to be displayed vertically\n",
    "ax.set_xlabel(dates_col_name) #name of bar plot x axis\n",
    "rejected_panels_values=np.array(list(weight_counts.values()))\n",
    "max_y_axis=np.max(rejected_panels_values) #get max of all data\n",
    "ax.set_yticks(np.arange(0, max_y_axis+max_bottom, 2)) #set y axis label values: axis pitch=10 unds\n",
    "ax.set_ylabel(\"Cantidad de rechazos [-]\") #y axis name for bar plot\n",
    "ax.set_aspect('auto')\n",
    "#plot aperturas\n",
    "ax_ar = ax.twiny() #copy bar plot element to plot easily amt of aperturas de nariz\n",
    "ax_ar.sharex(ax)\n",
    "amt_xticks_ar=range(len(dates))\n",
    "ax_ar.set_xticks(amt_xticks_ar)\n",
    "ax_ar.set_xticklabels(dates_ar,rotation=90) #rotate x axis labels 90º to be displayed vertically\n",
    "ax_ar.set_xlabel(dates_col_name_ar) #name of bar plot x axis\n",
    "ax_ar.plot(amt_apertura_nariz,label=\"Aperturas de nariz\",linewidth=fontsz/5,linestyle='dashed',color=\"b\",marker=\".\",\n",
    "        markersize=fontsz/2,markerfacecolor='red') #plot aperturas de nariz by day\n",
    "ax_ar.set_xticklabels(dates_ar,rotation=90)\n",
    "leq_ar=ax_ar.legend(loc=\"upper right\") #move legend box of aperturas to left to not cover bar plot legend box #bbox_to_anchor=(0.7, 1),\n",
    "# Get the bounding box of the original legend\n",
    "bb_ar = leq_ar.get_bbox_to_anchor().transformed(ax.transAxes.inverted()) \n",
    "# Change to location of the legend. \n",
    "xOffset = 0.6\n",
    "bb_ar.x0 += xOffset\n",
    "bb_ar.x1 += xOffset*(1.05)\n",
    "leq_ar.set_bbox_to_anchor(bb_ar, transform = ax.transAxes)\n",
    "secax_y2 = ax_ar.secondary_yaxis(\"right\", functions=(lambda x: x, lambda x: x)) #make new y axis for aperturas\n",
    "secax_y2.set_ylabel(\"Aperturas de nairz [-]\",color='b') #change color of y axis to blue\n",
    "max_aperturas=np.max(amt_apertura_nariz) #to set max lim of aperturas y axis\n",
    "secax_y2.set_yticks(np.arange(0, max_aperturas*(1.4), 2)) #change y axis limits and pitch to 5\n",
    "ax_ar.set_aspect('auto')\n",
    "imgs_folder=\"/imgs_reports_daily\" #str with name to save plots\n",
    "imgs_type_folder=\"/qty_rejecteds_apertures\"\n",
    "imgs_year_folder=f\"/year_{dates[0].split(\"-\")[0]}\"\n",
    "imgs_month_folder=f\"/month_{dates[0].split(\"-\")[1]}\"\n",
    "img_name=\"/fail_modes_Qty_rechazos\" #name of img file\n",
    "str_today=datetime.today().strftime('%Y-%m-%d') #asign date of generation\n",
    "plt.title(\"Causas y Número de Rechazos por día/ Aperturas de nariz por día\") #make title\n",
    "directory_to_save = Path(str(directory)+imgs_folder+imgs_type_folder+imgs_year_folder+imgs_month_folder) # get directory to save plot\n",
    "directory_to_save.mkdir(exist_ok=True)\n",
    "plt.savefig(str(directory_to_save)+img_name+dates[0]+\"_\"+dates_ar[-1]+\"_\"+str_today+\".png\", bbox_inches='tight') #store img plot\n",
    "plt.show()"
   ]
  },
  {
   "cell_type": "code",
   "execution_count": 28,
   "id": "1c0e9f33-71dc-4045-a460-5fc2ab4d36c4",
   "metadata": {
    "scrolled": true
   },
   "outputs": [],
   "source": [
    "df_to_export=pd.concat([df, df_ar], axis=1) #merge dfs to store data as old queries"
   ]
  },
  {
   "cell_type": "code",
   "execution_count": 29,
   "id": "471eaad8-0cb4-4f85-9f5d-fb3cb53367d9",
   "metadata": {},
   "outputs": [],
   "source": [
    "df_to_export.to_excel(str(directory)+f\"/old_queries/{data_pointer}_{data_pointer_ar}_\"+dates[0]+\"_\"+dates_ar[-1]+\".xlsx\") #save current query to old_queries"
   ]
  },
  {
   "cell_type": "markdown",
   "id": "38a3daa4-7394-4c1d-9519-1fd08a2196ea",
   "metadata": {},
   "source": [
    "# Plot with sorted stacked bars\n",
    "* make innner outter index data frame, sort by inner index (causes)"
   ]
  },
  {
   "cell_type": "code",
   "execution_count": 30,
   "id": "5818c7d1-3d7a-4d5c-970e-a13979dba196",
   "metadata": {
    "scrolled": true
   },
   "outputs": [
    {
     "data": {
      "text/plain": [
       "'times=[]\\nfor i in dates:\\n    for j in range(len(causes)):\\n        times.append(i)\\ntimes_causes_array=[times,causes*len(dates)]\\ntimes_causes_array'"
      ]
     },
     "execution_count": 30,
     "metadata": {},
     "output_type": "execute_result"
    }
   ],
   "source": [
    "\"\"\"times=[]\n",
    "for i in dates:\n",
    "    for j in range(len(causes)):\n",
    "        times.append(i)\n",
    "times_causes_array=[times,causes*len(dates)]\n",
    "times_causes_array\"\"\""
   ]
  },
  {
   "cell_type": "code",
   "execution_count": 31,
   "id": "c570d407-8385-497f-93a4-7df163206e3c",
   "metadata": {},
   "outputs": [
    {
     "data": {
      "text/plain": [
       "'data=np.array(list(weight_count_causes.values())).T.flatten()\\ndata.shape'"
      ]
     },
     "execution_count": 31,
     "metadata": {},
     "output_type": "execute_result"
    }
   ],
   "source": [
    "\"\"\"data=np.array(list(weight_count_causes.values())).T.flatten()\n",
    "data.shape\"\"\""
   ]
  },
  {
   "cell_type": "code",
   "execution_count": 32,
   "id": "5d50f10a-519d-4821-9980-eec1a202f142",
   "metadata": {},
   "outputs": [
    {
     "data": {
      "text/plain": [
       "'s=pd.Series(data, index=times_causes_array)'"
      ]
     },
     "execution_count": 32,
     "metadata": {},
     "output_type": "execute_result"
    }
   ],
   "source": [
    "\"\"\"s=pd.Series(data, index=times_causes_array)\"\"\""
   ]
  },
  {
   "cell_type": "code",
   "execution_count": 33,
   "id": "cdf8a775-ebe1-4186-91b7-80433ccfe124",
   "metadata": {},
   "outputs": [
    {
     "data": {
      "text/plain": [
       "'s1=s.groupby(level=[0]).apply(lambda x:x.groupby(level=[1]).sum().sort_values(ascending=True))\\ns1'"
      ]
     },
     "execution_count": 33,
     "metadata": {},
     "output_type": "execute_result"
    }
   ],
   "source": [
    "\"\"\"s1=s.groupby(level=[0]).apply(lambda x:x.groupby(level=[1]).sum().sort_values(ascending=True))\n",
    "s1\"\"\""
   ]
  },
  {
   "cell_type": "code",
   "execution_count": 34,
   "id": "59b488ff-670b-43f6-87fc-44bb45dcb1f7",
   "metadata": {},
   "outputs": [
    {
     "data": {
      "text/plain": [
       "'s1.unstack().plot.bar(stacked=True)'"
      ]
     },
     "execution_count": 34,
     "metadata": {},
     "output_type": "execute_result"
    }
   ],
   "source": [
    "\"\"\"s1.unstack().plot.bar(stacked=True)\"\"\""
   ]
  },
  {
   "cell_type": "code",
   "execution_count": 35,
   "id": "97421da7-f121-465c-96b2-a84547c9ab47",
   "metadata": {
    "scrolled": true
   },
   "outputs": [
    {
     "data": {
      "text/plain": [
       "'data,idxs=weight_count_causes.values(),weight_count_causes.keys()\\n\\ndata=pd.DataFrame(index=idxs,data=data,columns=dates).T\\ndata.plot.bar()'"
      ]
     },
     "execution_count": 35,
     "metadata": {},
     "output_type": "execute_result"
    }
   ],
   "source": [
    "\"\"\"data,idxs=weight_count_causes.values(),weight_count_causes.keys()\n",
    "\n",
    "data=pd.DataFrame(index=idxs,data=data,columns=dates).T\n",
    "data.plot.bar()\"\"\""
   ]
  },
  {
   "cell_type": "markdown",
   "id": "76241150-3907-4ea3-ab4d-285e6c4a6323",
   "metadata": {},
   "source": [
    "# Export notebook to make .py script"
   ]
  },
  {
   "cell_type": "code",
   "execution_count": 30,
   "id": "294fe2dc-1398-4588-8a40-dfbdda1d7e02",
   "metadata": {
    "scrolled": true
   },
   "outputs": [
    {
     "name": "stderr",
     "output_type": "stream",
     "text": [
      "[NbConvertApp] Converting notebook bar_plot_rejected_per_cause_per_day_aperturas_nariz_per_day.ipynb to script\n",
      "[NbConvertApp] Writing 17296 bytes to bar_plot_rejected_per_cause_per_day_aperturas_nariz_per_day.py\n"
     ]
    }
   ],
   "source": [
    "!jupyter nbconvert --to script bar_plot_rejected_per_cause_per_day_aperturas_nariz_per_day.ipynb"
   ]
  }
 ],
 "metadata": {
  "kernelspec": {
   "display_name": "Python 3 (ipykernel)",
   "language": "python",
   "name": "python3"
  },
  "language_info": {
   "codemirror_mode": {
    "name": "ipython",
    "version": 3
   },
   "file_extension": ".py",
   "mimetype": "text/x-python",
   "name": "python",
   "nbconvert_exporter": "python",
   "pygments_lexer": "ipython3",
   "version": "3.12.8"
  }
 },
 "nbformat": 4,
 "nbformat_minor": 5
}
