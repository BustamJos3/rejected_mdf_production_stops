{
 "cells": [
  {
   "cell_type": "code",
   "execution_count": 3,
   "id": "a2ecb6e5-7aaa-4fd5-9e3c-7a3792823ad0",
   "metadata": {},
   "outputs": [
    {
     "name": "stdout",
     "output_type": "stream",
     "text": [
      "✅ 'Enter' key pressed successfully!\n",
      "✅ 'Enter' key pressed successfully!\n",
      "✅ Text 'Dexco2024...' entered successfully!\n",
      "✅ 'Enter' key pressed successfully!\n",
      "✅ Text 'jdbustamante' entered successfully!\n",
      "✅ Text 'Dexco2024...' entered successfully!\n",
      "✅ 'Enter' key pressed successfully!\n"
     ]
    },
    {
     "ename": "KeyboardInterrupt",
     "evalue": "",
     "output_type": "error",
     "traceback": [
      "\u001b[1;31m---------------------------------------------------------------------------\u001b[0m",
      "\u001b[1;31mKeyboardInterrupt\u001b[0m                         Traceback (most recent call last)",
      "Cell \u001b[1;32mIn[3], line 58\u001b[0m\n\u001b[0;32m     56\u001b[0m time\u001b[38;5;241m.\u001b[39msleep(\u001b[38;5;241m5\u001b[39m)\n\u001b[0;32m     57\u001b[0m pyautogui\u001b[38;5;241m.\u001b[39mhotkey(\u001b[38;5;124m\"\u001b[39m\u001b[38;5;124malt\u001b[39m\u001b[38;5;124m\"\u001b[39m,\u001b[38;5;124m\"\u001b[39m\u001b[38;5;124mc\u001b[39m\u001b[38;5;124m\"\u001b[39m)\n\u001b[1;32m---> 58\u001b[0m \u001b[43mtime\u001b[49m\u001b[38;5;241;43m.\u001b[39;49m\u001b[43msleep\u001b[49m\u001b[43m(\u001b[49m\u001b[38;5;241;43m5\u001b[39;49m\u001b[43m)\u001b[49m\n\u001b[0;32m     59\u001b[0m pyautogui\u001b[38;5;241m.\u001b[39mhotkey(\u001b[38;5;124m\"\u001b[39m\u001b[38;5;124malt\u001b[39m\u001b[38;5;124m\"\u001b[39m, \u001b[38;5;124m\"\u001b[39m\u001b[38;5;124mco\u001b[39m\u001b[38;5;124m\"\u001b[39m)\n",
      "\u001b[1;31mKeyboardInterrupt\u001b[0m: "
     ]
    }
   ],
   "source": [
    "import time\n",
    "import pyautogui\n",
    "import os\n",
    "\n",
    "shortcut_path = os.path.join(os.environ[\"USERPROFILE\"], \"Desktop\", \"ElementalPro.lnk\")\n",
    "os.startfile(shortcut_path)\n",
    "\n",
    "def press_enter_after_shortcut(delay_time=1):\n",
    "    \"\"\"\n",
    "    Waits for 3 seconds after executing the shortcut and then presses the Enter key.\n",
    "    \"\"\"\n",
    "    try:\n",
    "        # Wait for 3 seconds to allow the application to load\n",
    "        time.sleep(delay_time)\n",
    "\n",
    "        # Press the \"Enter\" key\n",
    "        pyautogui.press(\"enter\")\n",
    "\n",
    "        print(\"✅ 'Enter' key pressed successfully!\")\n",
    "\n",
    "    except Exception as e:\n",
    "        print(f\"❌ Error: {e}\")\n",
    "\n",
    "# Usage\n",
    "press_enter_after_shortcut()\n",
    "press_enter_after_shortcut(delay_time=8)\n",
    "\n",
    "def enter_text_in_field(text=\"None\",delay_time=0.1):\n",
    "    \"\"\"\n",
    "    Waits for 3 seconds after launching the application, presses Enter, and types the given text into the text field.\n",
    "    \n",
    "    Args:\n",
    "        text (str): The text to type into the available input field.\n",
    "    \"\"\"\n",
    "    try:\n",
    "        # Wait for 3 seconds to allow the application to load\n",
    "        time.sleep(delay_time)\n",
    "        # Type the given text into the input field\n",
    "        pyautogui.write(text)  # Adjust interval for natural typing speed\n",
    "\n",
    "        print(f\"✅ Text '{text}' entered successfully!\")\n",
    "\n",
    "    except Exception as e:\n",
    "        print(f\"❌ Error: {e}\")\n",
    "user=\"jdbustamante\"\n",
    "pswd=\"Dexco2024...\"\n",
    "enter_text_in_field(pswd)\n",
    "press_enter_after_shortcut() #initial log-in done\n",
    "#log-in main elemental window\n",
    "enter_text_in_field(text=user,delay_time=25) #wait 25 seconds to enter required credentials\n",
    "pyautogui.press(\"tab\") #to jump into pswd fielDexco2024...\n",
    "\n",
    "enter_text_in_field(text=pswd)\n",
    "press_enter_after_shortcut() #enter to make final log-in, all log-in done\n",
    "\"\"\"go to settings tab\"\"\"\n",
    "time.sleep(5)\n",
    "pyautogui.hotkey(\"alt\",\"c\")\n",
    "time.sleep(5)\n",
    "pyautogui.hotkey(\"alt\", \"co\")"
   ]
  }
 ],
 "metadata": {
  "kernelspec": {
   "display_name": "Python 3 (ipykernel)",
   "language": "python",
   "name": "python3"
  },
  "language_info": {
   "codemirror_mode": {
    "name": "ipython",
    "version": 3
   },
   "file_extension": ".py",
   "mimetype": "text/x-python",
   "name": "python",
   "nbconvert_exporter": "python",
   "pygments_lexer": "ipython3",
   "version": "3.12.8"
  }
 },
 "nbformat": 4,
 "nbformat_minor": 5
}
