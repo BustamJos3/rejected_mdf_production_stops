{
 "cells": [
  {
   "cell_type": "markdown",
   "id": "43a67f77-4776-4e64-91af-e97d7e213fc8",
   "metadata": {},
   "source": [
    "# positions of log-in elemental"
   ]
  },
  {
   "cell_type": "code",
   "execution_count": 1,
   "id": "e99c35b1-e049-4219-bece-d4fa09a559de",
   "metadata": {},
   "outputs": [],
   "source": [
    "import pyautogui\n",
    "import time\n",
    "import subprocess"
   ]
  },
  {
   "cell_type": "code",
   "execution_count": 13,
   "id": "a2ecb6e5-7aaa-4fd5-9e3c-7a3792823ad0",
   "metadata": {},
   "outputs": [
    {
     "name": "stdout",
     "output_type": "stream",
     "text": [
      "\n",
      "Coloca el cursor sobre 'reports_tab'. Iniciando conteo de 10 segundos...\n",
      "10 segundos restantes..."
     ]
    },
    {
     "name": "stdin",
     "output_type": "stream",
     "text": [
      "Presiona Enter para capturar ahora o escribe 'c' para continuar esperando:  c\n"
     ]
    },
    {
     "name": "stdout",
     "output_type": "stream",
     "text": [
      "9 segundos restantes..."
     ]
    },
    {
     "name": "stdin",
     "output_type": "stream",
     "text": [
      "Presiona Enter para capturar ahora o escribe 'c' para continuar esperando:  \n"
     ]
    },
    {
     "name": "stdout",
     "output_type": "stream",
     "text": [
      "Capturada posición de reports_tab: X=290, Y=64\n",
      "\n",
      "Coloca el cursor sobre 'reports_production'. Iniciando conteo de 10 segundos...\n",
      "10 segundos restantes..."
     ]
    },
    {
     "name": "stdin",
     "output_type": "stream",
     "text": [
      "Presiona Enter para capturar ahora o escribe 'c' para continuar esperando:  \n"
     ]
    },
    {
     "name": "stdout",
     "output_type": "stream",
     "text": [
      "Capturada posición de reports_production: X=30, Y=116\n",
      "\n",
      "Coloca el cursor sobre 'center'. Iniciando conteo de 10 segundos...\n",
      "10 segundos restantes..."
     ]
    },
    {
     "name": "stdin",
     "output_type": "stream",
     "text": [
      "Presiona Enter para capturar ahora o escribe 'c' para continuar esperando:  \n"
     ]
    },
    {
     "name": "stdout",
     "output_type": "stream",
     "text": [
      "Capturada posición de center: X=1016, Y=101\n",
      "\n",
      "Coloca el cursor sobre 'press_BAR'. Iniciando conteo de 10 segundos...\n",
      "10 segundos restantes..."
     ]
    },
    {
     "name": "stdin",
     "output_type": "stream",
     "text": [
      "Presiona Enter para capturar ahora o escribe 'c' para continuar esperando:  \n"
     ]
    },
    {
     "name": "stdout",
     "output_type": "stream",
     "text": [
      "Capturada posición de press_BAR: X=1041, Y=220\n",
      "\n",
      "Coloca el cursor sobre 'reports_administrator'. Iniciando conteo de 10 segundos...\n",
      "10 segundos restantes..."
     ]
    },
    {
     "name": "stdin",
     "output_type": "stream",
     "text": [
      "Presiona Enter para capturar ahora o escribe 'c' para continuar esperando:  \n"
     ]
    },
    {
     "name": "stdout",
     "output_type": "stream",
     "text": [
      "Capturada posición de reports_administrator: X=90, Y=118\n",
      "\n",
      "Coloca el cursor sobre 'raw_report'. Iniciando conteo de 10 segundos...\n",
      "10 segundos restantes..."
     ]
    },
    {
     "name": "stdin",
     "output_type": "stream",
     "text": [
      "Presiona Enter para capturar ahora o escribe 'c' para continuar esperando:  \n"
     ]
    },
    {
     "name": "stdout",
     "output_type": "stream",
     "text": [
      "Capturada posición de raw_report: X=115, Y=405\n",
      "\n",
      "Las posiciones han sido actualizadas en 'C:\\Users\\jdbustamante\\OneDrive - Duratex SA\\accessing_elemental_and_checks\\pos_relevant_elements_log_in.txt'.\n"
     ]
    }
   ],
   "source": [
    "import pyautogui\n",
    "import time\n",
    "\n",
    "# Ruta del archivo existente\n",
    "file_path = r\"C:\\Users\\jdbustamante\\OneDrive - Duratex SA\\accessing_elemental_and_checks\\pos_relevant_elements_log_in.txt\"\n",
    "\n",
    "# Leer los elementos y coordenadas existentes\n",
    "elements = []\n",
    "existing_data = {}\n",
    "\n",
    "with open(file_path, \"r\") as file:\n",
    "    lines = file.readlines()\n",
    "    for line in lines[1:]:  # Omitir encabezado\n",
    "        parts = line.strip().split()  # Separar por espacios\n",
    "        if len(parts) == 3:  # Si ya tiene coordenadas\n",
    "            existing_data[parts[0]] = (parts[1], parts[2])  # Guardar X, Y\n",
    "        elif len(parts) == 1:  # Si solo tiene el nombre del elemento\n",
    "            elements.append(parts[0])  # Agregar a lista de pendientes\n",
    "\n",
    "# Si no hay elementos pendientes, salir\n",
    "if not elements:\n",
    "    print(\"Todos los elementos ya tienen coordenadas registradas.\")\n",
    "    exit()\n",
    "\n",
    "# Abrir el archivo en modo escritura para actualizarlo\n",
    "with open(file_path, \"w\") as file:\n",
    "    file.write(\"element x_coor y_coor\\n\")  # Escribir encabezado\n",
    "\n",
    "    # Escribir los datos ya existentes\n",
    "    for element, coords in existing_data.items():\n",
    "        file.write(f\"{element} {coords[0]} {coords[1]}\\n\")\n",
    "\n",
    "    # Capturar coordenadas para los elementos que faltan\n",
    "    for element in elements:\n",
    "        print(f\"\\nColoca el cursor sobre '{element}'. Iniciando conteo de 10 segundos...\")\n",
    "\n",
    "        # Esperar 10 segundos con opción de continuar\n",
    "        for i in range(10, 0, -1):\n",
    "            print(f\"{i} segundos restantes...\", end=\"\\r\", flush=True)\n",
    "            time.sleep(1)\n",
    "            user_input = input(\"Presiona Enter para capturar ahora o escribe 'c' para continuar esperando: \").strip().lower()\n",
    "            if user_input == \"\":\n",
    "                break\n",
    "\n",
    "        # Capturar posición del cursor\n",
    "        x, y = pyautogui.position()\n",
    "        print(f\"Capturada posición de {element}: X={x}, Y={y}\")\n",
    "\n",
    "        # Guardar en el archivo\n",
    "        file.write(f\"{element} {x} {y}\\n\")\n",
    "\n",
    "print(f\"\\nLas posiciones han sido actualizadas en '{file_path}'.\")"
   ]
  }
 ],
 "metadata": {
  "kernelspec": {
   "display_name": "Python 3 (ipykernel)",
   "language": "python",
   "name": "python3"
  },
  "language_info": {
   "codemirror_mode": {
    "name": "ipython",
    "version": 3
   },
   "file_extension": ".py",
   "mimetype": "text/x-python",
   "name": "python",
   "nbconvert_exporter": "python",
   "pygments_lexer": "ipython3",
   "version": "3.12.8"
  }
 },
 "nbformat": 4,
 "nbformat_minor": 5
}
