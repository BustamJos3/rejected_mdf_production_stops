{
 "cells": [
  {
   "cell_type": "code",
   "execution_count": 26,
   "id": "71b067af-8b07-4329-a942-abfe878bc23e",
   "metadata": {},
   "outputs": [
    {
     "name": "stdout",
     "output_type": "stream",
     "text": [
      "Resumen: mantenimiento centrado confiabilidad mcc proceso busca preservar funciones sistema documento explica\n"
     ]
    }
   ],
   "source": [
    "from collections import Counter\n",
    "from nltk.corpus import stopwords\n",
    "from nltk.tokenize import sent_tokenize, word_tokenize\n",
    "\n",
    "def summarize_spanish_text_essentials(text, max_words=50):\n",
    "    \"\"\"\n",
    "    Summarize Spanish text by truncating sentences to only the essential words,\n",
    "    ensuring the summary does not exceed the specified word count.\n",
    "\n",
    "    Args:\n",
    "        text (str): The Spanish text to summarize.\n",
    "        max_words (int): The maximum number of words in the summary.\n",
    "\n",
    "    Returns:\n",
    "        str: The summarized Spanish text.\n",
    "    \"\"\"\n",
    "    try:\n",
    "        # Ensure text is not empty\n",
    "        if not text.strip():\n",
    "            return \"Error: Input text is empty.\"\n",
    "\n",
    "        # Tokenize sentences\n",
    "        sentences = sent_tokenize(text, language='spanish')\n",
    "\n",
    "        # Tokenize words and filter stopwords\n",
    "        stop_words = set(stopwords.words('spanish'))\n",
    "        essential_sentences = []\n",
    "\n",
    "        # Process each sentence to remove non-essential words\n",
    "        for sentence in sentences:\n",
    "            words = word_tokenize(sentence.lower(), language='spanish')\n",
    "            essential_words = [word for word in words if word.isalnum() and word not in stop_words]\n",
    "            essential_sentences.append(' '.join(essential_words))\n",
    "\n",
    "        # Combine sentences to stay within max_words limit\n",
    "        summary = []\n",
    "        word_count = 0\n",
    "\n",
    "        for sentence in essential_sentences:\n",
    "            sentence_word_count = len(sentence.split())\n",
    "            if word_count + sentence_word_count <= max_words:\n",
    "                summary.append(sentence)\n",
    "                word_count += sentence_word_count\n",
    "            else:\n",
    "                # Truncate the sentence to fit within max_words\n",
    "                remaining_words = max_words - word_count\n",
    "                if remaining_words > 0:\n",
    "                    summary.append(' '.join(sentence.split()[:remaining_words]))\n",
    "                break\n",
    "\n",
    "        return ' '.join(summary) if summary else \"Error: Unable to generate a summary within the word limit.\"\n",
    "\n",
    "    except Exception as e:\n",
    "        return f\"Error: {e}\"\n",
    "\n",
    "# Example usage\n",
    "if __name__ == \"__main__\":\n",
    "    spanish_text = \"\"\"El Mantenimiento Centrado en Confiabilidad (MCC) es un proceso que busca preservar las funciones del sistema. \n",
    "    Este documento explica los pasos necesarios para implementar un programa MCC exitoso, incluyendo análisis de modos de falla y estrategias de mantenimiento preventivo. \n",
    "    MCC ayuda a reducir los costos operativos y mejorar la confiabilidad general de los sistemas.\"\"\"\n",
    "    summary = summarize_spanish_text_essentials(spanish_text, max_words=11)\n",
    "    print(\"Resumen:\", summary)\n"
   ]
  }
 ],
 "metadata": {
  "kernelspec": {
   "display_name": "Python 3 (ipykernel)",
   "language": "python",
   "name": "python3"
  },
  "language_info": {
   "codemirror_mode": {
    "name": "ipython",
    "version": 3
   },
   "file_extension": ".py",
   "mimetype": "text/x-python",
   "name": "python",
   "nbconvert_exporter": "python",
   "pygments_lexer": "ipython3",
   "version": "3.12.8"
  }
 },
 "nbformat": 4,
 "nbformat_minor": 5
}
